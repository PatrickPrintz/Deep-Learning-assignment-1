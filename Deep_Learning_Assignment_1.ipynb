{
  "nbformat": 4,
  "nbformat_minor": 0,
  "metadata": {
    "colab": {
      "provenance": [],
      "gpuType": "T4"
    },
    "kernelspec": {
      "name": "python3",
      "display_name": "Python 3"
    },
    "language_info": {
      "name": "python"
    },
    "accelerator": "GPU",
    "widgets": {
      "application/vnd.jupyter.widget-state+json": {
        "8f2b566d6d8b46328fb86832eb9b02fc": {
          "model_module": "@jupyter-widgets/controls",
          "model_name": "HBoxModel",
          "model_module_version": "1.5.0",
          "state": {
            "_dom_classes": [],
            "_model_module": "@jupyter-widgets/controls",
            "_model_module_version": "1.5.0",
            "_model_name": "HBoxModel",
            "_view_count": null,
            "_view_module": "@jupyter-widgets/controls",
            "_view_module_version": "1.5.0",
            "_view_name": "HBoxView",
            "box_style": "",
            "children": [
              "IPY_MODEL_630b33a0394f4586bb0cfd8f8e4533f0",
              "IPY_MODEL_05160cc57cca4034b2b37d504445c0b2",
              "IPY_MODEL_8c242e030dee4c4fad009a6635fe84c9"
            ],
            "layout": "IPY_MODEL_5669645530b1489a955e2e4688fb116c"
          }
        },
        "630b33a0394f4586bb0cfd8f8e4533f0": {
          "model_module": "@jupyter-widgets/controls",
          "model_name": "HTMLModel",
          "model_module_version": "1.5.0",
          "state": {
            "_dom_classes": [],
            "_model_module": "@jupyter-widgets/controls",
            "_model_module_version": "1.5.0",
            "_model_name": "HTMLModel",
            "_view_count": null,
            "_view_module": "@jupyter-widgets/controls",
            "_view_module_version": "1.5.0",
            "_view_name": "HTMLView",
            "description": "",
            "description_tooltip": null,
            "layout": "IPY_MODEL_2495f9fe5a1540febaf9b08df3b67bca",
            "placeholder": "​",
            "style": "IPY_MODEL_0a6ba6f6e60546688ca0c199355810bb",
            "value": "100%"
          }
        },
        "05160cc57cca4034b2b37d504445c0b2": {
          "model_module": "@jupyter-widgets/controls",
          "model_name": "FloatProgressModel",
          "model_module_version": "1.5.0",
          "state": {
            "_dom_classes": [],
            "_model_module": "@jupyter-widgets/controls",
            "_model_module_version": "1.5.0",
            "_model_name": "FloatProgressModel",
            "_view_count": null,
            "_view_module": "@jupyter-widgets/controls",
            "_view_module_version": "1.5.0",
            "_view_name": "ProgressView",
            "bar_style": "success",
            "description": "",
            "description_tooltip": null,
            "layout": "IPY_MODEL_50be51afd9e44b589376b18b7910c763",
            "max": 10,
            "min": 0,
            "orientation": "horizontal",
            "style": "IPY_MODEL_ef48ad6d77ed4f088acb5d06d2b84e21",
            "value": 10
          }
        },
        "8c242e030dee4c4fad009a6635fe84c9": {
          "model_module": "@jupyter-widgets/controls",
          "model_name": "HTMLModel",
          "model_module_version": "1.5.0",
          "state": {
            "_dom_classes": [],
            "_model_module": "@jupyter-widgets/controls",
            "_model_module_version": "1.5.0",
            "_model_name": "HTMLModel",
            "_view_count": null,
            "_view_module": "@jupyter-widgets/controls",
            "_view_module_version": "1.5.0",
            "_view_name": "HTMLView",
            "description": "",
            "description_tooltip": null,
            "layout": "IPY_MODEL_d9c5d9bce1bf415897c6094b69126bc6",
            "placeholder": "​",
            "style": "IPY_MODEL_0ef3b8a19ed940f0aacb83e0b92aecf0",
            "value": " 10/10 [00:02&lt;00:00,  4.76epoch/s]"
          }
        },
        "5669645530b1489a955e2e4688fb116c": {
          "model_module": "@jupyter-widgets/base",
          "model_name": "LayoutModel",
          "model_module_version": "1.2.0",
          "state": {
            "_model_module": "@jupyter-widgets/base",
            "_model_module_version": "1.2.0",
            "_model_name": "LayoutModel",
            "_view_count": null,
            "_view_module": "@jupyter-widgets/base",
            "_view_module_version": "1.2.0",
            "_view_name": "LayoutView",
            "align_content": null,
            "align_items": null,
            "align_self": null,
            "border": null,
            "bottom": null,
            "display": null,
            "flex": null,
            "flex_flow": null,
            "grid_area": null,
            "grid_auto_columns": null,
            "grid_auto_flow": null,
            "grid_auto_rows": null,
            "grid_column": null,
            "grid_gap": null,
            "grid_row": null,
            "grid_template_areas": null,
            "grid_template_columns": null,
            "grid_template_rows": null,
            "height": null,
            "justify_content": null,
            "justify_items": null,
            "left": null,
            "margin": null,
            "max_height": null,
            "max_width": null,
            "min_height": null,
            "min_width": null,
            "object_fit": null,
            "object_position": null,
            "order": null,
            "overflow": null,
            "overflow_x": null,
            "overflow_y": null,
            "padding": null,
            "right": null,
            "top": null,
            "visibility": null,
            "width": null
          }
        },
        "2495f9fe5a1540febaf9b08df3b67bca": {
          "model_module": "@jupyter-widgets/base",
          "model_name": "LayoutModel",
          "model_module_version": "1.2.0",
          "state": {
            "_model_module": "@jupyter-widgets/base",
            "_model_module_version": "1.2.0",
            "_model_name": "LayoutModel",
            "_view_count": null,
            "_view_module": "@jupyter-widgets/base",
            "_view_module_version": "1.2.0",
            "_view_name": "LayoutView",
            "align_content": null,
            "align_items": null,
            "align_self": null,
            "border": null,
            "bottom": null,
            "display": null,
            "flex": null,
            "flex_flow": null,
            "grid_area": null,
            "grid_auto_columns": null,
            "grid_auto_flow": null,
            "grid_auto_rows": null,
            "grid_column": null,
            "grid_gap": null,
            "grid_row": null,
            "grid_template_areas": null,
            "grid_template_columns": null,
            "grid_template_rows": null,
            "height": null,
            "justify_content": null,
            "justify_items": null,
            "left": null,
            "margin": null,
            "max_height": null,
            "max_width": null,
            "min_height": null,
            "min_width": null,
            "object_fit": null,
            "object_position": null,
            "order": null,
            "overflow": null,
            "overflow_x": null,
            "overflow_y": null,
            "padding": null,
            "right": null,
            "top": null,
            "visibility": null,
            "width": null
          }
        },
        "0a6ba6f6e60546688ca0c199355810bb": {
          "model_module": "@jupyter-widgets/controls",
          "model_name": "DescriptionStyleModel",
          "model_module_version": "1.5.0",
          "state": {
            "_model_module": "@jupyter-widgets/controls",
            "_model_module_version": "1.5.0",
            "_model_name": "DescriptionStyleModel",
            "_view_count": null,
            "_view_module": "@jupyter-widgets/base",
            "_view_module_version": "1.2.0",
            "_view_name": "StyleView",
            "description_width": ""
          }
        },
        "50be51afd9e44b589376b18b7910c763": {
          "model_module": "@jupyter-widgets/base",
          "model_name": "LayoutModel",
          "model_module_version": "1.2.0",
          "state": {
            "_model_module": "@jupyter-widgets/base",
            "_model_module_version": "1.2.0",
            "_model_name": "LayoutModel",
            "_view_count": null,
            "_view_module": "@jupyter-widgets/base",
            "_view_module_version": "1.2.0",
            "_view_name": "LayoutView",
            "align_content": null,
            "align_items": null,
            "align_self": null,
            "border": null,
            "bottom": null,
            "display": null,
            "flex": null,
            "flex_flow": null,
            "grid_area": null,
            "grid_auto_columns": null,
            "grid_auto_flow": null,
            "grid_auto_rows": null,
            "grid_column": null,
            "grid_gap": null,
            "grid_row": null,
            "grid_template_areas": null,
            "grid_template_columns": null,
            "grid_template_rows": null,
            "height": null,
            "justify_content": null,
            "justify_items": null,
            "left": null,
            "margin": null,
            "max_height": null,
            "max_width": null,
            "min_height": null,
            "min_width": null,
            "object_fit": null,
            "object_position": null,
            "order": null,
            "overflow": null,
            "overflow_x": null,
            "overflow_y": null,
            "padding": null,
            "right": null,
            "top": null,
            "visibility": null,
            "width": null
          }
        },
        "ef48ad6d77ed4f088acb5d06d2b84e21": {
          "model_module": "@jupyter-widgets/controls",
          "model_name": "ProgressStyleModel",
          "model_module_version": "1.5.0",
          "state": {
            "_model_module": "@jupyter-widgets/controls",
            "_model_module_version": "1.5.0",
            "_model_name": "ProgressStyleModel",
            "_view_count": null,
            "_view_module": "@jupyter-widgets/base",
            "_view_module_version": "1.2.0",
            "_view_name": "StyleView",
            "bar_color": null,
            "description_width": ""
          }
        },
        "d9c5d9bce1bf415897c6094b69126bc6": {
          "model_module": "@jupyter-widgets/base",
          "model_name": "LayoutModel",
          "model_module_version": "1.2.0",
          "state": {
            "_model_module": "@jupyter-widgets/base",
            "_model_module_version": "1.2.0",
            "_model_name": "LayoutModel",
            "_view_count": null,
            "_view_module": "@jupyter-widgets/base",
            "_view_module_version": "1.2.0",
            "_view_name": "LayoutView",
            "align_content": null,
            "align_items": null,
            "align_self": null,
            "border": null,
            "bottom": null,
            "display": null,
            "flex": null,
            "flex_flow": null,
            "grid_area": null,
            "grid_auto_columns": null,
            "grid_auto_flow": null,
            "grid_auto_rows": null,
            "grid_column": null,
            "grid_gap": null,
            "grid_row": null,
            "grid_template_areas": null,
            "grid_template_columns": null,
            "grid_template_rows": null,
            "height": null,
            "justify_content": null,
            "justify_items": null,
            "left": null,
            "margin": null,
            "max_height": null,
            "max_width": null,
            "min_height": null,
            "min_width": null,
            "object_fit": null,
            "object_position": null,
            "order": null,
            "overflow": null,
            "overflow_x": null,
            "overflow_y": null,
            "padding": null,
            "right": null,
            "top": null,
            "visibility": null,
            "width": null
          }
        },
        "0ef3b8a19ed940f0aacb83e0b92aecf0": {
          "model_module": "@jupyter-widgets/controls",
          "model_name": "DescriptionStyleModel",
          "model_module_version": "1.5.0",
          "state": {
            "_model_module": "@jupyter-widgets/controls",
            "_model_module_version": "1.5.0",
            "_model_name": "DescriptionStyleModel",
            "_view_count": null,
            "_view_module": "@jupyter-widgets/base",
            "_view_module_version": "1.2.0",
            "_view_name": "StyleView",
            "description_width": ""
          }
        },
        "c94925306bc94f5db4080892da891b3f": {
          "model_module": "@jupyter-widgets/controls",
          "model_name": "HBoxModel",
          "model_module_version": "1.5.0",
          "state": {
            "_dom_classes": [],
            "_model_module": "@jupyter-widgets/controls",
            "_model_module_version": "1.5.0",
            "_model_name": "HBoxModel",
            "_view_count": null,
            "_view_module": "@jupyter-widgets/controls",
            "_view_module_version": "1.5.0",
            "_view_name": "HBoxView",
            "box_style": "",
            "children": [
              "IPY_MODEL_bc0b9a01ede84212acb1f5770d137622",
              "IPY_MODEL_8299e0d5537b4610ad75c3f47d5cf215",
              "IPY_MODEL_c3c3ebc5194d4a77ac0e758ca227dc77"
            ],
            "layout": "IPY_MODEL_d7ecaf4693c6402aaaa1c13173d5af9e"
          }
        },
        "bc0b9a01ede84212acb1f5770d137622": {
          "model_module": "@jupyter-widgets/controls",
          "model_name": "HTMLModel",
          "model_module_version": "1.5.0",
          "state": {
            "_dom_classes": [],
            "_model_module": "@jupyter-widgets/controls",
            "_model_module_version": "1.5.0",
            "_model_name": "HTMLModel",
            "_view_count": null,
            "_view_module": "@jupyter-widgets/controls",
            "_view_module_version": "1.5.0",
            "_view_name": "HTMLView",
            "description": "",
            "description_tooltip": null,
            "layout": "IPY_MODEL_8b306914019943ef8aa14a5d538694fd",
            "placeholder": "​",
            "style": "IPY_MODEL_c89d881f72944569bf684cb2dfca3250",
            "value": "100%"
          }
        },
        "8299e0d5537b4610ad75c3f47d5cf215": {
          "model_module": "@jupyter-widgets/controls",
          "model_name": "FloatProgressModel",
          "model_module_version": "1.5.0",
          "state": {
            "_dom_classes": [],
            "_model_module": "@jupyter-widgets/controls",
            "_model_module_version": "1.5.0",
            "_model_name": "FloatProgressModel",
            "_view_count": null,
            "_view_module": "@jupyter-widgets/controls",
            "_view_module_version": "1.5.0",
            "_view_name": "ProgressView",
            "bar_style": "success",
            "description": "",
            "description_tooltip": null,
            "layout": "IPY_MODEL_f57e42f6ef5c43599dabc7ccce92339e",
            "max": 50,
            "min": 0,
            "orientation": "horizontal",
            "style": "IPY_MODEL_eb0df7c1b8b44fcf8e5db7d81244b29f",
            "value": 50
          }
        },
        "c3c3ebc5194d4a77ac0e758ca227dc77": {
          "model_module": "@jupyter-widgets/controls",
          "model_name": "HTMLModel",
          "model_module_version": "1.5.0",
          "state": {
            "_dom_classes": [],
            "_model_module": "@jupyter-widgets/controls",
            "_model_module_version": "1.5.0",
            "_model_name": "HTMLModel",
            "_view_count": null,
            "_view_module": "@jupyter-widgets/controls",
            "_view_module_version": "1.5.0",
            "_view_name": "HTMLView",
            "description": "",
            "description_tooltip": null,
            "layout": "IPY_MODEL_4d63e86fb8c24f9b9a47b7fd9777df6c",
            "placeholder": "​",
            "style": "IPY_MODEL_f9e604e8a9764e78bee2d6671fb17bcb",
            "value": " 50/50 [00:15&lt;00:00,  4.19epoch/s]"
          }
        },
        "d7ecaf4693c6402aaaa1c13173d5af9e": {
          "model_module": "@jupyter-widgets/base",
          "model_name": "LayoutModel",
          "model_module_version": "1.2.0",
          "state": {
            "_model_module": "@jupyter-widgets/base",
            "_model_module_version": "1.2.0",
            "_model_name": "LayoutModel",
            "_view_count": null,
            "_view_module": "@jupyter-widgets/base",
            "_view_module_version": "1.2.0",
            "_view_name": "LayoutView",
            "align_content": null,
            "align_items": null,
            "align_self": null,
            "border": null,
            "bottom": null,
            "display": null,
            "flex": null,
            "flex_flow": null,
            "grid_area": null,
            "grid_auto_columns": null,
            "grid_auto_flow": null,
            "grid_auto_rows": null,
            "grid_column": null,
            "grid_gap": null,
            "grid_row": null,
            "grid_template_areas": null,
            "grid_template_columns": null,
            "grid_template_rows": null,
            "height": null,
            "justify_content": null,
            "justify_items": null,
            "left": null,
            "margin": null,
            "max_height": null,
            "max_width": null,
            "min_height": null,
            "min_width": null,
            "object_fit": null,
            "object_position": null,
            "order": null,
            "overflow": null,
            "overflow_x": null,
            "overflow_y": null,
            "padding": null,
            "right": null,
            "top": null,
            "visibility": null,
            "width": null
          }
        },
        "8b306914019943ef8aa14a5d538694fd": {
          "model_module": "@jupyter-widgets/base",
          "model_name": "LayoutModel",
          "model_module_version": "1.2.0",
          "state": {
            "_model_module": "@jupyter-widgets/base",
            "_model_module_version": "1.2.0",
            "_model_name": "LayoutModel",
            "_view_count": null,
            "_view_module": "@jupyter-widgets/base",
            "_view_module_version": "1.2.0",
            "_view_name": "LayoutView",
            "align_content": null,
            "align_items": null,
            "align_self": null,
            "border": null,
            "bottom": null,
            "display": null,
            "flex": null,
            "flex_flow": null,
            "grid_area": null,
            "grid_auto_columns": null,
            "grid_auto_flow": null,
            "grid_auto_rows": null,
            "grid_column": null,
            "grid_gap": null,
            "grid_row": null,
            "grid_template_areas": null,
            "grid_template_columns": null,
            "grid_template_rows": null,
            "height": null,
            "justify_content": null,
            "justify_items": null,
            "left": null,
            "margin": null,
            "max_height": null,
            "max_width": null,
            "min_height": null,
            "min_width": null,
            "object_fit": null,
            "object_position": null,
            "order": null,
            "overflow": null,
            "overflow_x": null,
            "overflow_y": null,
            "padding": null,
            "right": null,
            "top": null,
            "visibility": null,
            "width": null
          }
        },
        "c89d881f72944569bf684cb2dfca3250": {
          "model_module": "@jupyter-widgets/controls",
          "model_name": "DescriptionStyleModel",
          "model_module_version": "1.5.0",
          "state": {
            "_model_module": "@jupyter-widgets/controls",
            "_model_module_version": "1.5.0",
            "_model_name": "DescriptionStyleModel",
            "_view_count": null,
            "_view_module": "@jupyter-widgets/base",
            "_view_module_version": "1.2.0",
            "_view_name": "StyleView",
            "description_width": ""
          }
        },
        "f57e42f6ef5c43599dabc7ccce92339e": {
          "model_module": "@jupyter-widgets/base",
          "model_name": "LayoutModel",
          "model_module_version": "1.2.0",
          "state": {
            "_model_module": "@jupyter-widgets/base",
            "_model_module_version": "1.2.0",
            "_model_name": "LayoutModel",
            "_view_count": null,
            "_view_module": "@jupyter-widgets/base",
            "_view_module_version": "1.2.0",
            "_view_name": "LayoutView",
            "align_content": null,
            "align_items": null,
            "align_self": null,
            "border": null,
            "bottom": null,
            "display": null,
            "flex": null,
            "flex_flow": null,
            "grid_area": null,
            "grid_auto_columns": null,
            "grid_auto_flow": null,
            "grid_auto_rows": null,
            "grid_column": null,
            "grid_gap": null,
            "grid_row": null,
            "grid_template_areas": null,
            "grid_template_columns": null,
            "grid_template_rows": null,
            "height": null,
            "justify_content": null,
            "justify_items": null,
            "left": null,
            "margin": null,
            "max_height": null,
            "max_width": null,
            "min_height": null,
            "min_width": null,
            "object_fit": null,
            "object_position": null,
            "order": null,
            "overflow": null,
            "overflow_x": null,
            "overflow_y": null,
            "padding": null,
            "right": null,
            "top": null,
            "visibility": null,
            "width": null
          }
        },
        "eb0df7c1b8b44fcf8e5db7d81244b29f": {
          "model_module": "@jupyter-widgets/controls",
          "model_name": "ProgressStyleModel",
          "model_module_version": "1.5.0",
          "state": {
            "_model_module": "@jupyter-widgets/controls",
            "_model_module_version": "1.5.0",
            "_model_name": "ProgressStyleModel",
            "_view_count": null,
            "_view_module": "@jupyter-widgets/base",
            "_view_module_version": "1.2.0",
            "_view_name": "StyleView",
            "bar_color": null,
            "description_width": ""
          }
        },
        "4d63e86fb8c24f9b9a47b7fd9777df6c": {
          "model_module": "@jupyter-widgets/base",
          "model_name": "LayoutModel",
          "model_module_version": "1.2.0",
          "state": {
            "_model_module": "@jupyter-widgets/base",
            "_model_module_version": "1.2.0",
            "_model_name": "LayoutModel",
            "_view_count": null,
            "_view_module": "@jupyter-widgets/base",
            "_view_module_version": "1.2.0",
            "_view_name": "LayoutView",
            "align_content": null,
            "align_items": null,
            "align_self": null,
            "border": null,
            "bottom": null,
            "display": null,
            "flex": null,
            "flex_flow": null,
            "grid_area": null,
            "grid_auto_columns": null,
            "grid_auto_flow": null,
            "grid_auto_rows": null,
            "grid_column": null,
            "grid_gap": null,
            "grid_row": null,
            "grid_template_areas": null,
            "grid_template_columns": null,
            "grid_template_rows": null,
            "height": null,
            "justify_content": null,
            "justify_items": null,
            "left": null,
            "margin": null,
            "max_height": null,
            "max_width": null,
            "min_height": null,
            "min_width": null,
            "object_fit": null,
            "object_position": null,
            "order": null,
            "overflow": null,
            "overflow_x": null,
            "overflow_y": null,
            "padding": null,
            "right": null,
            "top": null,
            "visibility": null,
            "width": null
          }
        },
        "f9e604e8a9764e78bee2d6671fb17bcb": {
          "model_module": "@jupyter-widgets/controls",
          "model_name": "DescriptionStyleModel",
          "model_module_version": "1.5.0",
          "state": {
            "_model_module": "@jupyter-widgets/controls",
            "_model_module_version": "1.5.0",
            "_model_name": "DescriptionStyleModel",
            "_view_count": null,
            "_view_module": "@jupyter-widgets/base",
            "_view_module_version": "1.2.0",
            "_view_name": "StyleView",
            "description_width": ""
          }
        },
        "93f325692d534e4898fc118b76fa4997": {
          "model_module": "@jupyter-widgets/controls",
          "model_name": "HBoxModel",
          "model_module_version": "1.5.0",
          "state": {
            "_dom_classes": [],
            "_model_module": "@jupyter-widgets/controls",
            "_model_module_version": "1.5.0",
            "_model_name": "HBoxModel",
            "_view_count": null,
            "_view_module": "@jupyter-widgets/controls",
            "_view_module_version": "1.5.0",
            "_view_name": "HBoxView",
            "box_style": "",
            "children": [
              "IPY_MODEL_9ea29ca540c64cd197aff607dc89c2d8",
              "IPY_MODEL_8279ea46f04c4a1abf253e82964fb94e",
              "IPY_MODEL_967f5e323ebb4a74bc0a5391a3f5b1f7"
            ],
            "layout": "IPY_MODEL_201cf15ee2ed4ddc9f2da636454e9f11"
          }
        },
        "9ea29ca540c64cd197aff607dc89c2d8": {
          "model_module": "@jupyter-widgets/controls",
          "model_name": "HTMLModel",
          "model_module_version": "1.5.0",
          "state": {
            "_dom_classes": [],
            "_model_module": "@jupyter-widgets/controls",
            "_model_module_version": "1.5.0",
            "_model_name": "HTMLModel",
            "_view_count": null,
            "_view_module": "@jupyter-widgets/controls",
            "_view_module_version": "1.5.0",
            "_view_name": "HTMLView",
            "description": "",
            "description_tooltip": null,
            "layout": "IPY_MODEL_e63e23a617144f16912c6ca253e5c322",
            "placeholder": "​",
            "style": "IPY_MODEL_0761f07079234ae6bc164aa8bdf49724",
            "value": "100%"
          }
        },
        "8279ea46f04c4a1abf253e82964fb94e": {
          "model_module": "@jupyter-widgets/controls",
          "model_name": "FloatProgressModel",
          "model_module_version": "1.5.0",
          "state": {
            "_dom_classes": [],
            "_model_module": "@jupyter-widgets/controls",
            "_model_module_version": "1.5.0",
            "_model_name": "FloatProgressModel",
            "_view_count": null,
            "_view_module": "@jupyter-widgets/controls",
            "_view_module_version": "1.5.0",
            "_view_name": "ProgressView",
            "bar_style": "success",
            "description": "",
            "description_tooltip": null,
            "layout": "IPY_MODEL_a571e33e80904cb9ac4de0d2e10f7f25",
            "max": 100,
            "min": 0,
            "orientation": "horizontal",
            "style": "IPY_MODEL_3b1aff931ef6474c9560e597044a7864",
            "value": 100
          }
        },
        "967f5e323ebb4a74bc0a5391a3f5b1f7": {
          "model_module": "@jupyter-widgets/controls",
          "model_name": "HTMLModel",
          "model_module_version": "1.5.0",
          "state": {
            "_dom_classes": [],
            "_model_module": "@jupyter-widgets/controls",
            "_model_module_version": "1.5.0",
            "_model_name": "HTMLModel",
            "_view_count": null,
            "_view_module": "@jupyter-widgets/controls",
            "_view_module_version": "1.5.0",
            "_view_name": "HTMLView",
            "description": "",
            "description_tooltip": null,
            "layout": "IPY_MODEL_bc103c84e6a54d56adb074923b857e3d",
            "placeholder": "​",
            "style": "IPY_MODEL_02d0382176f34aeeb61c3549c1fc6310",
            "value": " 100/100 [00:21&lt;00:00,  4.54epoch/s]"
          }
        },
        "201cf15ee2ed4ddc9f2da636454e9f11": {
          "model_module": "@jupyter-widgets/base",
          "model_name": "LayoutModel",
          "model_module_version": "1.2.0",
          "state": {
            "_model_module": "@jupyter-widgets/base",
            "_model_module_version": "1.2.0",
            "_model_name": "LayoutModel",
            "_view_count": null,
            "_view_module": "@jupyter-widgets/base",
            "_view_module_version": "1.2.0",
            "_view_name": "LayoutView",
            "align_content": null,
            "align_items": null,
            "align_self": null,
            "border": null,
            "bottom": null,
            "display": null,
            "flex": null,
            "flex_flow": null,
            "grid_area": null,
            "grid_auto_columns": null,
            "grid_auto_flow": null,
            "grid_auto_rows": null,
            "grid_column": null,
            "grid_gap": null,
            "grid_row": null,
            "grid_template_areas": null,
            "grid_template_columns": null,
            "grid_template_rows": null,
            "height": null,
            "justify_content": null,
            "justify_items": null,
            "left": null,
            "margin": null,
            "max_height": null,
            "max_width": null,
            "min_height": null,
            "min_width": null,
            "object_fit": null,
            "object_position": null,
            "order": null,
            "overflow": null,
            "overflow_x": null,
            "overflow_y": null,
            "padding": null,
            "right": null,
            "top": null,
            "visibility": null,
            "width": null
          }
        },
        "e63e23a617144f16912c6ca253e5c322": {
          "model_module": "@jupyter-widgets/base",
          "model_name": "LayoutModel",
          "model_module_version": "1.2.0",
          "state": {
            "_model_module": "@jupyter-widgets/base",
            "_model_module_version": "1.2.0",
            "_model_name": "LayoutModel",
            "_view_count": null,
            "_view_module": "@jupyter-widgets/base",
            "_view_module_version": "1.2.0",
            "_view_name": "LayoutView",
            "align_content": null,
            "align_items": null,
            "align_self": null,
            "border": null,
            "bottom": null,
            "display": null,
            "flex": null,
            "flex_flow": null,
            "grid_area": null,
            "grid_auto_columns": null,
            "grid_auto_flow": null,
            "grid_auto_rows": null,
            "grid_column": null,
            "grid_gap": null,
            "grid_row": null,
            "grid_template_areas": null,
            "grid_template_columns": null,
            "grid_template_rows": null,
            "height": null,
            "justify_content": null,
            "justify_items": null,
            "left": null,
            "margin": null,
            "max_height": null,
            "max_width": null,
            "min_height": null,
            "min_width": null,
            "object_fit": null,
            "object_position": null,
            "order": null,
            "overflow": null,
            "overflow_x": null,
            "overflow_y": null,
            "padding": null,
            "right": null,
            "top": null,
            "visibility": null,
            "width": null
          }
        },
        "0761f07079234ae6bc164aa8bdf49724": {
          "model_module": "@jupyter-widgets/controls",
          "model_name": "DescriptionStyleModel",
          "model_module_version": "1.5.0",
          "state": {
            "_model_module": "@jupyter-widgets/controls",
            "_model_module_version": "1.5.0",
            "_model_name": "DescriptionStyleModel",
            "_view_count": null,
            "_view_module": "@jupyter-widgets/base",
            "_view_module_version": "1.2.0",
            "_view_name": "StyleView",
            "description_width": ""
          }
        },
        "a571e33e80904cb9ac4de0d2e10f7f25": {
          "model_module": "@jupyter-widgets/base",
          "model_name": "LayoutModel",
          "model_module_version": "1.2.0",
          "state": {
            "_model_module": "@jupyter-widgets/base",
            "_model_module_version": "1.2.0",
            "_model_name": "LayoutModel",
            "_view_count": null,
            "_view_module": "@jupyter-widgets/base",
            "_view_module_version": "1.2.0",
            "_view_name": "LayoutView",
            "align_content": null,
            "align_items": null,
            "align_self": null,
            "border": null,
            "bottom": null,
            "display": null,
            "flex": null,
            "flex_flow": null,
            "grid_area": null,
            "grid_auto_columns": null,
            "grid_auto_flow": null,
            "grid_auto_rows": null,
            "grid_column": null,
            "grid_gap": null,
            "grid_row": null,
            "grid_template_areas": null,
            "grid_template_columns": null,
            "grid_template_rows": null,
            "height": null,
            "justify_content": null,
            "justify_items": null,
            "left": null,
            "margin": null,
            "max_height": null,
            "max_width": null,
            "min_height": null,
            "min_width": null,
            "object_fit": null,
            "object_position": null,
            "order": null,
            "overflow": null,
            "overflow_x": null,
            "overflow_y": null,
            "padding": null,
            "right": null,
            "top": null,
            "visibility": null,
            "width": null
          }
        },
        "3b1aff931ef6474c9560e597044a7864": {
          "model_module": "@jupyter-widgets/controls",
          "model_name": "ProgressStyleModel",
          "model_module_version": "1.5.0",
          "state": {
            "_model_module": "@jupyter-widgets/controls",
            "_model_module_version": "1.5.0",
            "_model_name": "ProgressStyleModel",
            "_view_count": null,
            "_view_module": "@jupyter-widgets/base",
            "_view_module_version": "1.2.0",
            "_view_name": "StyleView",
            "bar_color": null,
            "description_width": ""
          }
        },
        "bc103c84e6a54d56adb074923b857e3d": {
          "model_module": "@jupyter-widgets/base",
          "model_name": "LayoutModel",
          "model_module_version": "1.2.0",
          "state": {
            "_model_module": "@jupyter-widgets/base",
            "_model_module_version": "1.2.0",
            "_model_name": "LayoutModel",
            "_view_count": null,
            "_view_module": "@jupyter-widgets/base",
            "_view_module_version": "1.2.0",
            "_view_name": "LayoutView",
            "align_content": null,
            "align_items": null,
            "align_self": null,
            "border": null,
            "bottom": null,
            "display": null,
            "flex": null,
            "flex_flow": null,
            "grid_area": null,
            "grid_auto_columns": null,
            "grid_auto_flow": null,
            "grid_auto_rows": null,
            "grid_column": null,
            "grid_gap": null,
            "grid_row": null,
            "grid_template_areas": null,
            "grid_template_columns": null,
            "grid_template_rows": null,
            "height": null,
            "justify_content": null,
            "justify_items": null,
            "left": null,
            "margin": null,
            "max_height": null,
            "max_width": null,
            "min_height": null,
            "min_width": null,
            "object_fit": null,
            "object_position": null,
            "order": null,
            "overflow": null,
            "overflow_x": null,
            "overflow_y": null,
            "padding": null,
            "right": null,
            "top": null,
            "visibility": null,
            "width": null
          }
        },
        "02d0382176f34aeeb61c3549c1fc6310": {
          "model_module": "@jupyter-widgets/controls",
          "model_name": "DescriptionStyleModel",
          "model_module_version": "1.5.0",
          "state": {
            "_model_module": "@jupyter-widgets/controls",
            "_model_module_version": "1.5.0",
            "_model_name": "DescriptionStyleModel",
            "_view_count": null,
            "_view_module": "@jupyter-widgets/base",
            "_view_module_version": "1.2.0",
            "_view_name": "StyleView",
            "description_width": ""
          }
        },
        "2315bfac56714ee09d4e30e619465240": {
          "model_module": "@jupyter-widgets/controls",
          "model_name": "HBoxModel",
          "model_module_version": "1.5.0",
          "state": {
            "_dom_classes": [],
            "_model_module": "@jupyter-widgets/controls",
            "_model_module_version": "1.5.0",
            "_model_name": "HBoxModel",
            "_view_count": null,
            "_view_module": "@jupyter-widgets/controls",
            "_view_module_version": "1.5.0",
            "_view_name": "HBoxView",
            "box_style": "",
            "children": [
              "IPY_MODEL_74e6e32b9207499e964e83ad4b504a34",
              "IPY_MODEL_0ec0707920034dfd868e1bbb8b748a4b",
              "IPY_MODEL_589cccde6a514bcb8cf1f8c70dce70da"
            ],
            "layout": "IPY_MODEL_af3a3cfaaa524c2d98ea01056d6bb5e0"
          }
        },
        "74e6e32b9207499e964e83ad4b504a34": {
          "model_module": "@jupyter-widgets/controls",
          "model_name": "HTMLModel",
          "model_module_version": "1.5.0",
          "state": {
            "_dom_classes": [],
            "_model_module": "@jupyter-widgets/controls",
            "_model_module_version": "1.5.0",
            "_model_name": "HTMLModel",
            "_view_count": null,
            "_view_module": "@jupyter-widgets/controls",
            "_view_module_version": "1.5.0",
            "_view_name": "HTMLView",
            "description": "",
            "description_tooltip": null,
            "layout": "IPY_MODEL_c242d5ae30554339ad046e12c5ccf96d",
            "placeholder": "​",
            "style": "IPY_MODEL_5f852151e3114c659a479bc5c745b1ed",
            "value": "100%"
          }
        },
        "0ec0707920034dfd868e1bbb8b748a4b": {
          "model_module": "@jupyter-widgets/controls",
          "model_name": "FloatProgressModel",
          "model_module_version": "1.5.0",
          "state": {
            "_dom_classes": [],
            "_model_module": "@jupyter-widgets/controls",
            "_model_module_version": "1.5.0",
            "_model_name": "FloatProgressModel",
            "_view_count": null,
            "_view_module": "@jupyter-widgets/controls",
            "_view_module_version": "1.5.0",
            "_view_name": "ProgressView",
            "bar_style": "success",
            "description": "",
            "description_tooltip": null,
            "layout": "IPY_MODEL_a8b8eabe3bea4629b38f235e49640269",
            "max": 100,
            "min": 0,
            "orientation": "horizontal",
            "style": "IPY_MODEL_2642d270b4d64eb0bf2a640df07f2607",
            "value": 100
          }
        },
        "589cccde6a514bcb8cf1f8c70dce70da": {
          "model_module": "@jupyter-widgets/controls",
          "model_name": "HTMLModel",
          "model_module_version": "1.5.0",
          "state": {
            "_dom_classes": [],
            "_model_module": "@jupyter-widgets/controls",
            "_model_module_version": "1.5.0",
            "_model_name": "HTMLModel",
            "_view_count": null,
            "_view_module": "@jupyter-widgets/controls",
            "_view_module_version": "1.5.0",
            "_view_name": "HTMLView",
            "description": "",
            "description_tooltip": null,
            "layout": "IPY_MODEL_cf8bd0699333427cbf4741a2c05660bb",
            "placeholder": "​",
            "style": "IPY_MODEL_0a96826b1e5a4f9490caf3f08d1a2889",
            "value": " 100/100 [00:25&lt;00:00,  3.30epoch/s]"
          }
        },
        "af3a3cfaaa524c2d98ea01056d6bb5e0": {
          "model_module": "@jupyter-widgets/base",
          "model_name": "LayoutModel",
          "model_module_version": "1.2.0",
          "state": {
            "_model_module": "@jupyter-widgets/base",
            "_model_module_version": "1.2.0",
            "_model_name": "LayoutModel",
            "_view_count": null,
            "_view_module": "@jupyter-widgets/base",
            "_view_module_version": "1.2.0",
            "_view_name": "LayoutView",
            "align_content": null,
            "align_items": null,
            "align_self": null,
            "border": null,
            "bottom": null,
            "display": null,
            "flex": null,
            "flex_flow": null,
            "grid_area": null,
            "grid_auto_columns": null,
            "grid_auto_flow": null,
            "grid_auto_rows": null,
            "grid_column": null,
            "grid_gap": null,
            "grid_row": null,
            "grid_template_areas": null,
            "grid_template_columns": null,
            "grid_template_rows": null,
            "height": null,
            "justify_content": null,
            "justify_items": null,
            "left": null,
            "margin": null,
            "max_height": null,
            "max_width": null,
            "min_height": null,
            "min_width": null,
            "object_fit": null,
            "object_position": null,
            "order": null,
            "overflow": null,
            "overflow_x": null,
            "overflow_y": null,
            "padding": null,
            "right": null,
            "top": null,
            "visibility": null,
            "width": null
          }
        },
        "c242d5ae30554339ad046e12c5ccf96d": {
          "model_module": "@jupyter-widgets/base",
          "model_name": "LayoutModel",
          "model_module_version": "1.2.0",
          "state": {
            "_model_module": "@jupyter-widgets/base",
            "_model_module_version": "1.2.0",
            "_model_name": "LayoutModel",
            "_view_count": null,
            "_view_module": "@jupyter-widgets/base",
            "_view_module_version": "1.2.0",
            "_view_name": "LayoutView",
            "align_content": null,
            "align_items": null,
            "align_self": null,
            "border": null,
            "bottom": null,
            "display": null,
            "flex": null,
            "flex_flow": null,
            "grid_area": null,
            "grid_auto_columns": null,
            "grid_auto_flow": null,
            "grid_auto_rows": null,
            "grid_column": null,
            "grid_gap": null,
            "grid_row": null,
            "grid_template_areas": null,
            "grid_template_columns": null,
            "grid_template_rows": null,
            "height": null,
            "justify_content": null,
            "justify_items": null,
            "left": null,
            "margin": null,
            "max_height": null,
            "max_width": null,
            "min_height": null,
            "min_width": null,
            "object_fit": null,
            "object_position": null,
            "order": null,
            "overflow": null,
            "overflow_x": null,
            "overflow_y": null,
            "padding": null,
            "right": null,
            "top": null,
            "visibility": null,
            "width": null
          }
        },
        "5f852151e3114c659a479bc5c745b1ed": {
          "model_module": "@jupyter-widgets/controls",
          "model_name": "DescriptionStyleModel",
          "model_module_version": "1.5.0",
          "state": {
            "_model_module": "@jupyter-widgets/controls",
            "_model_module_version": "1.5.0",
            "_model_name": "DescriptionStyleModel",
            "_view_count": null,
            "_view_module": "@jupyter-widgets/base",
            "_view_module_version": "1.2.0",
            "_view_name": "StyleView",
            "description_width": ""
          }
        },
        "a8b8eabe3bea4629b38f235e49640269": {
          "model_module": "@jupyter-widgets/base",
          "model_name": "LayoutModel",
          "model_module_version": "1.2.0",
          "state": {
            "_model_module": "@jupyter-widgets/base",
            "_model_module_version": "1.2.0",
            "_model_name": "LayoutModel",
            "_view_count": null,
            "_view_module": "@jupyter-widgets/base",
            "_view_module_version": "1.2.0",
            "_view_name": "LayoutView",
            "align_content": null,
            "align_items": null,
            "align_self": null,
            "border": null,
            "bottom": null,
            "display": null,
            "flex": null,
            "flex_flow": null,
            "grid_area": null,
            "grid_auto_columns": null,
            "grid_auto_flow": null,
            "grid_auto_rows": null,
            "grid_column": null,
            "grid_gap": null,
            "grid_row": null,
            "grid_template_areas": null,
            "grid_template_columns": null,
            "grid_template_rows": null,
            "height": null,
            "justify_content": null,
            "justify_items": null,
            "left": null,
            "margin": null,
            "max_height": null,
            "max_width": null,
            "min_height": null,
            "min_width": null,
            "object_fit": null,
            "object_position": null,
            "order": null,
            "overflow": null,
            "overflow_x": null,
            "overflow_y": null,
            "padding": null,
            "right": null,
            "top": null,
            "visibility": null,
            "width": null
          }
        },
        "2642d270b4d64eb0bf2a640df07f2607": {
          "model_module": "@jupyter-widgets/controls",
          "model_name": "ProgressStyleModel",
          "model_module_version": "1.5.0",
          "state": {
            "_model_module": "@jupyter-widgets/controls",
            "_model_module_version": "1.5.0",
            "_model_name": "ProgressStyleModel",
            "_view_count": null,
            "_view_module": "@jupyter-widgets/base",
            "_view_module_version": "1.2.0",
            "_view_name": "StyleView",
            "bar_color": null,
            "description_width": ""
          }
        },
        "cf8bd0699333427cbf4741a2c05660bb": {
          "model_module": "@jupyter-widgets/base",
          "model_name": "LayoutModel",
          "model_module_version": "1.2.0",
          "state": {
            "_model_module": "@jupyter-widgets/base",
            "_model_module_version": "1.2.0",
            "_model_name": "LayoutModel",
            "_view_count": null,
            "_view_module": "@jupyter-widgets/base",
            "_view_module_version": "1.2.0",
            "_view_name": "LayoutView",
            "align_content": null,
            "align_items": null,
            "align_self": null,
            "border": null,
            "bottom": null,
            "display": null,
            "flex": null,
            "flex_flow": null,
            "grid_area": null,
            "grid_auto_columns": null,
            "grid_auto_flow": null,
            "grid_auto_rows": null,
            "grid_column": null,
            "grid_gap": null,
            "grid_row": null,
            "grid_template_areas": null,
            "grid_template_columns": null,
            "grid_template_rows": null,
            "height": null,
            "justify_content": null,
            "justify_items": null,
            "left": null,
            "margin": null,
            "max_height": null,
            "max_width": null,
            "min_height": null,
            "min_width": null,
            "object_fit": null,
            "object_position": null,
            "order": null,
            "overflow": null,
            "overflow_x": null,
            "overflow_y": null,
            "padding": null,
            "right": null,
            "top": null,
            "visibility": null,
            "width": null
          }
        },
        "0a96826b1e5a4f9490caf3f08d1a2889": {
          "model_module": "@jupyter-widgets/controls",
          "model_name": "DescriptionStyleModel",
          "model_module_version": "1.5.0",
          "state": {
            "_model_module": "@jupyter-widgets/controls",
            "_model_module_version": "1.5.0",
            "_model_name": "DescriptionStyleModel",
            "_view_count": null,
            "_view_module": "@jupyter-widgets/base",
            "_view_module_version": "1.2.0",
            "_view_name": "StyleView",
            "description_width": ""
          }
        },
        "cae8519c3601465f971e831c5c317cc6": {
          "model_module": "@jupyter-widgets/controls",
          "model_name": "HBoxModel",
          "model_module_version": "1.5.0",
          "state": {
            "_dom_classes": [],
            "_model_module": "@jupyter-widgets/controls",
            "_model_module_version": "1.5.0",
            "_model_name": "HBoxModel",
            "_view_count": null,
            "_view_module": "@jupyter-widgets/controls",
            "_view_module_version": "1.5.0",
            "_view_name": "HBoxView",
            "box_style": "",
            "children": [
              "IPY_MODEL_3b71702d85624e50aa3a4d424953562a",
              "IPY_MODEL_4ef5ed728c34432fa4f282a73ad19a38",
              "IPY_MODEL_e52e2ffc8d464cc1a4937f16d19810c1"
            ],
            "layout": "IPY_MODEL_08f95781edab4d219f61158937f4a612"
          }
        },
        "3b71702d85624e50aa3a4d424953562a": {
          "model_module": "@jupyter-widgets/controls",
          "model_name": "HTMLModel",
          "model_module_version": "1.5.0",
          "state": {
            "_dom_classes": [],
            "_model_module": "@jupyter-widgets/controls",
            "_model_module_version": "1.5.0",
            "_model_name": "HTMLModel",
            "_view_count": null,
            "_view_module": "@jupyter-widgets/controls",
            "_view_module_version": "1.5.0",
            "_view_name": "HTMLView",
            "description": "",
            "description_tooltip": null,
            "layout": "IPY_MODEL_1b0650fafb1c4b1a97f92f374116234f",
            "placeholder": "​",
            "style": "IPY_MODEL_35621b75e9d34ca186f29f010c4ea3ee",
            "value": "100%"
          }
        },
        "4ef5ed728c34432fa4f282a73ad19a38": {
          "model_module": "@jupyter-widgets/controls",
          "model_name": "FloatProgressModel",
          "model_module_version": "1.5.0",
          "state": {
            "_dom_classes": [],
            "_model_module": "@jupyter-widgets/controls",
            "_model_module_version": "1.5.0",
            "_model_name": "FloatProgressModel",
            "_view_count": null,
            "_view_module": "@jupyter-widgets/controls",
            "_view_module_version": "1.5.0",
            "_view_name": "ProgressView",
            "bar_style": "success",
            "description": "",
            "description_tooltip": null,
            "layout": "IPY_MODEL_a3817bb784c2419f99456eb8eb6858b6",
            "max": 100,
            "min": 0,
            "orientation": "horizontal",
            "style": "IPY_MODEL_ced302414cea47f58c8664500d8cabf4",
            "value": 100
          }
        },
        "e52e2ffc8d464cc1a4937f16d19810c1": {
          "model_module": "@jupyter-widgets/controls",
          "model_name": "HTMLModel",
          "model_module_version": "1.5.0",
          "state": {
            "_dom_classes": [],
            "_model_module": "@jupyter-widgets/controls",
            "_model_module_version": "1.5.0",
            "_model_name": "HTMLModel",
            "_view_count": null,
            "_view_module": "@jupyter-widgets/controls",
            "_view_module_version": "1.5.0",
            "_view_name": "HTMLView",
            "description": "",
            "description_tooltip": null,
            "layout": "IPY_MODEL_2cf6162c7900445480d343b244f7c70d",
            "placeholder": "​",
            "style": "IPY_MODEL_11d5565bc2c94502a38ad22c852b471d",
            "value": " 100/100 [00:29&lt;00:00,  3.66epoch/s]"
          }
        },
        "08f95781edab4d219f61158937f4a612": {
          "model_module": "@jupyter-widgets/base",
          "model_name": "LayoutModel",
          "model_module_version": "1.2.0",
          "state": {
            "_model_module": "@jupyter-widgets/base",
            "_model_module_version": "1.2.0",
            "_model_name": "LayoutModel",
            "_view_count": null,
            "_view_module": "@jupyter-widgets/base",
            "_view_module_version": "1.2.0",
            "_view_name": "LayoutView",
            "align_content": null,
            "align_items": null,
            "align_self": null,
            "border": null,
            "bottom": null,
            "display": null,
            "flex": null,
            "flex_flow": null,
            "grid_area": null,
            "grid_auto_columns": null,
            "grid_auto_flow": null,
            "grid_auto_rows": null,
            "grid_column": null,
            "grid_gap": null,
            "grid_row": null,
            "grid_template_areas": null,
            "grid_template_columns": null,
            "grid_template_rows": null,
            "height": null,
            "justify_content": null,
            "justify_items": null,
            "left": null,
            "margin": null,
            "max_height": null,
            "max_width": null,
            "min_height": null,
            "min_width": null,
            "object_fit": null,
            "object_position": null,
            "order": null,
            "overflow": null,
            "overflow_x": null,
            "overflow_y": null,
            "padding": null,
            "right": null,
            "top": null,
            "visibility": null,
            "width": null
          }
        },
        "1b0650fafb1c4b1a97f92f374116234f": {
          "model_module": "@jupyter-widgets/base",
          "model_name": "LayoutModel",
          "model_module_version": "1.2.0",
          "state": {
            "_model_module": "@jupyter-widgets/base",
            "_model_module_version": "1.2.0",
            "_model_name": "LayoutModel",
            "_view_count": null,
            "_view_module": "@jupyter-widgets/base",
            "_view_module_version": "1.2.0",
            "_view_name": "LayoutView",
            "align_content": null,
            "align_items": null,
            "align_self": null,
            "border": null,
            "bottom": null,
            "display": null,
            "flex": null,
            "flex_flow": null,
            "grid_area": null,
            "grid_auto_columns": null,
            "grid_auto_flow": null,
            "grid_auto_rows": null,
            "grid_column": null,
            "grid_gap": null,
            "grid_row": null,
            "grid_template_areas": null,
            "grid_template_columns": null,
            "grid_template_rows": null,
            "height": null,
            "justify_content": null,
            "justify_items": null,
            "left": null,
            "margin": null,
            "max_height": null,
            "max_width": null,
            "min_height": null,
            "min_width": null,
            "object_fit": null,
            "object_position": null,
            "order": null,
            "overflow": null,
            "overflow_x": null,
            "overflow_y": null,
            "padding": null,
            "right": null,
            "top": null,
            "visibility": null,
            "width": null
          }
        },
        "35621b75e9d34ca186f29f010c4ea3ee": {
          "model_module": "@jupyter-widgets/controls",
          "model_name": "DescriptionStyleModel",
          "model_module_version": "1.5.0",
          "state": {
            "_model_module": "@jupyter-widgets/controls",
            "_model_module_version": "1.5.0",
            "_model_name": "DescriptionStyleModel",
            "_view_count": null,
            "_view_module": "@jupyter-widgets/base",
            "_view_module_version": "1.2.0",
            "_view_name": "StyleView",
            "description_width": ""
          }
        },
        "a3817bb784c2419f99456eb8eb6858b6": {
          "model_module": "@jupyter-widgets/base",
          "model_name": "LayoutModel",
          "model_module_version": "1.2.0",
          "state": {
            "_model_module": "@jupyter-widgets/base",
            "_model_module_version": "1.2.0",
            "_model_name": "LayoutModel",
            "_view_count": null,
            "_view_module": "@jupyter-widgets/base",
            "_view_module_version": "1.2.0",
            "_view_name": "LayoutView",
            "align_content": null,
            "align_items": null,
            "align_self": null,
            "border": null,
            "bottom": null,
            "display": null,
            "flex": null,
            "flex_flow": null,
            "grid_area": null,
            "grid_auto_columns": null,
            "grid_auto_flow": null,
            "grid_auto_rows": null,
            "grid_column": null,
            "grid_gap": null,
            "grid_row": null,
            "grid_template_areas": null,
            "grid_template_columns": null,
            "grid_template_rows": null,
            "height": null,
            "justify_content": null,
            "justify_items": null,
            "left": null,
            "margin": null,
            "max_height": null,
            "max_width": null,
            "min_height": null,
            "min_width": null,
            "object_fit": null,
            "object_position": null,
            "order": null,
            "overflow": null,
            "overflow_x": null,
            "overflow_y": null,
            "padding": null,
            "right": null,
            "top": null,
            "visibility": null,
            "width": null
          }
        },
        "ced302414cea47f58c8664500d8cabf4": {
          "model_module": "@jupyter-widgets/controls",
          "model_name": "ProgressStyleModel",
          "model_module_version": "1.5.0",
          "state": {
            "_model_module": "@jupyter-widgets/controls",
            "_model_module_version": "1.5.0",
            "_model_name": "ProgressStyleModel",
            "_view_count": null,
            "_view_module": "@jupyter-widgets/base",
            "_view_module_version": "1.2.0",
            "_view_name": "StyleView",
            "bar_color": null,
            "description_width": ""
          }
        },
        "2cf6162c7900445480d343b244f7c70d": {
          "model_module": "@jupyter-widgets/base",
          "model_name": "LayoutModel",
          "model_module_version": "1.2.0",
          "state": {
            "_model_module": "@jupyter-widgets/base",
            "_model_module_version": "1.2.0",
            "_model_name": "LayoutModel",
            "_view_count": null,
            "_view_module": "@jupyter-widgets/base",
            "_view_module_version": "1.2.0",
            "_view_name": "LayoutView",
            "align_content": null,
            "align_items": null,
            "align_self": null,
            "border": null,
            "bottom": null,
            "display": null,
            "flex": null,
            "flex_flow": null,
            "grid_area": null,
            "grid_auto_columns": null,
            "grid_auto_flow": null,
            "grid_auto_rows": null,
            "grid_column": null,
            "grid_gap": null,
            "grid_row": null,
            "grid_template_areas": null,
            "grid_template_columns": null,
            "grid_template_rows": null,
            "height": null,
            "justify_content": null,
            "justify_items": null,
            "left": null,
            "margin": null,
            "max_height": null,
            "max_width": null,
            "min_height": null,
            "min_width": null,
            "object_fit": null,
            "object_position": null,
            "order": null,
            "overflow": null,
            "overflow_x": null,
            "overflow_y": null,
            "padding": null,
            "right": null,
            "top": null,
            "visibility": null,
            "width": null
          }
        },
        "11d5565bc2c94502a38ad22c852b471d": {
          "model_module": "@jupyter-widgets/controls",
          "model_name": "DescriptionStyleModel",
          "model_module_version": "1.5.0",
          "state": {
            "_model_module": "@jupyter-widgets/controls",
            "_model_module_version": "1.5.0",
            "_model_name": "DescriptionStyleModel",
            "_view_count": null,
            "_view_module": "@jupyter-widgets/base",
            "_view_module_version": "1.2.0",
            "_view_name": "StyleView",
            "description_width": ""
          }
        },
        "4a19dd047e8642ac8254a930ad3e4337": {
          "model_module": "@jupyter-widgets/controls",
          "model_name": "HBoxModel",
          "model_module_version": "1.5.0",
          "state": {
            "_dom_classes": [],
            "_model_module": "@jupyter-widgets/controls",
            "_model_module_version": "1.5.0",
            "_model_name": "HBoxModel",
            "_view_count": null,
            "_view_module": "@jupyter-widgets/controls",
            "_view_module_version": "1.5.0",
            "_view_name": "HBoxView",
            "box_style": "",
            "children": [
              "IPY_MODEL_2eedf4dc776045a69c58a2df92e5ee8b",
              "IPY_MODEL_9a532fd39aae430d8d7a4d3d31e7f69a",
              "IPY_MODEL_4abd8abfd66b43cfbadd6f385e30bb93"
            ],
            "layout": "IPY_MODEL_9a1f4f25ee1e462dabe6a12248177e2e"
          }
        },
        "2eedf4dc776045a69c58a2df92e5ee8b": {
          "model_module": "@jupyter-widgets/controls",
          "model_name": "HTMLModel",
          "model_module_version": "1.5.0",
          "state": {
            "_dom_classes": [],
            "_model_module": "@jupyter-widgets/controls",
            "_model_module_version": "1.5.0",
            "_model_name": "HTMLModel",
            "_view_count": null,
            "_view_module": "@jupyter-widgets/controls",
            "_view_module_version": "1.5.0",
            "_view_name": "HTMLView",
            "description": "",
            "description_tooltip": null,
            "layout": "IPY_MODEL_a58009e2fa20475caa62d573a2f270b0",
            "placeholder": "​",
            "style": "IPY_MODEL_ab302772b24a41d28f438f227170a6cb",
            "value": "100%"
          }
        },
        "9a532fd39aae430d8d7a4d3d31e7f69a": {
          "model_module": "@jupyter-widgets/controls",
          "model_name": "FloatProgressModel",
          "model_module_version": "1.5.0",
          "state": {
            "_dom_classes": [],
            "_model_module": "@jupyter-widgets/controls",
            "_model_module_version": "1.5.0",
            "_model_name": "FloatProgressModel",
            "_view_count": null,
            "_view_module": "@jupyter-widgets/controls",
            "_view_module_version": "1.5.0",
            "_view_name": "ProgressView",
            "bar_style": "success",
            "description": "",
            "description_tooltip": null,
            "layout": "IPY_MODEL_53ff7e1c778e4846a7b7bffb57182c10",
            "max": 100,
            "min": 0,
            "orientation": "horizontal",
            "style": "IPY_MODEL_a02d2a731b8345f2bead33bcec957b0d",
            "value": 100
          }
        },
        "4abd8abfd66b43cfbadd6f385e30bb93": {
          "model_module": "@jupyter-widgets/controls",
          "model_name": "HTMLModel",
          "model_module_version": "1.5.0",
          "state": {
            "_dom_classes": [],
            "_model_module": "@jupyter-widgets/controls",
            "_model_module_version": "1.5.0",
            "_model_name": "HTMLModel",
            "_view_count": null,
            "_view_module": "@jupyter-widgets/controls",
            "_view_module_version": "1.5.0",
            "_view_name": "HTMLView",
            "description": "",
            "description_tooltip": null,
            "layout": "IPY_MODEL_2b9f2971e4604d0ca8825f9effd4d52a",
            "placeholder": "​",
            "style": "IPY_MODEL_9e5f2afd7584407fa0af45057a6c584f",
            "value": " 100/100 [00:00&lt;00:00, 103.89epoch/s]"
          }
        },
        "9a1f4f25ee1e462dabe6a12248177e2e": {
          "model_module": "@jupyter-widgets/base",
          "model_name": "LayoutModel",
          "model_module_version": "1.2.0",
          "state": {
            "_model_module": "@jupyter-widgets/base",
            "_model_module_version": "1.2.0",
            "_model_name": "LayoutModel",
            "_view_count": null,
            "_view_module": "@jupyter-widgets/base",
            "_view_module_version": "1.2.0",
            "_view_name": "LayoutView",
            "align_content": null,
            "align_items": null,
            "align_self": null,
            "border": null,
            "bottom": null,
            "display": null,
            "flex": null,
            "flex_flow": null,
            "grid_area": null,
            "grid_auto_columns": null,
            "grid_auto_flow": null,
            "grid_auto_rows": null,
            "grid_column": null,
            "grid_gap": null,
            "grid_row": null,
            "grid_template_areas": null,
            "grid_template_columns": null,
            "grid_template_rows": null,
            "height": null,
            "justify_content": null,
            "justify_items": null,
            "left": null,
            "margin": null,
            "max_height": null,
            "max_width": null,
            "min_height": null,
            "min_width": null,
            "object_fit": null,
            "object_position": null,
            "order": null,
            "overflow": null,
            "overflow_x": null,
            "overflow_y": null,
            "padding": null,
            "right": null,
            "top": null,
            "visibility": null,
            "width": null
          }
        },
        "a58009e2fa20475caa62d573a2f270b0": {
          "model_module": "@jupyter-widgets/base",
          "model_name": "LayoutModel",
          "model_module_version": "1.2.0",
          "state": {
            "_model_module": "@jupyter-widgets/base",
            "_model_module_version": "1.2.0",
            "_model_name": "LayoutModel",
            "_view_count": null,
            "_view_module": "@jupyter-widgets/base",
            "_view_module_version": "1.2.0",
            "_view_name": "LayoutView",
            "align_content": null,
            "align_items": null,
            "align_self": null,
            "border": null,
            "bottom": null,
            "display": null,
            "flex": null,
            "flex_flow": null,
            "grid_area": null,
            "grid_auto_columns": null,
            "grid_auto_flow": null,
            "grid_auto_rows": null,
            "grid_column": null,
            "grid_gap": null,
            "grid_row": null,
            "grid_template_areas": null,
            "grid_template_columns": null,
            "grid_template_rows": null,
            "height": null,
            "justify_content": null,
            "justify_items": null,
            "left": null,
            "margin": null,
            "max_height": null,
            "max_width": null,
            "min_height": null,
            "min_width": null,
            "object_fit": null,
            "object_position": null,
            "order": null,
            "overflow": null,
            "overflow_x": null,
            "overflow_y": null,
            "padding": null,
            "right": null,
            "top": null,
            "visibility": null,
            "width": null
          }
        },
        "ab302772b24a41d28f438f227170a6cb": {
          "model_module": "@jupyter-widgets/controls",
          "model_name": "DescriptionStyleModel",
          "model_module_version": "1.5.0",
          "state": {
            "_model_module": "@jupyter-widgets/controls",
            "_model_module_version": "1.5.0",
            "_model_name": "DescriptionStyleModel",
            "_view_count": null,
            "_view_module": "@jupyter-widgets/base",
            "_view_module_version": "1.2.0",
            "_view_name": "StyleView",
            "description_width": ""
          }
        },
        "53ff7e1c778e4846a7b7bffb57182c10": {
          "model_module": "@jupyter-widgets/base",
          "model_name": "LayoutModel",
          "model_module_version": "1.2.0",
          "state": {
            "_model_module": "@jupyter-widgets/base",
            "_model_module_version": "1.2.0",
            "_model_name": "LayoutModel",
            "_view_count": null,
            "_view_module": "@jupyter-widgets/base",
            "_view_module_version": "1.2.0",
            "_view_name": "LayoutView",
            "align_content": null,
            "align_items": null,
            "align_self": null,
            "border": null,
            "bottom": null,
            "display": null,
            "flex": null,
            "flex_flow": null,
            "grid_area": null,
            "grid_auto_columns": null,
            "grid_auto_flow": null,
            "grid_auto_rows": null,
            "grid_column": null,
            "grid_gap": null,
            "grid_row": null,
            "grid_template_areas": null,
            "grid_template_columns": null,
            "grid_template_rows": null,
            "height": null,
            "justify_content": null,
            "justify_items": null,
            "left": null,
            "margin": null,
            "max_height": null,
            "max_width": null,
            "min_height": null,
            "min_width": null,
            "object_fit": null,
            "object_position": null,
            "order": null,
            "overflow": null,
            "overflow_x": null,
            "overflow_y": null,
            "padding": null,
            "right": null,
            "top": null,
            "visibility": null,
            "width": null
          }
        },
        "a02d2a731b8345f2bead33bcec957b0d": {
          "model_module": "@jupyter-widgets/controls",
          "model_name": "ProgressStyleModel",
          "model_module_version": "1.5.0",
          "state": {
            "_model_module": "@jupyter-widgets/controls",
            "_model_module_version": "1.5.0",
            "_model_name": "ProgressStyleModel",
            "_view_count": null,
            "_view_module": "@jupyter-widgets/base",
            "_view_module_version": "1.2.0",
            "_view_name": "StyleView",
            "bar_color": null,
            "description_width": ""
          }
        },
        "2b9f2971e4604d0ca8825f9effd4d52a": {
          "model_module": "@jupyter-widgets/base",
          "model_name": "LayoutModel",
          "model_module_version": "1.2.0",
          "state": {
            "_model_module": "@jupyter-widgets/base",
            "_model_module_version": "1.2.0",
            "_model_name": "LayoutModel",
            "_view_count": null,
            "_view_module": "@jupyter-widgets/base",
            "_view_module_version": "1.2.0",
            "_view_name": "LayoutView",
            "align_content": null,
            "align_items": null,
            "align_self": null,
            "border": null,
            "bottom": null,
            "display": null,
            "flex": null,
            "flex_flow": null,
            "grid_area": null,
            "grid_auto_columns": null,
            "grid_auto_flow": null,
            "grid_auto_rows": null,
            "grid_column": null,
            "grid_gap": null,
            "grid_row": null,
            "grid_template_areas": null,
            "grid_template_columns": null,
            "grid_template_rows": null,
            "height": null,
            "justify_content": null,
            "justify_items": null,
            "left": null,
            "margin": null,
            "max_height": null,
            "max_width": null,
            "min_height": null,
            "min_width": null,
            "object_fit": null,
            "object_position": null,
            "order": null,
            "overflow": null,
            "overflow_x": null,
            "overflow_y": null,
            "padding": null,
            "right": null,
            "top": null,
            "visibility": null,
            "width": null
          }
        },
        "9e5f2afd7584407fa0af45057a6c584f": {
          "model_module": "@jupyter-widgets/controls",
          "model_name": "DescriptionStyleModel",
          "model_module_version": "1.5.0",
          "state": {
            "_model_module": "@jupyter-widgets/controls",
            "_model_module_version": "1.5.0",
            "_model_name": "DescriptionStyleModel",
            "_view_count": null,
            "_view_module": "@jupyter-widgets/base",
            "_view_module_version": "1.2.0",
            "_view_name": "StyleView",
            "description_width": ""
          }
        }
      }
    }
  },
  "cells": [
    {
      "cell_type": "markdown",
      "source": [
        "# Deep Learning mini-assignment 1"
      ],
      "metadata": {
        "id": "1d_a7tWObloc"
      }
    },
    {
      "cell_type": "markdown",
      "source": [
        "In this assignment, you are required to delve into the practical aspects of Deep Learning by constructing and evaluating a neural network using PyTorch\n",
        "\n",
        "This exercise is designed to deepen your understanding of neural network architectures, hyperparameter tuning, and the preprocessing steps necessary for effective model training and evaluation.\n",
        "\n",
        "You will have the freedom to choose a dataset from either the M1 or M2 module or select an external dataset that intrigues you.\n",
        "\n",
        "By experimenting with different neural network configurations and hyperparameters, you will gain hands-on experience in optimizing ML models to achieve desired performance metrics."
      ],
      "metadata": {
        "id": "xLj2-4C-bty7"
      }
    },
    {
      "cell_type": "markdown",
      "source": [
        "## Tasks and requirements\n",
        "\n",
        "* Build, train, and evaluate a neural network using Pytorch.\n",
        "\n",
        "* The neural network should have a minimum of 2 hidden layers.\n",
        "\n",
        "* Experiment with at least 5 different variations of hyperparameters (e.g., number of layers/neurons, activation functions, epochs, optimizers, learning rates, etc.).\n",
        "\n",
        "## Step-by-step:\n",
        "1. Feature Selection\n",
        "\n",
        "2. Feature Engineering (if necessary)\n",
        "\n",
        "3. Standard ML Preprocessing (if necessary)\n",
        "\n",
        "4. Train-Test Split\n",
        "\n",
        "5. Defining a Neural Network Architecture in Pytorch\n",
        "\n",
        "6. Defining a Training Loop\n",
        "\n",
        "7. Training the Model\n",
        "\n",
        "8. Experimenting with Different Hyperparameters\n",
        "\n",
        "9. Evaluating the Final Model on the Test Data"
      ],
      "metadata": {
        "id": "RsgnTbITb9ro"
      }
    },
    {
      "cell_type": "markdown",
      "source": [
        "--- ---"
      ],
      "metadata": {
        "id": "5jPMj4ohcoLw"
      }
    },
    {
      "cell_type": "markdown",
      "source": [
        "# Solution"
      ],
      "metadata": {
        "id": "lpzQmQuDcjQt"
      }
    },
    {
      "cell_type": "markdown",
      "source": [
        "## Importing relevant liberies"
      ],
      "metadata": {
        "id": "T4b0NtdTc_vC"
      }
    },
    {
      "cell_type": "code",
      "execution_count": 24,
      "metadata": {
        "id": "gJgqv_cm26XN"
      },
      "outputs": [],
      "source": [
        "# Standard practice\n",
        "import pandas as pd\n",
        "import numpy as np\n",
        "\n",
        "# Standard plotting\n",
        "import matplotlib.pyplot as plt\n",
        "import seaborn as sns\n",
        "\n",
        "# Machine Learning preprocessing\n",
        "from sklearn.preprocessing import MinMaxScaler\n",
        "\n",
        "from tqdm import tqdm_notebook # For progress line during loops and heavy computational tasks\n",
        "\n",
        "from imblearn.over_sampling import SMOTE # SMOTE is used to remove imbalances within or data\n",
        "\n",
        "from sklearn.metrics import confusion_matrix, ConfusionMatrixDisplay, accuracy_score, classification_report # All used to evaluate model on testing data\n",
        "\n",
        "from sklearn.model_selection import train_test_split # is used to split dataset into training and test samples.\n",
        "\n",
        "import torch # The main libery for Neural networks\n",
        "import torch.nn as nn # The sub-libery for the above package and the one we'll be using the most.\n",
        "import torch.optim as optim # Is a package implementing various optimization algorithms.\n",
        "from torch.utils.data import DataLoader, TensorDataset # For handling batch sizes using Batch Gradient decent (See appendix)\n"
      ]
    },
    {
      "cell_type": "markdown",
      "source": [
        "## Loading dataset\n",
        "The *Penguin* dataset is a standard and well-known dataset used in many different applications for applying newly learnt methods. The dataset contains:\n",
        "\n",
        "* **Species:** The species of the penguin (e.g., Adelie, Chinstrap, Gentoo).\n",
        "* **Island:** The island where the penguin was found (e.g., Biscoe, Dream, Torgersen).\n",
        "* **Bill Length (mm):** The length of the penguin's bill.\n",
        "* **Bill Depth (mm):** The depth of the penguin's bill.\n",
        "* **Flipper Length (mm):** The length of the penguin's flipper.\n",
        "* **Body Mass (g):** The body mass of the penguin.\n",
        "* **Sex:** The gender of the penguin (e.g., Male, Female).\n",
        "\n",
        "**The reason for chosing the *Penguins* dataset:**\n",
        "> The dataset contains both categorical and numerical features, which enable us to make either a classification or regression (or both) type neural network analysis, making the dataset extreamly versitile.\n",
        "\n",
        "> Other than that the dataset's moderate size provides a balance between complexity and simplicity givin it's size of 344 observations."
      ],
      "metadata": {
        "id": "z-d224dMdtET"
      }
    },
    {
      "cell_type": "code",
      "source": [
        "# load a dataset\n",
        "penguins_raw = sns.load_dataset(\"penguins\")"
      ],
      "metadata": {
        "id": "Lih12ov03C7T"
      },
      "execution_count": 25,
      "outputs": []
    },
    {
      "cell_type": "code",
      "source": [
        "penguins_raw.head()"
      ],
      "metadata": {
        "colab": {
          "base_uri": "https://localhost:8080/",
          "height": 206
        },
        "id": "cOzZJcxa3Gi7",
        "outputId": "a629c798-83de-4580-f222-d48c7c24fb3c"
      },
      "execution_count": 26,
      "outputs": [
        {
          "output_type": "execute_result",
          "data": {
            "text/plain": [
              "  species     island  bill_length_mm  bill_depth_mm  flipper_length_mm  \\\n",
              "0  Adelie  Torgersen            39.1           18.7              181.0   \n",
              "1  Adelie  Torgersen            39.5           17.4              186.0   \n",
              "2  Adelie  Torgersen            40.3           18.0              195.0   \n",
              "3  Adelie  Torgersen             NaN            NaN                NaN   \n",
              "4  Adelie  Torgersen            36.7           19.3              193.0   \n",
              "\n",
              "   body_mass_g     sex  \n",
              "0       3750.0    Male  \n",
              "1       3800.0  Female  \n",
              "2       3250.0  Female  \n",
              "3          NaN     NaN  \n",
              "4       3450.0  Female  "
            ],
            "text/html": [
              "\n",
              "  <div id=\"df-2ea1f1da-a316-40d6-b700-234c2f5fe0c9\" class=\"colab-df-container\">\n",
              "    <div>\n",
              "<style scoped>\n",
              "    .dataframe tbody tr th:only-of-type {\n",
              "        vertical-align: middle;\n",
              "    }\n",
              "\n",
              "    .dataframe tbody tr th {\n",
              "        vertical-align: top;\n",
              "    }\n",
              "\n",
              "    .dataframe thead th {\n",
              "        text-align: right;\n",
              "    }\n",
              "</style>\n",
              "<table border=\"1\" class=\"dataframe\">\n",
              "  <thead>\n",
              "    <tr style=\"text-align: right;\">\n",
              "      <th></th>\n",
              "      <th>species</th>\n",
              "      <th>island</th>\n",
              "      <th>bill_length_mm</th>\n",
              "      <th>bill_depth_mm</th>\n",
              "      <th>flipper_length_mm</th>\n",
              "      <th>body_mass_g</th>\n",
              "      <th>sex</th>\n",
              "    </tr>\n",
              "  </thead>\n",
              "  <tbody>\n",
              "    <tr>\n",
              "      <th>0</th>\n",
              "      <td>Adelie</td>\n",
              "      <td>Torgersen</td>\n",
              "      <td>39.1</td>\n",
              "      <td>18.7</td>\n",
              "      <td>181.0</td>\n",
              "      <td>3750.0</td>\n",
              "      <td>Male</td>\n",
              "    </tr>\n",
              "    <tr>\n",
              "      <th>1</th>\n",
              "      <td>Adelie</td>\n",
              "      <td>Torgersen</td>\n",
              "      <td>39.5</td>\n",
              "      <td>17.4</td>\n",
              "      <td>186.0</td>\n",
              "      <td>3800.0</td>\n",
              "      <td>Female</td>\n",
              "    </tr>\n",
              "    <tr>\n",
              "      <th>2</th>\n",
              "      <td>Adelie</td>\n",
              "      <td>Torgersen</td>\n",
              "      <td>40.3</td>\n",
              "      <td>18.0</td>\n",
              "      <td>195.0</td>\n",
              "      <td>3250.0</td>\n",
              "      <td>Female</td>\n",
              "    </tr>\n",
              "    <tr>\n",
              "      <th>3</th>\n",
              "      <td>Adelie</td>\n",
              "      <td>Torgersen</td>\n",
              "      <td>NaN</td>\n",
              "      <td>NaN</td>\n",
              "      <td>NaN</td>\n",
              "      <td>NaN</td>\n",
              "      <td>NaN</td>\n",
              "    </tr>\n",
              "    <tr>\n",
              "      <th>4</th>\n",
              "      <td>Adelie</td>\n",
              "      <td>Torgersen</td>\n",
              "      <td>36.7</td>\n",
              "      <td>19.3</td>\n",
              "      <td>193.0</td>\n",
              "      <td>3450.0</td>\n",
              "      <td>Female</td>\n",
              "    </tr>\n",
              "  </tbody>\n",
              "</table>\n",
              "</div>\n",
              "    <div class=\"colab-df-buttons\">\n",
              "\n",
              "  <div class=\"colab-df-container\">\n",
              "    <button class=\"colab-df-convert\" onclick=\"convertToInteractive('df-2ea1f1da-a316-40d6-b700-234c2f5fe0c9')\"\n",
              "            title=\"Convert this dataframe to an interactive table.\"\n",
              "            style=\"display:none;\">\n",
              "\n",
              "  <svg xmlns=\"http://www.w3.org/2000/svg\" height=\"24px\" viewBox=\"0 -960 960 960\">\n",
              "    <path d=\"M120-120v-720h720v720H120Zm60-500h600v-160H180v160Zm220 220h160v-160H400v160Zm0 220h160v-160H400v160ZM180-400h160v-160H180v160Zm440 0h160v-160H620v160ZM180-180h160v-160H180v160Zm440 0h160v-160H620v160Z\"/>\n",
              "  </svg>\n",
              "    </button>\n",
              "\n",
              "  <style>\n",
              "    .colab-df-container {\n",
              "      display:flex;\n",
              "      gap: 12px;\n",
              "    }\n",
              "\n",
              "    .colab-df-convert {\n",
              "      background-color: #E8F0FE;\n",
              "      border: none;\n",
              "      border-radius: 50%;\n",
              "      cursor: pointer;\n",
              "      display: none;\n",
              "      fill: #1967D2;\n",
              "      height: 32px;\n",
              "      padding: 0 0 0 0;\n",
              "      width: 32px;\n",
              "    }\n",
              "\n",
              "    .colab-df-convert:hover {\n",
              "      background-color: #E2EBFA;\n",
              "      box-shadow: 0px 1px 2px rgba(60, 64, 67, 0.3), 0px 1px 3px 1px rgba(60, 64, 67, 0.15);\n",
              "      fill: #174EA6;\n",
              "    }\n",
              "\n",
              "    .colab-df-buttons div {\n",
              "      margin-bottom: 4px;\n",
              "    }\n",
              "\n",
              "    [theme=dark] .colab-df-convert {\n",
              "      background-color: #3B4455;\n",
              "      fill: #D2E3FC;\n",
              "    }\n",
              "\n",
              "    [theme=dark] .colab-df-convert:hover {\n",
              "      background-color: #434B5C;\n",
              "      box-shadow: 0px 1px 3px 1px rgba(0, 0, 0, 0.15);\n",
              "      filter: drop-shadow(0px 1px 2px rgba(0, 0, 0, 0.3));\n",
              "      fill: #FFFFFF;\n",
              "    }\n",
              "  </style>\n",
              "\n",
              "    <script>\n",
              "      const buttonEl =\n",
              "        document.querySelector('#df-2ea1f1da-a316-40d6-b700-234c2f5fe0c9 button.colab-df-convert');\n",
              "      buttonEl.style.display =\n",
              "        google.colab.kernel.accessAllowed ? 'block' : 'none';\n",
              "\n",
              "      async function convertToInteractive(key) {\n",
              "        const element = document.querySelector('#df-2ea1f1da-a316-40d6-b700-234c2f5fe0c9');\n",
              "        const dataTable =\n",
              "          await google.colab.kernel.invokeFunction('convertToInteractive',\n",
              "                                                    [key], {});\n",
              "        if (!dataTable) return;\n",
              "\n",
              "        const docLinkHtml = 'Like what you see? Visit the ' +\n",
              "          '<a target=\"_blank\" href=https://colab.research.google.com/notebooks/data_table.ipynb>data table notebook</a>'\n",
              "          + ' to learn more about interactive tables.';\n",
              "        element.innerHTML = '';\n",
              "        dataTable['output_type'] = 'display_data';\n",
              "        await google.colab.output.renderOutput(dataTable, element);\n",
              "        const docLink = document.createElement('div');\n",
              "        docLink.innerHTML = docLinkHtml;\n",
              "        element.appendChild(docLink);\n",
              "      }\n",
              "    </script>\n",
              "  </div>\n",
              "\n",
              "\n",
              "<div id=\"df-1caa1dbd-4455-43a3-b9fd-b3a9e1b085d4\">\n",
              "  <button class=\"colab-df-quickchart\" onclick=\"quickchart('df-1caa1dbd-4455-43a3-b9fd-b3a9e1b085d4')\"\n",
              "            title=\"Suggest charts.\"\n",
              "            style=\"display:none;\">\n",
              "\n",
              "<svg xmlns=\"http://www.w3.org/2000/svg\" height=\"24px\"viewBox=\"0 0 24 24\"\n",
              "     width=\"24px\">\n",
              "    <g>\n",
              "        <path d=\"M19 3H5c-1.1 0-2 .9-2 2v14c0 1.1.9 2 2 2h14c1.1 0 2-.9 2-2V5c0-1.1-.9-2-2-2zM9 17H7v-7h2v7zm4 0h-2V7h2v10zm4 0h-2v-4h2v4z\"/>\n",
              "    </g>\n",
              "</svg>\n",
              "  </button>\n",
              "\n",
              "<style>\n",
              "  .colab-df-quickchart {\n",
              "      --bg-color: #E8F0FE;\n",
              "      --fill-color: #1967D2;\n",
              "      --hover-bg-color: #E2EBFA;\n",
              "      --hover-fill-color: #174EA6;\n",
              "      --disabled-fill-color: #AAA;\n",
              "      --disabled-bg-color: #DDD;\n",
              "  }\n",
              "\n",
              "  [theme=dark] .colab-df-quickchart {\n",
              "      --bg-color: #3B4455;\n",
              "      --fill-color: #D2E3FC;\n",
              "      --hover-bg-color: #434B5C;\n",
              "      --hover-fill-color: #FFFFFF;\n",
              "      --disabled-bg-color: #3B4455;\n",
              "      --disabled-fill-color: #666;\n",
              "  }\n",
              "\n",
              "  .colab-df-quickchart {\n",
              "    background-color: var(--bg-color);\n",
              "    border: none;\n",
              "    border-radius: 50%;\n",
              "    cursor: pointer;\n",
              "    display: none;\n",
              "    fill: var(--fill-color);\n",
              "    height: 32px;\n",
              "    padding: 0;\n",
              "    width: 32px;\n",
              "  }\n",
              "\n",
              "  .colab-df-quickchart:hover {\n",
              "    background-color: var(--hover-bg-color);\n",
              "    box-shadow: 0 1px 2px rgba(60, 64, 67, 0.3), 0 1px 3px 1px rgba(60, 64, 67, 0.15);\n",
              "    fill: var(--button-hover-fill-color);\n",
              "  }\n",
              "\n",
              "  .colab-df-quickchart-complete:disabled,\n",
              "  .colab-df-quickchart-complete:disabled:hover {\n",
              "    background-color: var(--disabled-bg-color);\n",
              "    fill: var(--disabled-fill-color);\n",
              "    box-shadow: none;\n",
              "  }\n",
              "\n",
              "  .colab-df-spinner {\n",
              "    border: 2px solid var(--fill-color);\n",
              "    border-color: transparent;\n",
              "    border-bottom-color: var(--fill-color);\n",
              "    animation:\n",
              "      spin 1s steps(1) infinite;\n",
              "  }\n",
              "\n",
              "  @keyframes spin {\n",
              "    0% {\n",
              "      border-color: transparent;\n",
              "      border-bottom-color: var(--fill-color);\n",
              "      border-left-color: var(--fill-color);\n",
              "    }\n",
              "    20% {\n",
              "      border-color: transparent;\n",
              "      border-left-color: var(--fill-color);\n",
              "      border-top-color: var(--fill-color);\n",
              "    }\n",
              "    30% {\n",
              "      border-color: transparent;\n",
              "      border-left-color: var(--fill-color);\n",
              "      border-top-color: var(--fill-color);\n",
              "      border-right-color: var(--fill-color);\n",
              "    }\n",
              "    40% {\n",
              "      border-color: transparent;\n",
              "      border-right-color: var(--fill-color);\n",
              "      border-top-color: var(--fill-color);\n",
              "    }\n",
              "    60% {\n",
              "      border-color: transparent;\n",
              "      border-right-color: var(--fill-color);\n",
              "    }\n",
              "    80% {\n",
              "      border-color: transparent;\n",
              "      border-right-color: var(--fill-color);\n",
              "      border-bottom-color: var(--fill-color);\n",
              "    }\n",
              "    90% {\n",
              "      border-color: transparent;\n",
              "      border-bottom-color: var(--fill-color);\n",
              "    }\n",
              "  }\n",
              "</style>\n",
              "\n",
              "  <script>\n",
              "    async function quickchart(key) {\n",
              "      const quickchartButtonEl =\n",
              "        document.querySelector('#' + key + ' button');\n",
              "      quickchartButtonEl.disabled = true;  // To prevent multiple clicks.\n",
              "      quickchartButtonEl.classList.add('colab-df-spinner');\n",
              "      try {\n",
              "        const charts = await google.colab.kernel.invokeFunction(\n",
              "            'suggestCharts', [key], {});\n",
              "      } catch (error) {\n",
              "        console.error('Error during call to suggestCharts:', error);\n",
              "      }\n",
              "      quickchartButtonEl.classList.remove('colab-df-spinner');\n",
              "      quickchartButtonEl.classList.add('colab-df-quickchart-complete');\n",
              "    }\n",
              "    (() => {\n",
              "      let quickchartButtonEl =\n",
              "        document.querySelector('#df-1caa1dbd-4455-43a3-b9fd-b3a9e1b085d4 button');\n",
              "      quickchartButtonEl.style.display =\n",
              "        google.colab.kernel.accessAllowed ? 'block' : 'none';\n",
              "    })();\n",
              "  </script>\n",
              "</div>\n",
              "    </div>\n",
              "  </div>\n"
            ]
          },
          "metadata": {},
          "execution_count": 26
        }
      ]
    },
    {
      "cell_type": "markdown",
      "source": [
        "From the initial inspection of the first 5 observations it's clear that we'll have to consider the handling of missing values and make some choices regarding the objective of the neural network (Classification and/or regression).\n",
        "\n",
        "Firstly we've decided to aim for a clssification type neural network which givin the lenght and depth of the Bill, the lenght of the Flipper and the body mass should aim at clssifying the species of the penguin. For this we therefore modify our Species column to be a numerical categorical target variable. This is done in the following code:"
      ],
      "metadata": {
        "id": "lh8XY9NuhNXk"
      }
    },
    {
      "cell_type": "code",
      "source": [
        "map_species = {'Adelie':0, 'Gentoo':1, 'Chinstrap':2}\n",
        "penguins_raw.replace({'species':map_species}, inplace = True)"
      ],
      "metadata": {
        "id": "Zv2etKK_B9V9"
      },
      "execution_count": 27,
      "outputs": []
    },
    {
      "cell_type": "markdown",
      "source": [
        "Next as a part of the feature handling/engineering we use the MinMax-Scaler on the numerical features we've selected.\n",
        "\n",
        "**The MinMacScaler()** transforms the numerical values to be between 0 and 1, in which 0 is givin to the lowest values and 1 is the highest values within our data. This is performed in the following 2 blocks of code:"
      ],
      "metadata": {
        "id": "5cSu_wUaibS-"
      }
    },
    {
      "cell_type": "code",
      "source": [
        "# Selecting the relevant features\n",
        "numerical_col = penguins_raw[['bill_length_mm', 'bill_depth_mm', 'flipper_length_mm', 'body_mass_g']]\n",
        "\n",
        "#Scaling\n",
        "scaler = MinMaxScaler() # Initialising the MinMaxScaler\n",
        "\n",
        "penguins_scaled = scaler.fit_transform(numerical_col) # Fit the scaler to our numerical features.\n",
        "\n",
        "penguins = pd.DataFrame(penguins_scaled, columns=['bill_length_mm', 'bill_depth_mm', 'flipper_length_mm', 'body_mass_g'] ) # Creating a dataframe of the newly-scaled values.\n",
        "\n",
        "penguins['species'] = penguins_raw['species'] # Add our target variable to the dataframe."
      ],
      "metadata": {
        "id": "ISsC5MWXEt-t"
      },
      "execution_count": 28,
      "outputs": []
    },
    {
      "cell_type": "markdown",
      "source": [
        "To see that the scaler performed as suspected we again look at the first 5 observations and the shape of our data:"
      ],
      "metadata": {
        "id": "PuFgJX3HjXmN"
      }
    },
    {
      "cell_type": "code",
      "source": [
        "penguins.head()"
      ],
      "metadata": {
        "colab": {
          "base_uri": "https://localhost:8080/",
          "height": 206
        },
        "id": "SzJqetrhFqC3",
        "outputId": "2f2de268-0aa5-4de6-f265-43e222b9ab03"
      },
      "execution_count": 29,
      "outputs": [
        {
          "output_type": "execute_result",
          "data": {
            "text/plain": [
              "   bill_length_mm  bill_depth_mm  flipper_length_mm  body_mass_g  species\n",
              "0        0.254545       0.666667           0.152542     0.291667        0\n",
              "1        0.269091       0.511905           0.237288     0.305556        0\n",
              "2        0.298182       0.583333           0.389831     0.152778        0\n",
              "3             NaN            NaN                NaN          NaN        0\n",
              "4        0.167273       0.738095           0.355932     0.208333        0"
            ],
            "text/html": [
              "\n",
              "  <div id=\"df-aff755a5-ea51-4b2d-ac57-c43b7a85bfc4\" class=\"colab-df-container\">\n",
              "    <div>\n",
              "<style scoped>\n",
              "    .dataframe tbody tr th:only-of-type {\n",
              "        vertical-align: middle;\n",
              "    }\n",
              "\n",
              "    .dataframe tbody tr th {\n",
              "        vertical-align: top;\n",
              "    }\n",
              "\n",
              "    .dataframe thead th {\n",
              "        text-align: right;\n",
              "    }\n",
              "</style>\n",
              "<table border=\"1\" class=\"dataframe\">\n",
              "  <thead>\n",
              "    <tr style=\"text-align: right;\">\n",
              "      <th></th>\n",
              "      <th>bill_length_mm</th>\n",
              "      <th>bill_depth_mm</th>\n",
              "      <th>flipper_length_mm</th>\n",
              "      <th>body_mass_g</th>\n",
              "      <th>species</th>\n",
              "    </tr>\n",
              "  </thead>\n",
              "  <tbody>\n",
              "    <tr>\n",
              "      <th>0</th>\n",
              "      <td>0.254545</td>\n",
              "      <td>0.666667</td>\n",
              "      <td>0.152542</td>\n",
              "      <td>0.291667</td>\n",
              "      <td>0</td>\n",
              "    </tr>\n",
              "    <tr>\n",
              "      <th>1</th>\n",
              "      <td>0.269091</td>\n",
              "      <td>0.511905</td>\n",
              "      <td>0.237288</td>\n",
              "      <td>0.305556</td>\n",
              "      <td>0</td>\n",
              "    </tr>\n",
              "    <tr>\n",
              "      <th>2</th>\n",
              "      <td>0.298182</td>\n",
              "      <td>0.583333</td>\n",
              "      <td>0.389831</td>\n",
              "      <td>0.152778</td>\n",
              "      <td>0</td>\n",
              "    </tr>\n",
              "    <tr>\n",
              "      <th>3</th>\n",
              "      <td>NaN</td>\n",
              "      <td>NaN</td>\n",
              "      <td>NaN</td>\n",
              "      <td>NaN</td>\n",
              "      <td>0</td>\n",
              "    </tr>\n",
              "    <tr>\n",
              "      <th>4</th>\n",
              "      <td>0.167273</td>\n",
              "      <td>0.738095</td>\n",
              "      <td>0.355932</td>\n",
              "      <td>0.208333</td>\n",
              "      <td>0</td>\n",
              "    </tr>\n",
              "  </tbody>\n",
              "</table>\n",
              "</div>\n",
              "    <div class=\"colab-df-buttons\">\n",
              "\n",
              "  <div class=\"colab-df-container\">\n",
              "    <button class=\"colab-df-convert\" onclick=\"convertToInteractive('df-aff755a5-ea51-4b2d-ac57-c43b7a85bfc4')\"\n",
              "            title=\"Convert this dataframe to an interactive table.\"\n",
              "            style=\"display:none;\">\n",
              "\n",
              "  <svg xmlns=\"http://www.w3.org/2000/svg\" height=\"24px\" viewBox=\"0 -960 960 960\">\n",
              "    <path d=\"M120-120v-720h720v720H120Zm60-500h600v-160H180v160Zm220 220h160v-160H400v160Zm0 220h160v-160H400v160ZM180-400h160v-160H180v160Zm440 0h160v-160H620v160ZM180-180h160v-160H180v160Zm440 0h160v-160H620v160Z\"/>\n",
              "  </svg>\n",
              "    </button>\n",
              "\n",
              "  <style>\n",
              "    .colab-df-container {\n",
              "      display:flex;\n",
              "      gap: 12px;\n",
              "    }\n",
              "\n",
              "    .colab-df-convert {\n",
              "      background-color: #E8F0FE;\n",
              "      border: none;\n",
              "      border-radius: 50%;\n",
              "      cursor: pointer;\n",
              "      display: none;\n",
              "      fill: #1967D2;\n",
              "      height: 32px;\n",
              "      padding: 0 0 0 0;\n",
              "      width: 32px;\n",
              "    }\n",
              "\n",
              "    .colab-df-convert:hover {\n",
              "      background-color: #E2EBFA;\n",
              "      box-shadow: 0px 1px 2px rgba(60, 64, 67, 0.3), 0px 1px 3px 1px rgba(60, 64, 67, 0.15);\n",
              "      fill: #174EA6;\n",
              "    }\n",
              "\n",
              "    .colab-df-buttons div {\n",
              "      margin-bottom: 4px;\n",
              "    }\n",
              "\n",
              "    [theme=dark] .colab-df-convert {\n",
              "      background-color: #3B4455;\n",
              "      fill: #D2E3FC;\n",
              "    }\n",
              "\n",
              "    [theme=dark] .colab-df-convert:hover {\n",
              "      background-color: #434B5C;\n",
              "      box-shadow: 0px 1px 3px 1px rgba(0, 0, 0, 0.15);\n",
              "      filter: drop-shadow(0px 1px 2px rgba(0, 0, 0, 0.3));\n",
              "      fill: #FFFFFF;\n",
              "    }\n",
              "  </style>\n",
              "\n",
              "    <script>\n",
              "      const buttonEl =\n",
              "        document.querySelector('#df-aff755a5-ea51-4b2d-ac57-c43b7a85bfc4 button.colab-df-convert');\n",
              "      buttonEl.style.display =\n",
              "        google.colab.kernel.accessAllowed ? 'block' : 'none';\n",
              "\n",
              "      async function convertToInteractive(key) {\n",
              "        const element = document.querySelector('#df-aff755a5-ea51-4b2d-ac57-c43b7a85bfc4');\n",
              "        const dataTable =\n",
              "          await google.colab.kernel.invokeFunction('convertToInteractive',\n",
              "                                                    [key], {});\n",
              "        if (!dataTable) return;\n",
              "\n",
              "        const docLinkHtml = 'Like what you see? Visit the ' +\n",
              "          '<a target=\"_blank\" href=https://colab.research.google.com/notebooks/data_table.ipynb>data table notebook</a>'\n",
              "          + ' to learn more about interactive tables.';\n",
              "        element.innerHTML = '';\n",
              "        dataTable['output_type'] = 'display_data';\n",
              "        await google.colab.output.renderOutput(dataTable, element);\n",
              "        const docLink = document.createElement('div');\n",
              "        docLink.innerHTML = docLinkHtml;\n",
              "        element.appendChild(docLink);\n",
              "      }\n",
              "    </script>\n",
              "  </div>\n",
              "\n",
              "\n",
              "<div id=\"df-1f4ecec1-1714-41b1-9322-1c03e9e56425\">\n",
              "  <button class=\"colab-df-quickchart\" onclick=\"quickchart('df-1f4ecec1-1714-41b1-9322-1c03e9e56425')\"\n",
              "            title=\"Suggest charts.\"\n",
              "            style=\"display:none;\">\n",
              "\n",
              "<svg xmlns=\"http://www.w3.org/2000/svg\" height=\"24px\"viewBox=\"0 0 24 24\"\n",
              "     width=\"24px\">\n",
              "    <g>\n",
              "        <path d=\"M19 3H5c-1.1 0-2 .9-2 2v14c0 1.1.9 2 2 2h14c1.1 0 2-.9 2-2V5c0-1.1-.9-2-2-2zM9 17H7v-7h2v7zm4 0h-2V7h2v10zm4 0h-2v-4h2v4z\"/>\n",
              "    </g>\n",
              "</svg>\n",
              "  </button>\n",
              "\n",
              "<style>\n",
              "  .colab-df-quickchart {\n",
              "      --bg-color: #E8F0FE;\n",
              "      --fill-color: #1967D2;\n",
              "      --hover-bg-color: #E2EBFA;\n",
              "      --hover-fill-color: #174EA6;\n",
              "      --disabled-fill-color: #AAA;\n",
              "      --disabled-bg-color: #DDD;\n",
              "  }\n",
              "\n",
              "  [theme=dark] .colab-df-quickchart {\n",
              "      --bg-color: #3B4455;\n",
              "      --fill-color: #D2E3FC;\n",
              "      --hover-bg-color: #434B5C;\n",
              "      --hover-fill-color: #FFFFFF;\n",
              "      --disabled-bg-color: #3B4455;\n",
              "      --disabled-fill-color: #666;\n",
              "  }\n",
              "\n",
              "  .colab-df-quickchart {\n",
              "    background-color: var(--bg-color);\n",
              "    border: none;\n",
              "    border-radius: 50%;\n",
              "    cursor: pointer;\n",
              "    display: none;\n",
              "    fill: var(--fill-color);\n",
              "    height: 32px;\n",
              "    padding: 0;\n",
              "    width: 32px;\n",
              "  }\n",
              "\n",
              "  .colab-df-quickchart:hover {\n",
              "    background-color: var(--hover-bg-color);\n",
              "    box-shadow: 0 1px 2px rgba(60, 64, 67, 0.3), 0 1px 3px 1px rgba(60, 64, 67, 0.15);\n",
              "    fill: var(--button-hover-fill-color);\n",
              "  }\n",
              "\n",
              "  .colab-df-quickchart-complete:disabled,\n",
              "  .colab-df-quickchart-complete:disabled:hover {\n",
              "    background-color: var(--disabled-bg-color);\n",
              "    fill: var(--disabled-fill-color);\n",
              "    box-shadow: none;\n",
              "  }\n",
              "\n",
              "  .colab-df-spinner {\n",
              "    border: 2px solid var(--fill-color);\n",
              "    border-color: transparent;\n",
              "    border-bottom-color: var(--fill-color);\n",
              "    animation:\n",
              "      spin 1s steps(1) infinite;\n",
              "  }\n",
              "\n",
              "  @keyframes spin {\n",
              "    0% {\n",
              "      border-color: transparent;\n",
              "      border-bottom-color: var(--fill-color);\n",
              "      border-left-color: var(--fill-color);\n",
              "    }\n",
              "    20% {\n",
              "      border-color: transparent;\n",
              "      border-left-color: var(--fill-color);\n",
              "      border-top-color: var(--fill-color);\n",
              "    }\n",
              "    30% {\n",
              "      border-color: transparent;\n",
              "      border-left-color: var(--fill-color);\n",
              "      border-top-color: var(--fill-color);\n",
              "      border-right-color: var(--fill-color);\n",
              "    }\n",
              "    40% {\n",
              "      border-color: transparent;\n",
              "      border-right-color: var(--fill-color);\n",
              "      border-top-color: var(--fill-color);\n",
              "    }\n",
              "    60% {\n",
              "      border-color: transparent;\n",
              "      border-right-color: var(--fill-color);\n",
              "    }\n",
              "    80% {\n",
              "      border-color: transparent;\n",
              "      border-right-color: var(--fill-color);\n",
              "      border-bottom-color: var(--fill-color);\n",
              "    }\n",
              "    90% {\n",
              "      border-color: transparent;\n",
              "      border-bottom-color: var(--fill-color);\n",
              "    }\n",
              "  }\n",
              "</style>\n",
              "\n",
              "  <script>\n",
              "    async function quickchart(key) {\n",
              "      const quickchartButtonEl =\n",
              "        document.querySelector('#' + key + ' button');\n",
              "      quickchartButtonEl.disabled = true;  // To prevent multiple clicks.\n",
              "      quickchartButtonEl.classList.add('colab-df-spinner');\n",
              "      try {\n",
              "        const charts = await google.colab.kernel.invokeFunction(\n",
              "            'suggestCharts', [key], {});\n",
              "      } catch (error) {\n",
              "        console.error('Error during call to suggestCharts:', error);\n",
              "      }\n",
              "      quickchartButtonEl.classList.remove('colab-df-spinner');\n",
              "      quickchartButtonEl.classList.add('colab-df-quickchart-complete');\n",
              "    }\n",
              "    (() => {\n",
              "      let quickchartButtonEl =\n",
              "        document.querySelector('#df-1f4ecec1-1714-41b1-9322-1c03e9e56425 button');\n",
              "      quickchartButtonEl.style.display =\n",
              "        google.colab.kernel.accessAllowed ? 'block' : 'none';\n",
              "    })();\n",
              "  </script>\n",
              "</div>\n",
              "    </div>\n",
              "  </div>\n"
            ]
          },
          "metadata": {},
          "execution_count": 29
        }
      ]
    },
    {
      "cell_type": "code",
      "source": [
        "penguins.shape"
      ],
      "metadata": {
        "colab": {
          "base_uri": "https://localhost:8080/"
        },
        "id": "BYG73jOd3Z61",
        "outputId": "74d0ae4d-1add-4f52-a4ed-adcaae1a46f9"
      },
      "execution_count": 30,
      "outputs": [
        {
          "output_type": "execute_result",
          "data": {
            "text/plain": [
              "(344, 5)"
            ]
          },
          "metadata": {},
          "execution_count": 30
        }
      ]
    },
    {
      "cell_type": "markdown",
      "source": [
        "### Handling missing values\n",
        "\n",
        "As we saw initially, the data contains some missing values."
      ],
      "metadata": {
        "id": "vkp39HJ-jpap"
      }
    },
    {
      "cell_type": "code",
      "source": [
        "penguins.isnull().sum()"
      ],
      "metadata": {
        "colab": {
          "base_uri": "https://localhost:8080/"
        },
        "id": "4OeaUirC3gy4",
        "outputId": "4ad74c26-1950-41be-dd90-b24bd439fda6"
      },
      "execution_count": 31,
      "outputs": [
        {
          "output_type": "execute_result",
          "data": {
            "text/plain": [
              "bill_length_mm       2\n",
              "bill_depth_mm        2\n",
              "flipper_length_mm    2\n",
              "body_mass_g          2\n",
              "species              0\n",
              "dtype: int64"
            ]
          },
          "metadata": {},
          "execution_count": 31
        }
      ]
    },
    {
      "cell_type": "markdown",
      "source": [
        "There seems to be 2 missing values in all of the features except in the target variable (**Species**).\n",
        "\n",
        "Givin the small amount of missing observaions we decide to remove the observations containing the missing values."
      ],
      "metadata": {
        "id": "RkMuAJUxj8Gz"
      }
    },
    {
      "cell_type": "code",
      "source": [
        "penguins.dropna(inplace = True)"
      ],
      "metadata": {
        "id": "B9s0uwJz9DyA"
      },
      "execution_count": 32,
      "outputs": []
    },
    {
      "cell_type": "code",
      "source": [
        "penguins.shape"
      ],
      "metadata": {
        "colab": {
          "base_uri": "https://localhost:8080/"
        },
        "id": "-4ZAvI-u9Spy",
        "outputId": "bc2b50cd-b0c6-46d1-961f-48f2b13d21e1"
      },
      "execution_count": 33,
      "outputs": [
        {
          "output_type": "execute_result",
          "data": {
            "text/plain": [
              "(342, 5)"
            ]
          },
          "metadata": {},
          "execution_count": 33
        }
      ]
    },
    {
      "cell_type": "markdown",
      "source": [
        "As can be seen from the new shape of our data, the missing values were all contained in the same 2 observations, meaning that we only reduce our dataset by 2 observations.\n",
        "\n",
        "Next we check for duplicated rows as a precautionary step to make sure we're not creating a neaural network of identical observations."
      ],
      "metadata": {
        "id": "zjFdnafIkIP4"
      }
    },
    {
      "cell_type": "code",
      "source": [
        "penguins.duplicated().value_counts()"
      ],
      "metadata": {
        "colab": {
          "base_uri": "https://localhost:8080/"
        },
        "id": "tdJVTlLa7U8A",
        "outputId": "c33728f1-c388-42e4-9566-a01d7a1674fe"
      },
      "execution_count": 34,
      "outputs": [
        {
          "output_type": "execute_result",
          "data": {
            "text/plain": [
              "False    342\n",
              "dtype: int64"
            ]
          },
          "metadata": {},
          "execution_count": 34
        }
      ]
    },
    {
      "cell_type": "markdown",
      "source": [
        "This however is not a problem within our data."
      ],
      "metadata": {
        "id": "xTrOjSdzlDaE"
      }
    },
    {
      "cell_type": "markdown",
      "source": [
        "Lastly as part of the data-handling we look for imbalances within our selected target variable (**Species**)."
      ],
      "metadata": {
        "id": "SOhDRdmlnAG3"
      }
    },
    {
      "cell_type": "code",
      "source": [
        "penguins.species.value_counts()"
      ],
      "metadata": {
        "colab": {
          "base_uri": "https://localhost:8080/"
        },
        "id": "GAfFx_ACoDOo",
        "outputId": "5084ceed-5a41-4b34-f2c0-67e4857517d1"
      },
      "execution_count": 35,
      "outputs": [
        {
          "output_type": "execute_result",
          "data": {
            "text/plain": [
              "0    151\n",
              "1    123\n",
              "2     68\n",
              "Name: species, dtype: int64"
            ]
          },
          "metadata": {},
          "execution_count": 35
        }
      ]
    },
    {
      "cell_type": "code",
      "source": [
        "plt.figure(figsize=(4, 4))  # Set the figure size\n",
        "\n",
        "plt.pie(penguins['species'].value_counts(),\n",
        "        labels = ['Adelie','Gentoo','Chinstrap'],\n",
        "        autopct='%1.1f%%',\n",
        "        colors=sns.color_palette('Set2')\n",
        "        )\n",
        "\n",
        "plt.title(\"Imbalances within species\")\n",
        "plt.show()"
      ],
      "metadata": {
        "colab": {
          "base_uri": "https://localhost:8080/",
          "height": 368
        },
        "id": "zJ2RdaBU7e3f",
        "outputId": "ae5dc1ac-3428-4440-fcaa-d09aaaa77a3c"
      },
      "execution_count": 36,
      "outputs": [
        {
          "output_type": "display_data",
          "data": {
            "text/plain": [
              "<Figure size 400x400 with 1 Axes>"
            ],
            "image/png": "[encoded data removed]"
          },
          "metadata": {}
        }
      ]
    },
    {
      "cell_type": "markdown",
      "source": [
        "As can be seen from the Pie-chart, the Chinstrap species is a little bit underrepresented, which could lead to the neural network not predicting the species correctly. Therefore we'll use SMOTE to create sythetic data as to balance out our target variable."
      ],
      "metadata": {
        "id": "ZS8CUOO-nI9I"
      }
    },
    {
      "cell_type": "markdown",
      "source": [
        "## Train-test split and imbalance handeling\n",
        "\n"
      ],
      "metadata": {
        "id": "Muqao7hEmtb8"
      }
    },
    {
      "cell_type": "markdown",
      "source": [
        "We would like the model to be trained on some balanced data, but the testing data should be similar to the original data because it mimics a real-life scenario. Therefore we'll split the data into training and test data using the train_test_split() function with 20% of the dataset being used for testing purposes."
      ],
      "metadata": {
        "id": "kLoT5mr2q_kj"
      }
    },
    {
      "cell_type": "code",
      "source": [
        "X = penguins[['bill_length_mm', 'bill_depth_mm', 'flipper_length_mm', 'body_mass_g']].values # Creating the features\n",
        "y = penguins['species'].values # Target variable\n",
        "\n",
        "# Splitting the data using 20% for testing with a random seed of 1234\n",
        "X_train, X_test, y_train, y_test = train_test_split(X, y, test_size=0.25, random_state=123)"
      ],
      "metadata": {
        "id": "YVWXdkeH75sv"
      },
      "execution_count": 55,
      "outputs": []
    },
    {
      "cell_type": "markdown",
      "source": [
        "As mentioned above, we'll like the training data to be balanced in the target variable. Therefore we'll use SMOTE to create sythetic data for the minority classes of the species variable.\n",
        "\n",
        "> \"*SMOTE first selects a minority class instance a at random and finds its k nearest minority class neighbors. The synthetic instance is then created by choosing one of the k nearest neighbors b at random and connecting a and b to form a line segment in the feature space. The synthetic instances are generated as a convex combination of the two chosen instances a and b.*\"\n",
        ">> **References:** *Imbalanced Learning: Foundations, Algorithms, and Applications*, 1st Ed., Yunqian Ma & Haibo He"
      ],
      "metadata": {
        "id": "dYSueLRPr8Sl"
      }
    },
    {
      "cell_type": "code",
      "source": [
        "X_train, y_train = SMOTE().fit_resample(X_train, y_train)"
      ],
      "metadata": {
        "id": "v5YoXDCH8i_R"
      },
      "execution_count": 56,
      "outputs": []
    },
    {
      "cell_type": "markdown",
      "source": [
        "Taking a look at the shape and value counts of the target variable (y = Species), we'll see that the variable has now been balanced out perfectly."
      ],
      "metadata": {
        "id": "MlXSRpcVt2i9"
      }
    },
    {
      "cell_type": "code",
      "source": [
        "display(\n",
        "    print(f\"The lenght of the new data is {y_train.shape} and the value count is identical:\"),\n",
        "\n",
        "    pd.DataFrame(y_train).value_counts()\n",
        "    )"
      ],
      "metadata": {
        "colab": {
          "base_uri": "https://localhost:8080/",
          "height": 121
        },
        "id": "FG8w13HllOP0",
        "outputId": "3a3d3625-5c42-466f-87a2-3173b54bb739"
      },
      "execution_count": 57,
      "outputs": [
        {
          "output_type": "stream",
          "name": "stdout",
          "text": [
            "The lenght of the new data is (348,) and the value count is identical:\n"
          ]
        },
        {
          "output_type": "display_data",
          "data": {
            "text/plain": [
              "None"
            ]
          },
          "metadata": {}
        },
        {
          "output_type": "display_data",
          "data": {
            "text/plain": [
              "0    116\n",
              "1    116\n",
              "2    116\n",
              "dtype: int64"
            ]
          },
          "metadata": {}
        }
      ]
    },
    {
      "cell_type": "code",
      "source": [
        "plt.figure(figsize=(4, 4))  # Set the figure size\n",
        "\n",
        "plt.pie(pd.DataFrame(y_train).value_counts(),\n",
        "        labels = ['Adelie','Gentoo','Chinstrap'],\n",
        "        autopct='%1.1f%%',\n",
        "        colors=sns.color_palette('Set2')\n",
        "        )\n",
        "\n",
        "plt.title(\"Imbalances after using SMOTE()\")\n",
        "plt.suptitle('Species')\n",
        "plt.show()"
      ],
      "metadata": {
        "colab": {
          "base_uri": "https://localhost:8080/",
          "height": 385
        },
        "id": "BCuRBJmStKVo",
        "outputId": "efc0074d-cbda-4255-a91d-a59b8987d7b6"
      },
      "execution_count": 58,
      "outputs": [
        {
          "output_type": "display_data",
          "data": {
            "text/plain": [
              "<Figure size 400x400 with 1 Axes>"
            ],
            "image/png": "[encoded data removed]"
          },
          "metadata": {}
        }
      ]
    },
    {
      "cell_type": "markdown",
      "source": [
        "Following the SMOTE of the target variable we now have a balanced training dataset and some '*real-life*' data for testing later on. This means that we can now move on to initialising the neural network."
      ],
      "metadata": {
        "id": "CN833qppurQ5"
      }
    },
    {
      "cell_type": "markdown",
      "source": [
        "## Initialising Neaural Network\n",
        "\n",
        "Following the data-handling part we're left with balanced training data (X_train, y_train) and testing data (X_test, y_test).\n",
        "\n",
        "Due to the fact that we'll be working with PyTorch for the neural network analysis, we have to create Tesnors, which is essentially the same thing as numpy arrays. Also we have to configurate the data-type (dtype) of the tensors to be able to use them together."
      ],
      "metadata": {
        "id": "Ui_q0vuavAPW"
      }
    },
    {
      "cell_type": "code",
      "source": [
        "# Convert to PyTorch Tensors\n",
        "# torch.float32 = at float object with a max of 32 digits.\n",
        "# torch.int32 a intiger object with a max of 64 digits.\n",
        "# Apparently the y needs to be 64 while the X can remain 32.\n",
        "\n",
        "# Training\n",
        "X_train_tensor = torch.tensor(X_train, dtype=torch.float32)\n",
        "y_train_tensor = torch.tensor(y_train, dtype=torch.int64)\n",
        "\n",
        "# Testing\n",
        "X_test_tensor = torch.tensor(X_test, dtype=torch.float32)\n",
        "y_test_tensor = torch.tensor(y_test, dtype=torch.int64)"
      ],
      "metadata": {
        "id": "BO1vxfcW_Bbp"
      },
      "execution_count": 59,
      "outputs": []
    },
    {
      "cell_type": "markdown",
      "source": [
        "To see that a Tensor and a numpy array is the same, look at the following 1 list:"
      ],
      "metadata": {
        "id": "RS91vAn3K2Dj"
      }
    },
    {
      "cell_type": "code",
      "source": [
        "display(X_train_tensor[1],\n",
        "        X_train_tensor.shape )"
      ],
      "metadata": {
        "colab": {
          "base_uri": "https://localhost:8080/",
          "height": 52
        },
        "id": "H8p2x0owLw_s",
        "outputId": "ca54263d-e22c-443b-fbfd-95ed4c6487b5"
      },
      "execution_count": 60,
      "outputs": [
        {
          "output_type": "display_data",
          "data": {
            "text/plain": [
              "tensor([0.3891, 0.6429, 0.3898, 0.4306])"
            ]
          },
          "metadata": {}
        },
        {
          "output_type": "display_data",
          "data": {
            "text/plain": [
              "torch.Size([348, 4])"
            ]
          },
          "metadata": {}
        }
      ]
    },
    {
      "cell_type": "code",
      "source": [
        "display(X_train[1],\n",
        "        f\"The shape is {X_train.shape}\" )"
      ],
      "metadata": {
        "colab": {
          "base_uri": "https://localhost:8080/",
          "height": 53
        },
        "id": "ZkutcxqpK46d",
        "outputId": "d7f206d1-1bf6-43e9-d30d-5a8508c58007"
      },
      "execution_count": 61,
      "outputs": [
        {
          "output_type": "display_data",
          "data": {
            "text/plain": [
              "array([0.38909091, 0.64285714, 0.38983051, 0.43055556])"
            ]
          },
          "metadata": {}
        },
        {
          "output_type": "display_data",
          "data": {
            "text/plain": [
              "'The shape is (348, 4)'"
            ],
            "application/vnd.google.colaboratory.intrinsic+json": {
              "type": "string"
            }
          },
          "metadata": {}
        }
      ]
    },
    {
      "cell_type": "markdown",
      "source": [
        "In other words, they're exactly identical."
      ],
      "metadata": {
        "id": "SwHw48X3K81-"
      }
    },
    {
      "cell_type": "markdown",
      "source": [
        "### Neural Network initilization\n",
        "\n",
        "Before coding the neural network it's relevant to go through the required steps in order to create a network.\n",
        "\n",
        "In order to build a neural network, the following steps must be followed:\n",
        "\n",
        "1. **Creating a FeedForwardNetwork**\n",
        "  - **1.1. Structure (Architecture) of NN:** Define the network's architecture, specifying the number of layers, neurons, and activation functions for each layer.\n",
        "\n",
        "  - **1.2. Loss Function:** Choose a loss-function that gives a numerical error between predicted and actual values. Here there's different relevant functions to be used depending on the type of NN created (Classifying or regression).\n",
        "  \n",
        "  - **1.3. Optmization Approch:** Selecting an optimization algorithm (e.g., SGD, Adam) to minimize the loss function and update the model's parameters.\n",
        "\n",
        "2. **Forward Pass:** Pass the input data through the network in the forward direction to make predictions.\n",
        "\n",
        "3. **FeedForward Evaluation:** Evaluate the network's predictions and calculate the loss, which gives a numerical error in the predictions.\n",
        "\n",
        "4. **Backward Pass / Gradient Calculation:** Compute the gradient of the loss with respect to the model's parameters using backpropagation.\n",
        "\n",
        "\n",
        "5. **Back Propagation / Update Weights:** Update the model's parameters (weights and biases) using the computed gradients and the chosen optimization algorithm.\n",
        "\n",
        "6. **Training Loop:** Iterate through the training dataset for a specified number of epochs, repeating steps 2 to 5 to improve the model's performance."
      ],
      "metadata": {
        "id": "xS6CsZGkLwJj"
      }
    },
    {
      "cell_type": "markdown",
      "source": [
        "![](https://miro.medium.com/v2/resize:fit:1400/1*YHM9vCaEf8pmdBycuW4wrg.gif)"
      ],
      "metadata": {
        "id": "1Ce-IBMjOZht"
      }
    },
    {
      "cell_type": "markdown",
      "source": [
        "Though before going into the steps, we'll have to make some decisions as to which loss-function to use, the amount of hidden layers and output, the amount of iterations (Epochs) and learning-rate and what type of gradient decent (Batch or stochastic).\n",
        "\n",
        "As so, the following section is devoted to an explanation for each of our chosen variation:\n",
        "\n",
        "* **Loss-function:** We'll be using CrossEntropyLoss function as we're trying to create a Classifying NN model. If we created a regression type NN, we would most likely have chosen the MSE approach, but this is not appropirate since we have a categorical target variable.\n",
        "\n",
        "* **Hidden Layers, input and output:** As pre-specified in the assignment description, we'll be using a minimum of 2 hidden layers. And since we have 4 input features (Bill lenght and depth, flipper lenght and body mass) we'll have 4 inputs. Lastly we'll have 3 outputs because we have 3 categories in our target variable. The output would therefore be the properbility for the input to charachterize each category and so the most likely of these would be our result.\n",
        "\n",
        "* **Learning-rate and iterations:** We'll compare different specifications of the models learning rate and iterations, but for simplicity we start of using 50 iterations and a learning rate of 0,1.\n",
        "\n",
        "* **Type of gradient decent:** There's mainly 2 types of relevant gradient decents:\n",
        "  * **Batch Gradient Descent (BGD):** BGD takes a handfull (batch) of data from your dataset and try to make predictions using a initially random set of parameters. Then you calculate how 'off'/wrong the predictions where (loss-functions in play), update parameters to make your prediction better and then you start over using a new batch of your data. Each iteration or use of a new batch is called a Epoch.\n",
        "\n",
        "  * **Stochastic Gradient Decent (SDG):** Randomly selects ONLY 1 observations from your data and predict it using a initially random set of parameters. The again calculating how 'off'/wrong it was (loss-function) and adjust the parameters to reduce the loss-function to make the predictions better based on the feedback for this one example. This is done a X amount of times (Usually X is set to the lenght of the tensors) to select X-random observations. Againg the iteration is performed Y amount of times, meaning that SDG would require 2 loops; First select X amount of random observations and learn from it, and do this exercise Y amount of times.\n",
        "\n",
        "\n",
        "\n",
        "\n"
      ],
      "metadata": {
        "id": "8SSP9k-7O3zf"
      }
    },
    {
      "cell_type": "markdown",
      "source": [
        "#### Building of the layers:\n",
        "\n",
        "* **The first 3 models:** Will be build using the layers:\n",
        "  \n",
        "      torch.nn.Linear(input_size,hidden_size), # 1\n",
        "                          torch.nn.ReLU(), # 2\n",
        "                          torch.nn.Dropout(0.33), # 3\n",
        "                          torch.nn.Linear(hidden_size,output_size), # 4\n",
        "                          torch.nn.Sigmoid() # 5\n",
        "\n",
        "\n",
        "\n",
        "  * Here the # 1 layer creates a linear layer which transforms the input data, meaning that it takes the 4 features as input and 'hidden_size' as the number of neurons (or outputs).\n",
        "\n",
        "\n",
        "  * The # 2 layer is a Rectified Linear Unit (ReLU) which is an activation function. This function represents a non-linear element to the model by replacing negative values with 0 and positive with the actual values.\n",
        "\n",
        "\n",
        "  * The # 3 layer is a layer used to reducing the number of parameters in the model and it's purpose is to reduce overfitting. Using nn.Dropout in PyTorch randomly sets a fraction of input units to 0 at each update during training, which can be thought of as a form of dynamic pruning, encouraging the network to develop redundant representations and potentially leading to a more robust and simpler model. The dropout rate in a neural network specifies the probability that each neuron (or node) in the layer to which dropout is applied will be set to zero (i.e., “dropped out”) during a forward pass in training. This means that the neuron’s output will be temporarily ignored for that forward pass and the subsequent backward pass. We've set the dropout rate to 33% meaning that on average 33% of the neurons in that layer will be set to zero during each training iteration.\n",
        "\n",
        "\n",
        "  * The # 4 layer is again a linear transformation that takes the input of the above layers and outputs a sze of 3 (as specified by output_size).\n",
        "\n",
        "\n",
        "  * The # 5 layer is another activation function that squashes the output values to a range between 0 and 1, which is often used for binary classification problems where the output represents the probability of belonging to a particular class. That means that the tensor we're calculating in the end would have 3 values representing the properbility of the penguin being species 0, 1 or 2.\n",
        "\n",
        "\n",
        ">> * **The 4 and 5 model:** We try experimenting with different layer-setups where the most noteable differents to the first 3 models is that the 4 and 5 model increase the number of linear transformations, increases the number of neurons and disables the dropout layer to see if overfitting occurs (it does not 🤷‍♂️). Also we introduce another activation function in the SoftMax. Softmax is commonly used for multi-class classification tasks and converts the network's output into class probabilities.\n"
      ],
      "metadata": {
        "id": "QjcdXdcGW0kR"
      }
    },
    {
      "cell_type": "markdown",
      "source": [
        "## MODEL 1:\n",
        "\n",
        "* Epochs: 10\n",
        "* Learning rate: 1\n",
        "* Loss-function: CrossEntropy\n",
        "* Optimizer: SDG"
      ],
      "metadata": {
        "id": "4n7OvnfbVTXo"
      }
    },
    {
      "cell_type": "code",
      "source": [
        "####################################################################\n",
        "############################ MODEL 1 ###############################\n",
        "####################################################################\n",
        "\n",
        "# Initializing Hyperparameters\n",
        "epochs = 10\n",
        "learning_rate = 1\n",
        "\n",
        "# 1. Creating a FeedForwardNetwork\n",
        "# 1.1 Structure (Architecture) of NN\n",
        "input_size = 4\n",
        "hidden_size = 10\n",
        "output_size = 3  # 3 classes for 0, 1, and 2\n",
        "\n",
        "model_net = nn.Sequential(torch.nn.Linear(input_size,hidden_size),\n",
        "                          torch.nn.ReLU(),\n",
        "                          torch.nn.Dropout(0.33),\n",
        "                          torch.nn.Linear(hidden_size,output_size),\n",
        "                          torch.nn.Sigmoid()\n",
        "                          )\n",
        "\n",
        "# 1.2 Loss Function\n",
        "loss_CEL = nn.CrossEntropyLoss()\n",
        "\n",
        "# 1.3 Optimization Approach\n",
        "optimizer = optim.SGD(model_net.parameters(), lr=learning_rate)\n",
        "\n",
        "# Loop over the number of epochs\n",
        "for epoch in tqdm_notebook(range(epochs), total=epochs, unit=\"epoch\"):\n",
        "    epoch_loss = 0.0\n",
        "\n",
        "    # Loop over each sample in the dataset\n",
        "    for i in range(X_train_tensor.size(0)):\n",
        "        # 2. Forward Pass\n",
        "        output = model_net(X_train_tensor[i])\n",
        "\n",
        "        # 3. FeedForward Evaluation\n",
        "        loss = loss_CEL(output.unsqueeze(0), y_train_tensor[i].unsqueeze(0)) # .unsqueeze(0) in this code is to ensure that the input to the CrossEntropyLoss function has the correct shape\n",
        "        optimizer.zero_grad() # Resets the gradients of all optimized torch.Tensor\n",
        "\n",
        "        # 4. Backward Pass / Gradient Calculation\n",
        "        loss.backward()\n",
        "\n",
        "        # Store the loss for each epoch\n",
        "        epoch_loss += loss.item()\n",
        "\n",
        "        # 5. Back Propagation / Update Weights\n",
        "        optimizer.step()\n",
        "\n",
        "    # Calculate and display average loss for the epoch\n",
        "    epoch_loss /= X_train_tensor.size(0)\n",
        "    if epoch + 1 == epochs:\n",
        "      print(f\"Epoch {epoch + 1} Average Loss: {epoch_loss:.10f}\")"
      ],
      "metadata": {
        "colab": {
          "base_uri": "https://localhost:8080/",
          "height": 118,
          "referenced_widgets": [
            "8f2b566d6d8b46328fb86832eb9b02fc",
            "630b33a0394f4586bb0cfd8f8e4533f0",
            "05160cc57cca4034b2b37d504445c0b2",
            "8c242e030dee4c4fad009a6635fe84c9",
            "5669645530b1489a955e2e4688fb116c",
            "2495f9fe5a1540febaf9b08df3b67bca",
            "0a6ba6f6e60546688ca0c199355810bb",
            "50be51afd9e44b589376b18b7910c763",
            "ef48ad6d77ed4f088acb5d06d2b84e21",
            "d9c5d9bce1bf415897c6094b69126bc6",
            "0ef3b8a19ed940f0aacb83e0b92aecf0"
          ]
        },
        "id": "jwm5oBfWApV8",
        "outputId": "ee5648e0-1c2e-497b-d289-4c9823ab83f6"
      },
      "execution_count": 62,
      "outputs": [
        {
          "output_type": "stream",
          "name": "stderr",
          "text": [
            "<ipython-input-62-e75fa4a658c4>:29: TqdmDeprecationWarning: This function will be removed in tqdm==5.0.0\n",
            "Please use `tqdm.notebook.tqdm` instead of `tqdm.tqdm_notebook`\n",
            "  for epoch in tqdm_notebook(range(epochs), total=epochs, unit=\"epoch\"):\n"
          ]
        },
        {
          "output_type": "display_data",
          "data": {
            "text/plain": [
              "  0%|          | 0/10 [00:00<?, ?epoch/s]"
            ],
            "application/vnd.jupyter.widget-view+json": {
              "version_major": 2,
              "version_minor": 0,
              "model_id": "8f2b566d6d8b46328fb86832eb9b02fc"
            }
          },
          "metadata": {}
        },
        {
          "output_type": "stream",
          "name": "stdout",
          "text": [
            "Epoch 10 Average Loss: 0.6104151708\n"
          ]
        }
      ]
    },
    {
      "cell_type": "code",
      "source": [
        "# Initialize an empty list to store the predictions\n",
        "predictions = []\n",
        "\n",
        "# Set your model to evaluation mode\n",
        "model_net.eval()\n",
        "\n",
        "# Loop through each sample in the test data\n",
        "for i in range(X_test_tensor.size(0)):\n",
        "    # Pass the test sample through the model\n",
        "    output = model_net(X_test_tensor[i])\n",
        "\n",
        "    # Get the predicted class by selecting the class with the highest probability (argmax)\n",
        "    predicted_class = output.argmax().item()\n",
        "\n",
        "    # Append the predicted class to the list of predictions\n",
        "    predictions.append(predicted_class)\n",
        "\n",
        "# Convert the list of predictions to a tensor\n",
        "predicted_tensor = torch.tensor(predictions)\n",
        "\n",
        "# Using the predictions tensor to calculate accuracy and confusion matrix\n",
        "print(f\"\"\" The accuracy of Model 1 is {accuracy_score(y_test, predicted_tensor).round(4)*100}%\"\"\")\n",
        "\n",
        "\n",
        "print(f\"\"\" The classification report is as following:\n",
        "{classification_report(y_test, predicted_tensor)}\n",
        "        \"\"\")\n",
        "\n",
        "ConfusionMatrixDisplay(confusion_matrix(y_test,predicted_tensor)).plot()"
      ],
      "metadata": {
        "colab": {
          "base_uri": "https://localhost:8080/",
          "height": 692
        },
        "id": "HghGnK_1eG2y",
        "outputId": "364821ea-d1e1-4e05-ee80-2afbd0032b05"
      },
      "execution_count": 63,
      "outputs": [
        {
          "output_type": "stream",
          "name": "stdout",
          "text": [
            " The accuracy of Model 1 is 79.07%\n",
            " The classification report is as following:\n",
            "              precision    recall  f1-score   support\n",
            "\n",
            "           0       1.00      0.49      0.65        35\n",
            "           1       1.00      1.00      1.00        31\n",
            "           2       0.53      1.00      0.69        20\n",
            "\n",
            "    accuracy                           0.79        86\n",
            "   macro avg       0.84      0.83      0.78        86\n",
            "weighted avg       0.89      0.79      0.79        86\n",
            "\n",
            "        \n"
          ]
        },
        {
          "output_type": "execute_result",
          "data": {
            "text/plain": [
              "<sklearn.metrics._plot.confusion_matrix.ConfusionMatrixDisplay at 0x7f005d379ed0>"
            ]
          },
          "metadata": {},
          "execution_count": 63
        },
        {
          "output_type": "display_data",
          "data": {
            "text/plain": [
              "<Figure size 640x480 with 2 Axes>"
            ],
            "image/png": "[encoded data removed]"
          },
          "metadata": {}
        }
      ]
    },
    {
      "cell_type": "markdown",
      "source": [
        "## MODEL 2:\n",
        "\n",
        "* Epochs: <u> **100** </u> <-- **Changed**\n",
        "* Learning rate: 0.1\n",
        "* Loss-function: CrossEntropy\n",
        "* Optimizer: SDG"
      ],
      "metadata": {
        "id": "ZXFBwlfLW9pP"
      }
    },
    {
      "cell_type": "code",
      "source": [
        "####################################################################\n",
        "############################ MODEL 2 ###############################\n",
        "####################################################################\n",
        "\n",
        "# Initializing Hyperparameters\n",
        "epochs = 50\n",
        "learning_rate = 0.1\n",
        "\n",
        "# 1. Creating a FeedForwardNetwork\n",
        "# 1.1 Structure (Architecture) of NN\n",
        "input_size = 4\n",
        "hidden_size = 10\n",
        "output_size = 3  # 3 classes for 0, 1, and 2\n",
        "\n",
        "model_net = nn.Sequential(torch.nn.Linear(input_size,hidden_size),\n",
        "                          torch.nn.ReLU(),\n",
        "                          torch.nn.Dropout(0.33),\n",
        "                          torch.nn.Linear(hidden_size,output_size),\n",
        "                          torch.nn.Sigmoid()\n",
        "                          )\n",
        "\n",
        "# 1.2 Loss Function\n",
        "loss_CEL = nn.CrossEntropyLoss()\n",
        "\n",
        "# 1.3 Optimization Approach\n",
        "optimizer = optim.SGD(model_net.parameters(), lr=learning_rate)\n",
        "\n",
        "# Loop over the number of epochs\n",
        "for epoch in tqdm_notebook(range(epochs), total=epochs, unit=\"epoch\"):\n",
        "    epoch_loss = 0.0\n",
        "\n",
        "    # Loop over each sample in the dataset\n",
        "    for i in range(X_train_tensor.size(0)):\n",
        "        # 2. Forward Pass\n",
        "        output = model_net(X_train_tensor[i])\n",
        "\n",
        "        # 3. FeedForward Evaluation\n",
        "        loss = loss_CEL(output.unsqueeze(0), y_train_tensor[i].unsqueeze(0)) # .unsqueeze(0) in this code is to ensure that the input to the CrossEntropyLoss function has the correct shape\n",
        "        optimizer.zero_grad() # Resets the gradients of all optimized torch.Tensor\n",
        "\n",
        "        # 4. Backward Pass / Gradient Calculation\n",
        "        loss.backward()\n",
        "\n",
        "        # Store the loss for each epoch\n",
        "        epoch_loss += loss.item()\n",
        "\n",
        "        # 5. Back Propagation / Update Weights\n",
        "        optimizer.step()\n",
        "\n",
        "    # Calculate and display average loss for the epoch\n",
        "    epoch_loss /= X_train_tensor.size(0)\n",
        "    if epoch + 1 == epochs:\n",
        "      print(f\"Epoch {epoch + 1} Average Loss: {epoch_loss:.10f}\")"
      ],
      "metadata": {
        "colab": {
          "base_uri": "https://localhost:8080/",
          "height": 118,
          "referenced_widgets": [
            "c94925306bc94f5db4080892da891b3f",
            "bc0b9a01ede84212acb1f5770d137622",
            "8299e0d5537b4610ad75c3f47d5cf215",
            "c3c3ebc5194d4a77ac0e758ca227dc77",
            "d7ecaf4693c6402aaaa1c13173d5af9e",
            "8b306914019943ef8aa14a5d538694fd",
            "c89d881f72944569bf684cb2dfca3250",
            "f57e42f6ef5c43599dabc7ccce92339e",
            "eb0df7c1b8b44fcf8e5db7d81244b29f",
            "4d63e86fb8c24f9b9a47b7fd9777df6c",
            "f9e604e8a9764e78bee2d6671fb17bcb"
          ]
        },
        "id": "3cgrIQLEW76t",
        "outputId": "26457569-2ba3-4a66-bb73-910ac02e4a6b"
      },
      "execution_count": 64,
      "outputs": [
        {
          "output_type": "stream",
          "name": "stderr",
          "text": [
            "<ipython-input-64-019dcc27f16d>:29: TqdmDeprecationWarning: This function will be removed in tqdm==5.0.0\n",
            "Please use `tqdm.notebook.tqdm` instead of `tqdm.tqdm_notebook`\n",
            "  for epoch in tqdm_notebook(range(epochs), total=epochs, unit=\"epoch\"):\n"
          ]
        },
        {
          "output_type": "display_data",
          "data": {
            "text/plain": [
              "  0%|          | 0/50 [00:00<?, ?epoch/s]"
            ],
            "application/vnd.jupyter.widget-view+json": {
              "version_major": 2,
              "version_minor": 0,
              "model_id": "c94925306bc94f5db4080892da891b3f"
            }
          },
          "metadata": {}
        },
        {
          "output_type": "stream",
          "name": "stdout",
          "text": [
            "Epoch 50 Average Loss: 0.6112651962\n"
          ]
        }
      ]
    },
    {
      "cell_type": "code",
      "source": [
        "# Assuming you have loaded your test data into a tensor X_test_tensor with shape (num_samples, num_features)\n",
        "\n",
        "# Initialize an empty list to store the predictions\n",
        "predictions = []\n",
        "\n",
        "# Set your model to evaluation mode\n",
        "model_net.eval()\n",
        "\n",
        "# Loop through each sample in the test data\n",
        "for i in range(X_test_tensor.size(0)):\n",
        "    # Pass the test sample through the model\n",
        "    output = model_net(X_test_tensor[i])\n",
        "\n",
        "    # Get the predicted class by selecting the class with the highest probability\n",
        "    predicted_class = output.argmax().item()\n",
        "\n",
        "    # Append the predicted class to the list of predictions\n",
        "    predictions.append(predicted_class)\n",
        "\n",
        "# Convert the list of predictions to a tensor\n",
        "predicted_tensor = torch.tensor(predictions)\n",
        "\n",
        "# Using the predictions tensor to calculate accuracy and confusion matrix\n",
        "print(f\"\"\" The accuracy of Model 1 is {accuracy_score(y_test, predicted_tensor).round(4)*100}%\"\"\")\n",
        "\n",
        "\n",
        "print(f\"\"\" The classification report is as following:\n",
        "{classification_report(y_test, predicted_tensor)}\n",
        "        \"\"\")\n",
        "\n",
        "ConfusionMatrixDisplay(confusion_matrix(y_test,predicted_tensor)).plot()"
      ],
      "metadata": {
        "colab": {
          "base_uri": "https://localhost:8080/",
          "height": 692
        },
        "id": "9YQ7wFSReFIH",
        "outputId": "5f31653b-3ce2-407f-bb5f-8369cab06d73"
      },
      "execution_count": 65,
      "outputs": [
        {
          "output_type": "stream",
          "name": "stdout",
          "text": [
            " The accuracy of Model 1 is 95.35%\n",
            " The classification report is as following:\n",
            "              precision    recall  f1-score   support\n",
            "\n",
            "           0       1.00      0.89      0.94        35\n",
            "           1       1.00      1.00      1.00        31\n",
            "           2       0.83      1.00      0.91        20\n",
            "\n",
            "    accuracy                           0.95        86\n",
            "   macro avg       0.94      0.96      0.95        86\n",
            "weighted avg       0.96      0.95      0.95        86\n",
            "\n",
            "        \n"
          ]
        },
        {
          "output_type": "execute_result",
          "data": {
            "text/plain": [
              "<sklearn.metrics._plot.confusion_matrix.ConfusionMatrixDisplay at 0x7eff788ac6a0>"
            ]
          },
          "metadata": {},
          "execution_count": 65
        },
        {
          "output_type": "display_data",
          "data": {
            "text/plain": [
              "<Figure size 640x480 with 2 Axes>"
            ],
            "image/png": "[encoded data removed]"
          },
          "metadata": {}
        }
      ]
    },
    {
      "cell_type": "markdown",
      "source": [
        "## MODEL 3:\n",
        "\n",
        "* Epochs: 100\n",
        "* Learning rate: <u> **0.01** </u> <-- **Changed**\n",
        "* Loss-function: CrossEntropy\n",
        "* Optimizer: SDG"
      ],
      "metadata": {
        "id": "M-vOGcEEXRlZ"
      }
    },
    {
      "cell_type": "code",
      "source": [
        "####################################################################\n",
        "############################ MODEL 3 ###############################\n",
        "####################################################################\n",
        "\n",
        "# Initializing Hyperparameters\n",
        "epochs = 100\n",
        "learning_rate = 0.01\n",
        "\n",
        "# 1. Creating a FeedForwardNetwork\n",
        "# 1.1 Structure (Architecture) of NN\n",
        "input_size = 4\n",
        "hidden_size = 10\n",
        "output_size = 3  # 3 classes for 0, 1, and 2\n",
        "\n",
        "model_net = nn.Sequential(torch.nn.Linear(input_size,hidden_size),\n",
        "                          torch.nn.ReLU(),\n",
        "                          torch.nn.Dropout(0.33),\n",
        "                          torch.nn.Linear(hidden_size,output_size),\n",
        "                          torch.nn.Sigmoid()\n",
        "                          )\n",
        "\n",
        "# 1.2 Loss Function\n",
        "loss_CEL = nn.CrossEntropyLoss()\n",
        "\n",
        "# 1.3 Optimization Approach\n",
        "optimizer = optim.SGD(model_net.parameters(), lr=learning_rate)\n",
        "\n",
        "# Loop over the number of epochs\n",
        "for epoch in tqdm_notebook(range(epochs), total=epochs, unit=\"epoch\"):\n",
        "    epoch_loss = 0.0\n",
        "\n",
        "    # Loop over each sample in the dataset\n",
        "    for i in range(X_train_tensor.size(0)):\n",
        "        # 2. Forward Pass\n",
        "        output = model_net(X_train_tensor[i])\n",
        "\n",
        "        # 3. FeedForward Evaluation\n",
        "        loss = loss_CEL(output.unsqueeze(0), y_train_tensor[i].unsqueeze(0)) # .unsqueeze(0) in this code is to ensure that the input to the CrossEntropyLoss function has the correct shape\n",
        "        optimizer.zero_grad() # Resets the gradients of all optimized torch.Tensor\n",
        "\n",
        "        # 4. Backward Pass / Gradient Calculation\n",
        "        loss.backward()\n",
        "\n",
        "        # Store the loss for each epoch\n",
        "        epoch_loss += loss.item()\n",
        "\n",
        "        # 5. Back Propagation / Update Weights\n",
        "        optimizer.step()\n",
        "\n",
        "    # Calculate and display average loss for the epoch\n",
        "    epoch_loss /= X_train_tensor.size(0)\n",
        "    if epoch + 1 == epochs:\n",
        "      print(f\"Epoch {epoch + 1} Average Loss: {epoch_loss:.10f}\")"
      ],
      "metadata": {
        "colab": {
          "base_uri": "https://localhost:8080/",
          "height": 118,
          "referenced_widgets": [
            "93f325692d534e4898fc118b76fa4997",
            "9ea29ca540c64cd197aff607dc89c2d8",
            "8279ea46f04c4a1abf253e82964fb94e",
            "967f5e323ebb4a74bc0a5391a3f5b1f7",
            "201cf15ee2ed4ddc9f2da636454e9f11",
            "e63e23a617144f16912c6ca253e5c322",
            "0761f07079234ae6bc164aa8bdf49724",
            "a571e33e80904cb9ac4de0d2e10f7f25",
            "3b1aff931ef6474c9560e597044a7864",
            "bc103c84e6a54d56adb074923b857e3d",
            "02d0382176f34aeeb61c3549c1fc6310"
          ]
        },
        "id": "ZH3of12IXR46",
        "outputId": "9b33a4f5-35dd-4b8b-92cc-0c3b067592e4"
      },
      "execution_count": 66,
      "outputs": [
        {
          "output_type": "stream",
          "name": "stderr",
          "text": [
            "<ipython-input-66-742ad7070f68>:29: TqdmDeprecationWarning: This function will be removed in tqdm==5.0.0\n",
            "Please use `tqdm.notebook.tqdm` instead of `tqdm.tqdm_notebook`\n",
            "  for epoch in tqdm_notebook(range(epochs), total=epochs, unit=\"epoch\"):\n"
          ]
        },
        {
          "output_type": "display_data",
          "data": {
            "text/plain": [
              "  0%|          | 0/100 [00:00<?, ?epoch/s]"
            ],
            "application/vnd.jupyter.widget-view+json": {
              "version_major": 2,
              "version_minor": 0,
              "model_id": "93f325692d534e4898fc118b76fa4997"
            }
          },
          "metadata": {}
        },
        {
          "output_type": "stream",
          "name": "stdout",
          "text": [
            "Epoch 100 Average Loss: 0.8729925846\n"
          ]
        }
      ]
    },
    {
      "cell_type": "code",
      "source": [
        "# Assuming you have loaded your test data into a tensor X_test_tensor with shape (num_samples, num_features)\n",
        "\n",
        "# Initialize an empty list to store the predictions\n",
        "predictions = []\n",
        "\n",
        "# Set your model to evaluation mode\n",
        "model_net.eval()\n",
        "\n",
        "# Loop through each sample in the test data\n",
        "for i in range(X_test_tensor.size(0)):\n",
        "    # Pass the test sample through the model\n",
        "    output = model_net(X_test_tensor[i])\n",
        "\n",
        "    # Get the predicted class by selecting the class with the highest probability\n",
        "    predicted_class = output.argmax().item()\n",
        "\n",
        "    # Append the predicted class to the list of predictions\n",
        "    predictions.append(predicted_class)\n",
        "\n",
        "# Convert the list of predictions to a tensor\n",
        "predicted_tensor = torch.tensor(predictions)\n",
        "\n",
        "# Using the predictions tensor to calculate accuracy and confusion matrix\n",
        "print(f\"\"\" The accuracy of Model 1 is {accuracy_score(y_test, predicted_tensor).round(4)*100}%\"\"\")\n",
        "\n",
        "\n",
        "print(f\"\"\" The classification report is as following:\n",
        "{classification_report(y_test, predicted_tensor)}\n",
        "        \"\"\")\n",
        "\n",
        "ConfusionMatrixDisplay(confusion_matrix(y_test,predicted_tensor)).plot()"
      ],
      "metadata": {
        "colab": {
          "base_uri": "https://localhost:8080/",
          "height": 822
        },
        "id": "DMHzpqHKeD24",
        "outputId": "a1dc5e49-6ba0-46b9-e22a-2b41dfe5803e"
      },
      "execution_count": 67,
      "outputs": [
        {
          "output_type": "stream",
          "name": "stdout",
          "text": [
            " The accuracy of Model 1 is 76.74%\n",
            " The classification report is as following:\n",
            "              precision    recall  f1-score   support\n",
            "\n",
            "           0       0.64      1.00      0.78        35\n",
            "           1       1.00      1.00      1.00        31\n",
            "           2       0.00      0.00      0.00        20\n",
            "\n",
            "    accuracy                           0.77        86\n",
            "   macro avg       0.55      0.67      0.59        86\n",
            "weighted avg       0.62      0.77      0.68        86\n",
            "\n",
            "        \n"
          ]
        },
        {
          "output_type": "stream",
          "name": "stderr",
          "text": [
            "/usr/local/lib/python3.10/dist-packages/sklearn/metrics/_classification.py:1344: UndefinedMetricWarning: Precision and F-score are ill-defined and being set to 0.0 in labels with no predicted samples. Use `zero_division` parameter to control this behavior.\n",
            "  _warn_prf(average, modifier, msg_start, len(result))\n",
            "/usr/local/lib/python3.10/dist-packages/sklearn/metrics/_classification.py:1344: UndefinedMetricWarning: Precision and F-score are ill-defined and being set to 0.0 in labels with no predicted samples. Use `zero_division` parameter to control this behavior.\n",
            "  _warn_prf(average, modifier, msg_start, len(result))\n",
            "/usr/local/lib/python3.10/dist-packages/sklearn/metrics/_classification.py:1344: UndefinedMetricWarning: Precision and F-score are ill-defined and being set to 0.0 in labels with no predicted samples. Use `zero_division` parameter to control this behavior.\n",
            "  _warn_prf(average, modifier, msg_start, len(result))\n"
          ]
        },
        {
          "output_type": "execute_result",
          "data": {
            "text/plain": [
              "<sklearn.metrics._plot.confusion_matrix.ConfusionMatrixDisplay at 0x7eff789f4970>"
            ]
          },
          "metadata": {},
          "execution_count": 67
        },
        {
          "output_type": "display_data",
          "data": {
            "text/plain": [
              "<Figure size 640x480 with 2 Axes>"
            ],
            "image/png": "[encoded data removed]"
          },
          "metadata": {}
        }
      ]
    },
    {
      "cell_type": "markdown",
      "source": [
        "## MODEL 4:\n",
        "\n",
        "* Epochs: 100\n",
        "* Learning rate: 0.01\n",
        "* Loss-function: CrossEntropy\n",
        "* Optimizer: SDG\n",
        "\n",
        "* Layer modification:\n",
        "\n",
        "      model_net = nn.Sequential(\n",
        "        torch.nn.Linear(input_size, 64),\n",
        "        torch.nn.ReLU(),\n",
        "        torch.nn.Linear(64, 32),\n",
        "        torch.nn.ReLU(),\n",
        "        torch.nn.Linear(32, output_size),\n",
        "        torch.nn.Softmax())\n"
      ],
      "metadata": {
        "id": "8nUpyroLYCSA"
      }
    },
    {
      "cell_type": "code",
      "source": [
        "####################################################################\n",
        "############################ MODEL 4 ###############################\n",
        "####################################################################\n",
        "\n",
        "# Initializing Hyperparameters\n",
        "epochs = 100\n",
        "learning_rate = 0.01\n",
        "\n",
        "# 1. Creating a FeedForwardNetwork\n",
        "# 1.1 Structure (Architecture) of NN\n",
        "input_size = 4\n",
        "hidden_size = 10\n",
        "output_size = 3  # 3 classes for 0, 1, and 2\n",
        "\n",
        "############################ CHANGED #################################\n",
        "model_net = nn.Sequential(\n",
        "    torch.nn.Linear(input_size, 64),\n",
        "    torch.nn.ReLU(),\n",
        "    torch.nn.Linear(64, 32),\n",
        "    torch.nn.ReLU(),\n",
        "    torch.nn.Linear(32, output_size),\n",
        "    torch.nn.Softmax()\n",
        ")\n",
        "####################################################################\n",
        "\n",
        "# 1.2 Loss Function\n",
        "loss_CEL = nn.CrossEntropyLoss()\n",
        "\n",
        "# 1.3 Optimization Approach\n",
        "optimizer = optim.SGD(model_net.parameters(), lr=learning_rate)\n",
        "\n",
        "# Loop over the number of epochs\n",
        "for epoch in tqdm_notebook(range(epochs), total=epochs, unit=\"epoch\"):\n",
        "    epoch_loss = 0.0\n",
        "\n",
        "    # Loop over each sample in the dataset\n",
        "    for i in range(X_train_tensor.size(0)):\n",
        "        # 2. Forward Pass\n",
        "        output = model_net(X_train_tensor[i])\n",
        "\n",
        "        # 3. FeedForward Evaluation\n",
        "        loss = loss_CEL(output.unsqueeze(0), y_train_tensor[i].unsqueeze(0)) # .unsqueeze(0) in this code is to ensure that the input to the CrossEntropyLoss function has the correct shape\n",
        "        optimizer.zero_grad() # Resets the gradients of all optimized torch.Tensor\n",
        "\n",
        "        # 4. Backward Pass / Gradient Calculation\n",
        "        loss.backward()\n",
        "\n",
        "        # Store the loss for each epoch\n",
        "        epoch_loss += loss.item()\n",
        "\n",
        "        # 5. Back Propagation / Update Weights\n",
        "        optimizer.step()\n",
        "\n",
        "    # Calculate and display average loss for the epoch\n",
        "    epoch_loss /= X_train_tensor.size(0)\n",
        "    if epoch + 1 == epochs:\n",
        "      print(f\"Epoch {epoch + 1} Average Loss: {epoch_loss:.10f}\")"
      ],
      "metadata": {
        "colab": {
          "base_uri": "https://localhost:8080/",
          "height": 153,
          "referenced_widgets": [
            "2315bfac56714ee09d4e30e619465240",
            "74e6e32b9207499e964e83ad4b504a34",
            "0ec0707920034dfd868e1bbb8b748a4b",
            "589cccde6a514bcb8cf1f8c70dce70da",
            "af3a3cfaaa524c2d98ea01056d6bb5e0",
            "c242d5ae30554339ad046e12c5ccf96d",
            "5f852151e3114c659a479bc5c745b1ed",
            "a8b8eabe3bea4629b38f235e49640269",
            "2642d270b4d64eb0bf2a640df07f2607",
            "cf8bd0699333427cbf4741a2c05660bb",
            "0a96826b1e5a4f9490caf3f08d1a2889"
          ]
        },
        "id": "Ft8i46tuYA6G",
        "outputId": "1803141f-8a91-4b7d-b0bc-db3b196256b2"
      },
      "execution_count": 68,
      "outputs": [
        {
          "output_type": "stream",
          "name": "stderr",
          "text": [
            "<ipython-input-68-4500b41d7c64>:33: TqdmDeprecationWarning: This function will be removed in tqdm==5.0.0\n",
            "Please use `tqdm.notebook.tqdm` instead of `tqdm.tqdm_notebook`\n",
            "  for epoch in tqdm_notebook(range(epochs), total=epochs, unit=\"epoch\"):\n"
          ]
        },
        {
          "output_type": "display_data",
          "data": {
            "text/plain": [
              "  0%|          | 0/100 [00:00<?, ?epoch/s]"
            ],
            "application/vnd.jupyter.widget-view+json": {
              "version_major": 2,
              "version_minor": 0,
              "model_id": "2315bfac56714ee09d4e30e619465240"
            }
          },
          "metadata": {}
        },
        {
          "output_type": "stream",
          "name": "stderr",
          "text": [
            "/usr/local/lib/python3.10/dist-packages/torch/nn/modules/module.py:1518: UserWarning: Implicit dimension choice for softmax has been deprecated. Change the call to include dim=X as an argument.\n",
            "  return self._call_impl(*args, **kwargs)\n"
          ]
        },
        {
          "output_type": "stream",
          "name": "stdout",
          "text": [
            "Epoch 100 Average Loss: 0.5544980060\n"
          ]
        }
      ]
    },
    {
      "cell_type": "code",
      "source": [
        "# Assuming you have loaded your test data into a tensor X_test_tensor with shape (num_samples, num_features)\n",
        "\n",
        "# Initialize an empty list to store the predictions\n",
        "predictions = []\n",
        "\n",
        "# Set your model to evaluation mode\n",
        "model_net.eval()\n",
        "\n",
        "# Loop through each sample in the test data\n",
        "for i in range(X_test_tensor.size(0)):\n",
        "    # Pass the test sample through the model\n",
        "    output = model_net(X_test_tensor[i])\n",
        "\n",
        "    # Get the predicted class by selecting the class with the highest probability\n",
        "    predicted_class = output.argmax().item()\n",
        "\n",
        "    # Append the predicted class to the list of predictions\n",
        "    predictions.append(predicted_class)\n",
        "\n",
        "# Convert the list of predictions to a tensor\n",
        "predicted_tensor = torch.tensor(predictions)\n",
        "\n",
        "# Using the predictions tensor to calculate accuracy and confusion matrix\n",
        "print(f\"\"\" The accuracy of Model 1 is {accuracy_score(y_test, predicted_tensor).round(4)*100}%\"\"\")\n",
        "\n",
        "\n",
        "print(f\"\"\" The classification report is as following:\n",
        "{classification_report(y_test, predicted_tensor)}\n",
        "        \"\"\")\n",
        "\n",
        "ConfusionMatrixDisplay(confusion_matrix(y_test,predicted_tensor)).plot()"
      ],
      "metadata": {
        "colab": {
          "base_uri": "https://localhost:8080/",
          "height": 692
        },
        "id": "znNHlsFceCIz",
        "outputId": "6228f0e0-8afc-43aa-e22f-7f534aeca930"
      },
      "execution_count": 69,
      "outputs": [
        {
          "output_type": "stream",
          "name": "stdout",
          "text": [
            " The accuracy of Model 1 is 97.67%\n",
            " The classification report is as following:\n",
            "              precision    recall  f1-score   support\n",
            "\n",
            "           0       1.00      0.94      0.97        35\n",
            "           1       1.00      1.00      1.00        31\n",
            "           2       0.91      1.00      0.95        20\n",
            "\n",
            "    accuracy                           0.98        86\n",
            "   macro avg       0.97      0.98      0.97        86\n",
            "weighted avg       0.98      0.98      0.98        86\n",
            "\n",
            "        \n"
          ]
        },
        {
          "output_type": "execute_result",
          "data": {
            "text/plain": [
              "<sklearn.metrics._plot.confusion_matrix.ConfusionMatrixDisplay at 0x7eff78990310>"
            ]
          },
          "metadata": {},
          "execution_count": 69
        },
        {
          "output_type": "display_data",
          "data": {
            "text/plain": [
              "<Figure size 640x480 with 2 Axes>"
            ],
            "image/png": "[encoded data removed]"
          },
          "metadata": {}
        }
      ]
    },
    {
      "cell_type": "markdown",
      "source": [
        "## MODEL 5:\n",
        "\n",
        "* Epochs: 100\n",
        "* Learning rate: 0.01\n",
        "* Loss-function: CrossEntropy\n",
        "* Optimizer: SDG\n",
        "\n",
        "* Layer modification:\n",
        "\n",
        "      model_net = nn.Sequential(\n",
        "        torch.nn.Linear(input_size, 128),\n",
        "        torch.nn.ReLU(),\n",
        "        torch.nn.Linear(128, 64),\n",
        "        torch.nn.ReLU(),\n",
        "        torch.nn.Linear(64, 32),\n",
        "        torch.nn.ReLU(),\n",
        "        torch.nn.Linear(32, output_size),\n",
        "        torch.nn.Softmax()\n",
        "                            )\n"
      ],
      "metadata": {
        "id": "-qXZ7cCZa57k"
      }
    },
    {
      "cell_type": "code",
      "source": [
        "####################################################################\n",
        "############################ MODEL 5 ###############################\n",
        "####################################################################\n",
        "\n",
        "# Initializing Hyperparameters\n",
        "epochs = 100\n",
        "learning_rate = 0.01\n",
        "\n",
        "# 1. Creating a FeedForwardNetwork\n",
        "# 1.1 Structure (Architecture) of NN\n",
        "input_size = 4\n",
        "hidden_size = 10\n",
        "output_size = 3  # 3 classes for 0, 1, and 2\n",
        "\n",
        "############################ CHANGED #################################\n",
        "model_net = nn.Sequential(\n",
        "    torch.nn.Linear(input_size, 128),\n",
        "    torch.nn.ReLU(),\n",
        "    torch.nn.Linear(128, 64),\n",
        "    torch.nn.ReLU(),\n",
        "    torch.nn.Linear(64, 32),\n",
        "    torch.nn.ReLU(),\n",
        "    torch.nn.Linear(32, output_size),\n",
        "    torch.nn.Softmax()\n",
        "    )\n",
        "####################################################################\n",
        "\n",
        "# 1.2 Loss Function\n",
        "loss_CEL = nn.CrossEntropyLoss()\n",
        "\n",
        "# 1.3 Optimization Approach\n",
        "optimizer = optim.SGD(model_net.parameters(), lr=learning_rate)\n",
        "\n",
        "# Loop over the number of epochs\n",
        "for epoch in tqdm_notebook(range(epochs), total=epochs, unit=\"epoch\"):\n",
        "    epoch_loss = 0.0\n",
        "\n",
        "    # Loop over each sample in the dataset\n",
        "    for i in range(X_train_tensor.size(0)):\n",
        "        # 2. Forward Pass\n",
        "        output = model_net(X_train_tensor[i])\n",
        "\n",
        "        # 3. FeedForward Evaluation\n",
        "        loss = loss_CEL(output.unsqueeze(0), y_train_tensor[i].unsqueeze(0)) # .unsqueeze(0) in this code is to ensure that the input to the CrossEntropyLoss function has the correct shape\n",
        "        optimizer.zero_grad() # Resets the gradients of all optimized torch.Tensor\n",
        "\n",
        "        # 4. Backward Pass / Gradient Calculation\n",
        "        loss.backward()\n",
        "\n",
        "        # Store the loss for each epoch\n",
        "        epoch_loss += loss.item()\n",
        "\n",
        "        # 5. Back Propagation / Update Weights\n",
        "        optimizer.step()\n",
        "\n",
        "    # Calculate and display average loss for the epoch\n",
        "    epoch_loss /= X_train_tensor.size(0)\n",
        "    if epoch + 1 == epochs:\n",
        "      print(f\"Epoch {epoch + 1} Average Loss: {epoch_loss:.10f}\")"
      ],
      "metadata": {
        "colab": {
          "base_uri": "https://localhost:8080/",
          "height": 153,
          "referenced_widgets": [
            "cae8519c3601465f971e831c5c317cc6",
            "3b71702d85624e50aa3a4d424953562a",
            "4ef5ed728c34432fa4f282a73ad19a38",
            "e52e2ffc8d464cc1a4937f16d19810c1",
            "08f95781edab4d219f61158937f4a612",
            "1b0650fafb1c4b1a97f92f374116234f",
            "35621b75e9d34ca186f29f010c4ea3ee",
            "a3817bb784c2419f99456eb8eb6858b6",
            "ced302414cea47f58c8664500d8cabf4",
            "2cf6162c7900445480d343b244f7c70d",
            "11d5565bc2c94502a38ad22c852b471d"
          ]
        },
        "id": "LOwkAiHHa5XP",
        "outputId": "ccf94d9d-def1-466d-9bd8-166c2ca886af"
      },
      "execution_count": 70,
      "outputs": [
        {
          "output_type": "stream",
          "name": "stderr",
          "text": [
            "<ipython-input-70-6837f24b1810>:35: TqdmDeprecationWarning: This function will be removed in tqdm==5.0.0\n",
            "Please use `tqdm.notebook.tqdm` instead of `tqdm.tqdm_notebook`\n",
            "  for epoch in tqdm_notebook(range(epochs), total=epochs, unit=\"epoch\"):\n"
          ]
        },
        {
          "output_type": "display_data",
          "data": {
            "text/plain": [
              "  0%|          | 0/100 [00:00<?, ?epoch/s]"
            ],
            "application/vnd.jupyter.widget-view+json": {
              "version_major": 2,
              "version_minor": 0,
              "model_id": "cae8519c3601465f971e831c5c317cc6"
            }
          },
          "metadata": {}
        },
        {
          "output_type": "stream",
          "name": "stderr",
          "text": [
            "/usr/local/lib/python3.10/dist-packages/torch/nn/modules/module.py:1518: UserWarning: Implicit dimension choice for softmax has been deprecated. Change the call to include dim=X as an argument.\n",
            "  return self._call_impl(*args, **kwargs)\n"
          ]
        },
        {
          "output_type": "stream",
          "name": "stdout",
          "text": [
            "Epoch 100 Average Loss: 0.5523736109\n"
          ]
        }
      ]
    },
    {
      "cell_type": "code",
      "source": [
        "# Assuming you have loaded your test data into a tensor X_test_tensor with shape (num_samples, num_features)\n",
        "\n",
        "# Initialize an empty list to store the predictions\n",
        "predictions = []\n",
        "\n",
        "# Set your model to evaluation mode\n",
        "model_net.eval()\n",
        "\n",
        "# Loop through each sample in the test data\n",
        "for i in range(X_test_tensor.size(0)):\n",
        "    # Pass the test sample through the model\n",
        "    output = model_net(X_test_tensor[i])\n",
        "\n",
        "    # Get the predicted class by selecting the class with the highest probability\n",
        "    predicted_class = output.argmax().item()\n",
        "\n",
        "    # Append the predicted class to the list of predictions\n",
        "    predictions.append(predicted_class)\n",
        "\n",
        "# Convert the list of predictions to a tensor\n",
        "predicted_tensor = torch.tensor(predictions)\n",
        "\n",
        "# Using the predictions tensor to calculate accuracy and confusion matrix\n",
        "print(f\"\"\" The accuracy of Model 1 is {accuracy_score(y_test, predicted_tensor).round(4)*100}%\"\"\")\n",
        "\n",
        "\n",
        "print(f\"\"\" The classification report is as following:\n",
        "{classification_report(y_test, predicted_tensor)}\n",
        "        \"\"\")\n",
        "\n",
        "ConfusionMatrixDisplay(confusion_matrix(y_test,predicted_tensor)).plot()"
      ],
      "metadata": {
        "id": "2LpIY7hrGHKa",
        "colab": {
          "base_uri": "https://localhost:8080/",
          "height": 692
        },
        "outputId": "37c6e213-cfa9-42a7-d812-dec339d299d8"
      },
      "execution_count": 71,
      "outputs": [
        {
          "output_type": "stream",
          "name": "stdout",
          "text": [
            " The accuracy of Model 1 is 96.50999999999999%\n",
            " The classification report is as following:\n",
            "              precision    recall  f1-score   support\n",
            "\n",
            "           0       1.00      0.91      0.96        35\n",
            "           1       1.00      1.00      1.00        31\n",
            "           2       0.87      1.00      0.93        20\n",
            "\n",
            "    accuracy                           0.97        86\n",
            "   macro avg       0.96      0.97      0.96        86\n",
            "weighted avg       0.97      0.97      0.97        86\n",
            "\n",
            "        \n"
          ]
        },
        {
          "output_type": "execute_result",
          "data": {
            "text/plain": [
              "<sklearn.metrics._plot.confusion_matrix.ConfusionMatrixDisplay at 0x7eff783e7670>"
            ]
          },
          "metadata": {},
          "execution_count": 71
        },
        {
          "output_type": "display_data",
          "data": {
            "text/plain": [
              "<Figure size 640x480 with 2 Axes>"
            ],
            "image/png": "[encoded data removed]"
          },
          "metadata": {}
        }
      ]
    },
    {
      "cell_type": "markdown",
      "source": [
        "---\n",
        "# Conclusions:\n",
        "\n",
        "The overall accuracy of the five models are in genereal good. Model 1 seems to have a problem regarding predicting class 1 (Adelie) in which it falsely predicted class 2 (Chinstrap) in 18 cases.\n",
        "\n",
        "Model 2 also seemes to do this, but minimize the cases to only 4 instances of wrongfully predicting 2 instead of 0. Overall the F1-score for model 2 is high alongside a high accuracy.\n",
        "\n",
        "Model 3 has a different problem than model 1 in which it never predicted case 2 for any of the testing observations, resulting in the lowest accuracy among all variables. Model 3 was the one with the lower learning rate with 100 epochs, meaning that the resulting low accuracy could be do to the model finding a sub-optimal solution and getting stuck at a local minimum on the loss-function. With a higher learning rate, the model has a chance to jump out of local minima and explore the parameter space more efficiently, but this does not seem to be the case for model 3.\n",
        "\n",
        "Model 4 which experiments with a different layer-setup is very good at predicting the testing data. It's the overall best fitted model based on F1-score, accuracy and with only 2 wrong predictions. It again predicts 2 cases of class 2 which where in fact class 0 (same case as model 1 and 2).\n",
        "\n",
        "Model 5 also experiments with a different layer setup and again the model performs pretty well. It in fact has the 2nd highest accuracy, F1-score and only predicts 3 cases wrong, again class 0 cases wrongfully predicted as class 2.\n",
        "\n",
        "\n",
        "> **Overall**  the best model seems to be model 4, which uses 100 epochs, 0.01 learning rate and a layer-setup with linear, ReLU, linear, ReLU, linear and SoftMax with a maximum of 64 neurons along the way."
      ],
      "metadata": {
        "id": "fz2Fu4_Yby8b"
      }
    },
    {
      "cell_type": "markdown",
      "source": [
        "---\n",
        "# Appendix"
      ],
      "metadata": {
        "id": "okVrKlZIxhan"
      }
    },
    {
      "cell_type": "code",
      "source": [
        "####################################################################\n",
        "################## BATCH TYPE INSTEAD OF SDG #######################\n",
        "####################################################################\n",
        "\n",
        "\n",
        "dataset = TensorDataset(X_train_tensor, y_train_tensor)\n",
        "\n",
        "# Initializing Hyperparameters\n",
        "epochs = 100\n",
        "learning_rate = 0.01\n",
        "batch_size = 32  # Choose an appropriate batch size\n",
        "\n",
        "# 1. Creating a FeedForwardNetwork\n",
        "# 1.1 Structure (Architecture) of NN\n",
        "model_net = nn.Sequential(torch.nn.Linear(input_size,hidden_size),\n",
        "                          torch.nn.ReLU(),\n",
        "                          torch.nn.Dropout(0.33),\n",
        "                          torch.nn.Linear(hidden_size,output_size),\n",
        "                          torch.nn.Sigmoid()\n",
        "                          )\n",
        "\n",
        "# 1.2 Loss Function\n",
        "loss_CEL = nn.CrossEntropyLoss()\n",
        "\n",
        "# 1.3 Optimization Approach\n",
        "optimizer = optim.SGD(model_net.parameters(), lr=learning_rate)\n",
        "\n",
        "# Loop over the number of epochs\n",
        "for epoch in tqdm_notebook(range(epochs), total=epochs, unit=\"epoch\"):\n",
        "    epoch_loss = 0.0\n",
        "\n",
        "    # Create a DataLoader to handle batches of data\n",
        "    data_loader = DataLoader(dataset, batch_size=batch_size, shuffle=True)\n",
        "\n",
        "    for batch in data_loader:\n",
        "        inputs, targets = batch\n",
        "        optimizer.zero_grad()\n",
        "\n",
        "        # 2. Forward Pass\n",
        "        outputs = model_net(inputs)\n",
        "\n",
        "        # 3. FeedForward Evaluation\n",
        "        loss = loss_CEL(outputs, targets)\n",
        "\n",
        "        # 4. Backward Pass / Gradient Calculation\n",
        "        loss.backward()\n",
        "\n",
        "        # Accumulate the loss for the epoch\n",
        "        epoch_loss += loss.item()\n",
        "\n",
        "    # 5. Back Propagation / Update Weights (after processing the entire batch)\n",
        "    optimizer.step()\n",
        "\n",
        "    # Calculate and display average loss for the epoch\n",
        "    epoch_loss /= len(data_loader)\n",
        "    if epoch + 1 == epochs:\n",
        "        print(f\"Epoch {epoch + 1} Average Loss: {epoch_loss:.10f}\")\n",
        "\n",
        "# You can now use the trained model for predictions or further analysis.\n"
      ],
      "metadata": {
        "colab": {
          "base_uri": "https://localhost:8080/",
          "height": 118,
          "referenced_widgets": [
            "4a19dd047e8642ac8254a930ad3e4337",
            "2eedf4dc776045a69c58a2df92e5ee8b",
            "9a532fd39aae430d8d7a4d3d31e7f69a",
            "4abd8abfd66b43cfbadd6f385e30bb93",
            "9a1f4f25ee1e462dabe6a12248177e2e",
            "a58009e2fa20475caa62d573a2f270b0",
            "ab302772b24a41d28f438f227170a6cb",
            "53ff7e1c778e4846a7b7bffb57182c10",
            "a02d2a731b8345f2bead33bcec957b0d",
            "2b9f2971e4604d0ca8825f9effd4d52a",
            "9e5f2afd7584407fa0af45057a6c584f"
          ]
        },
        "id": "JIDkzFj8xhCI",
        "outputId": "660f6af5-d286-49c9-faf7-119b1aa7495f"
      },
      "execution_count": 72,
      "outputs": [
        {
          "output_type": "stream",
          "name": "stderr",
          "text": [
            "<ipython-input-72-090fef3b26cb>:29: TqdmDeprecationWarning: This function will be removed in tqdm==5.0.0\n",
            "Please use `tqdm.notebook.tqdm` instead of `tqdm.tqdm_notebook`\n",
            "  for epoch in tqdm_notebook(range(epochs), total=epochs, unit=\"epoch\"):\n"
          ]
        },
        {
          "output_type": "display_data",
          "data": {
            "text/plain": [
              "  0%|          | 0/100 [00:00<?, ?epoch/s]"
            ],
            "application/vnd.jupyter.widget-view+json": {
              "version_major": 2,
              "version_minor": 0,
              "model_id": "4a19dd047e8642ac8254a930ad3e4337"
            }
          },
          "metadata": {}
        },
        {
          "output_type": "stream",
          "name": "stdout",
          "text": [
            "Epoch 100 Average Loss: 1.1006813158\n"
          ]
        }
      ]
    }
  ]
}