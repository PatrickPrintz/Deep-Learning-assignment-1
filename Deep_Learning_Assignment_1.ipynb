{
  "nbformat": 4,
  "nbformat_minor": 0,
  "metadata": {
    "colab": {
      "provenance": [],
      "gpuType": "T4"
    },
    "kernelspec": {
      "name": "python3",
      "display_name": "Python 3"
    },
    "language_info": {
      "name": "python"
    },
    "accelerator": "GPU",
    "widgets": {
      "application/vnd.jupyter.widget-state+json": {
        "8860ac763e2e4ddfaefc4d222f33c9a6": {
          "model_module": "@jupyter-widgets/controls",
          "model_name": "HBoxModel",
          "model_module_version": "1.5.0",
          "state": {
            "_dom_classes": [],
            "_model_module": "@jupyter-widgets/controls",
            "_model_module_version": "1.5.0",
            "_model_name": "HBoxModel",
            "_view_count": null,
            "_view_module": "@jupyter-widgets/controls",
            "_view_module_version": "1.5.0",
            "_view_name": "HBoxView",
            "box_style": "",
            "children": [
              "IPY_MODEL_9a8bcdb4554844c2ade8246b921baee6",
              "IPY_MODEL_c2b87cc41f3c410690858c820493e675",
              "IPY_MODEL_24f71ce8361949b193e037de50e876b6"
            ],
            "layout": "IPY_MODEL_7aab95c358f340a3bf043121da0a83ae"
          }
        },
        "9a8bcdb4554844c2ade8246b921baee6": {
          "model_module": "@jupyter-widgets/controls",
          "model_name": "HTMLModel",
          "model_module_version": "1.5.0",
          "state": {
            "_dom_classes": [],
            "_model_module": "@jupyter-widgets/controls",
            "_model_module_version": "1.5.0",
            "_model_name": "HTMLModel",
            "_view_count": null,
            "_view_module": "@jupyter-widgets/controls",
            "_view_module_version": "1.5.0",
            "_view_name": "HTMLView",
            "description": "",
            "description_tooltip": null,
            "layout": "IPY_MODEL_57b19efb4e614952853ea1a11f66f122",
            "placeholder": "​",
            "style": "IPY_MODEL_d3f36f3e55c74a7bb4c90d33eddabce0",
            "value": "100%"
          }
        },
        "c2b87cc41f3c410690858c820493e675": {
          "model_module": "@jupyter-widgets/controls",
          "model_name": "FloatProgressModel",
          "model_module_version": "1.5.0",
          "state": {
            "_dom_classes": [],
            "_model_module": "@jupyter-widgets/controls",
            "_model_module_version": "1.5.0",
            "_model_name": "FloatProgressModel",
            "_view_count": null,
            "_view_module": "@jupyter-widgets/controls",
            "_view_module_version": "1.5.0",
            "_view_name": "ProgressView",
            "bar_style": "success",
            "description": "",
            "description_tooltip": null,
            "layout": "IPY_MODEL_74e2669ba0844f2dba2f065cce1b8620",
            "max": 10,
            "min": 0,
            "orientation": "horizontal",
            "style": "IPY_MODEL_ac23b41d3f7c43899dceb4851ae9065d",
            "value": 10
          }
        },
        "24f71ce8361949b193e037de50e876b6": {
          "model_module": "@jupyter-widgets/controls",
          "model_name": "HTMLModel",
          "model_module_version": "1.5.0",
          "state": {
            "_dom_classes": [],
            "_model_module": "@jupyter-widgets/controls",
            "_model_module_version": "1.5.0",
            "_model_name": "HTMLModel",
            "_view_count": null,
            "_view_module": "@jupyter-widgets/controls",
            "_view_module_version": "1.5.0",
            "_view_name": "HTMLView",
            "description": "",
            "description_tooltip": null,
            "layout": "IPY_MODEL_1b8788e0bb8e4747a938dee7916e99ae",
            "placeholder": "​",
            "style": "IPY_MODEL_7992be96c5b44a0a94bf516ecd8b5290",
            "value": " 10/10 [00:02&lt;00:00,  4.35epoch/s]"
          }
        },
        "7aab95c358f340a3bf043121da0a83ae": {
          "model_module": "@jupyter-widgets/base",
          "model_name": "LayoutModel",
          "model_module_version": "1.2.0",
          "state": {
            "_model_module": "@jupyter-widgets/base",
            "_model_module_version": "1.2.0",
            "_model_name": "LayoutModel",
            "_view_count": null,
            "_view_module": "@jupyter-widgets/base",
            "_view_module_version": "1.2.0",
            "_view_name": "LayoutView",
            "align_content": null,
            "align_items": null,
            "align_self": null,
            "border": null,
            "bottom": null,
            "display": null,
            "flex": null,
            "flex_flow": null,
            "grid_area": null,
            "grid_auto_columns": null,
            "grid_auto_flow": null,
            "grid_auto_rows": null,
            "grid_column": null,
            "grid_gap": null,
            "grid_row": null,
            "grid_template_areas": null,
            "grid_template_columns": null,
            "grid_template_rows": null,
            "height": null,
            "justify_content": null,
            "justify_items": null,
            "left": null,
            "margin": null,
            "max_height": null,
            "max_width": null,
            "min_height": null,
            "min_width": null,
            "object_fit": null,
            "object_position": null,
            "order": null,
            "overflow": null,
            "overflow_x": null,
            "overflow_y": null,
            "padding": null,
            "right": null,
            "top": null,
            "visibility": null,
            "width": null
          }
        },
        "57b19efb4e614952853ea1a11f66f122": {
          "model_module": "@jupyter-widgets/base",
          "model_name": "LayoutModel",
          "model_module_version": "1.2.0",
          "state": {
            "_model_module": "@jupyter-widgets/base",
            "_model_module_version": "1.2.0",
            "_model_name": "LayoutModel",
            "_view_count": null,
            "_view_module": "@jupyter-widgets/base",
            "_view_module_version": "1.2.0",
            "_view_name": "LayoutView",
            "align_content": null,
            "align_items": null,
            "align_self": null,
            "border": null,
            "bottom": null,
            "display": null,
            "flex": null,
            "flex_flow": null,
            "grid_area": null,
            "grid_auto_columns": null,
            "grid_auto_flow": null,
            "grid_auto_rows": null,
            "grid_column": null,
            "grid_gap": null,
            "grid_row": null,
            "grid_template_areas": null,
            "grid_template_columns": null,
            "grid_template_rows": null,
            "height": null,
            "justify_content": null,
            "justify_items": null,
            "left": null,
            "margin": null,
            "max_height": null,
            "max_width": null,
            "min_height": null,
            "min_width": null,
            "object_fit": null,
            "object_position": null,
            "order": null,
            "overflow": null,
            "overflow_x": null,
            "overflow_y": null,
            "padding": null,
            "right": null,
            "top": null,
            "visibility": null,
            "width": null
          }
        },
        "d3f36f3e55c74a7bb4c90d33eddabce0": {
          "model_module": "@jupyter-widgets/controls",
          "model_name": "DescriptionStyleModel",
          "model_module_version": "1.5.0",
          "state": {
            "_model_module": "@jupyter-widgets/controls",
            "_model_module_version": "1.5.0",
            "_model_name": "DescriptionStyleModel",
            "_view_count": null,
            "_view_module": "@jupyter-widgets/base",
            "_view_module_version": "1.2.0",
            "_view_name": "StyleView",
            "description_width": ""
          }
        },
        "74e2669ba0844f2dba2f065cce1b8620": {
          "model_module": "@jupyter-widgets/base",
          "model_name": "LayoutModel",
          "model_module_version": "1.2.0",
          "state": {
            "_model_module": "@jupyter-widgets/base",
            "_model_module_version": "1.2.0",
            "_model_name": "LayoutModel",
            "_view_count": null,
            "_view_module": "@jupyter-widgets/base",
            "_view_module_version": "1.2.0",
            "_view_name": "LayoutView",
            "align_content": null,
            "align_items": null,
            "align_self": null,
            "border": null,
            "bottom": null,
            "display": null,
            "flex": null,
            "flex_flow": null,
            "grid_area": null,
            "grid_auto_columns": null,
            "grid_auto_flow": null,
            "grid_auto_rows": null,
            "grid_column": null,
            "grid_gap": null,
            "grid_row": null,
            "grid_template_areas": null,
            "grid_template_columns": null,
            "grid_template_rows": null,
            "height": null,
            "justify_content": null,
            "justify_items": null,
            "left": null,
            "margin": null,
            "max_height": null,
            "max_width": null,
            "min_height": null,
            "min_width": null,
            "object_fit": null,
            "object_position": null,
            "order": null,
            "overflow": null,
            "overflow_x": null,
            "overflow_y": null,
            "padding": null,
            "right": null,
            "top": null,
            "visibility": null,
            "width": null
          }
        },
        "ac23b41d3f7c43899dceb4851ae9065d": {
          "model_module": "@jupyter-widgets/controls",
          "model_name": "ProgressStyleModel",
          "model_module_version": "1.5.0",
          "state": {
            "_model_module": "@jupyter-widgets/controls",
            "_model_module_version": "1.5.0",
            "_model_name": "ProgressStyleModel",
            "_view_count": null,
            "_view_module": "@jupyter-widgets/base",
            "_view_module_version": "1.2.0",
            "_view_name": "StyleView",
            "bar_color": null,
            "description_width": ""
          }
        },
        "1b8788e0bb8e4747a938dee7916e99ae": {
          "model_module": "@jupyter-widgets/base",
          "model_name": "LayoutModel",
          "model_module_version": "1.2.0",
          "state": {
            "_model_module": "@jupyter-widgets/base",
            "_model_module_version": "1.2.0",
            "_model_name": "LayoutModel",
            "_view_count": null,
            "_view_module": "@jupyter-widgets/base",
            "_view_module_version": "1.2.0",
            "_view_name": "LayoutView",
            "align_content": null,
            "align_items": null,
            "align_self": null,
            "border": null,
            "bottom": null,
            "display": null,
            "flex": null,
            "flex_flow": null,
            "grid_area": null,
            "grid_auto_columns": null,
            "grid_auto_flow": null,
            "grid_auto_rows": null,
            "grid_column": null,
            "grid_gap": null,
            "grid_row": null,
            "grid_template_areas": null,
            "grid_template_columns": null,
            "grid_template_rows": null,
            "height": null,
            "justify_content": null,
            "justify_items": null,
            "left": null,
            "margin": null,
            "max_height": null,
            "max_width": null,
            "min_height": null,
            "min_width": null,
            "object_fit": null,
            "object_position": null,
            "order": null,
            "overflow": null,
            "overflow_x": null,
            "overflow_y": null,
            "padding": null,
            "right": null,
            "top": null,
            "visibility": null,
            "width": null
          }
        },
        "7992be96c5b44a0a94bf516ecd8b5290": {
          "model_module": "@jupyter-widgets/controls",
          "model_name": "DescriptionStyleModel",
          "model_module_version": "1.5.0",
          "state": {
            "_model_module": "@jupyter-widgets/controls",
            "_model_module_version": "1.5.0",
            "_model_name": "DescriptionStyleModel",
            "_view_count": null,
            "_view_module": "@jupyter-widgets/base",
            "_view_module_version": "1.2.0",
            "_view_name": "StyleView",
            "description_width": ""
          }
        },
        "c4c24d68038a44649e2af58ea26e0d3e": {
          "model_module": "@jupyter-widgets/controls",
          "model_name": "HBoxModel",
          "model_module_version": "1.5.0",
          "state": {
            "_dom_classes": [],
            "_model_module": "@jupyter-widgets/controls",
            "_model_module_version": "1.5.0",
            "_model_name": "HBoxModel",
            "_view_count": null,
            "_view_module": "@jupyter-widgets/controls",
            "_view_module_version": "1.5.0",
            "_view_name": "HBoxView",
            "box_style": "",
            "children": [
              "IPY_MODEL_8e8bb1ef46f043e8b0a89d231dee671b",
              "IPY_MODEL_fbed8217af6d4a4e9e87d7fbd5337f95",
              "IPY_MODEL_48484026dde2486293dff51e49136601"
            ],
            "layout": "IPY_MODEL_e87f5049b7904ebf866c8f01afbb7e2b"
          }
        },
        "8e8bb1ef46f043e8b0a89d231dee671b": {
          "model_module": "@jupyter-widgets/controls",
          "model_name": "HTMLModel",
          "model_module_version": "1.5.0",
          "state": {
            "_dom_classes": [],
            "_model_module": "@jupyter-widgets/controls",
            "_model_module_version": "1.5.0",
            "_model_name": "HTMLModel",
            "_view_count": null,
            "_view_module": "@jupyter-widgets/controls",
            "_view_module_version": "1.5.0",
            "_view_name": "HTMLView",
            "description": "",
            "description_tooltip": null,
            "layout": "IPY_MODEL_f29372ced3e74c22bb732354587059da",
            "placeholder": "​",
            "style": "IPY_MODEL_17010d16caf94d2fac5851df55379fe5",
            "value": "100%"
          }
        },
        "fbed8217af6d4a4e9e87d7fbd5337f95": {
          "model_module": "@jupyter-widgets/controls",
          "model_name": "FloatProgressModel",
          "model_module_version": "1.5.0",
          "state": {
            "_dom_classes": [],
            "_model_module": "@jupyter-widgets/controls",
            "_model_module_version": "1.5.0",
            "_model_name": "FloatProgressModel",
            "_view_count": null,
            "_view_module": "@jupyter-widgets/controls",
            "_view_module_version": "1.5.0",
            "_view_name": "ProgressView",
            "bar_style": "success",
            "description": "",
            "description_tooltip": null,
            "layout": "IPY_MODEL_1cd12e58060c41549f4b067d0012af7b",
            "max": 100,
            "min": 0,
            "orientation": "horizontal",
            "style": "IPY_MODEL_8df9d175f2294ba5bae0940fba29ae3f",
            "value": 100
          }
        },
        "48484026dde2486293dff51e49136601": {
          "model_module": "@jupyter-widgets/controls",
          "model_name": "HTMLModel",
          "model_module_version": "1.5.0",
          "state": {
            "_dom_classes": [],
            "_model_module": "@jupyter-widgets/controls",
            "_model_module_version": "1.5.0",
            "_model_name": "HTMLModel",
            "_view_count": null,
            "_view_module": "@jupyter-widgets/controls",
            "_view_module_version": "1.5.0",
            "_view_name": "HTMLView",
            "description": "",
            "description_tooltip": null,
            "layout": "IPY_MODEL_a3709ecfa19348bda9c2f4f044e70521",
            "placeholder": "​",
            "style": "IPY_MODEL_999d4ffe8883445aba255f3e8af99de4",
            "value": " 100/100 [00:23&lt;00:00,  3.41epoch/s]"
          }
        },
        "e87f5049b7904ebf866c8f01afbb7e2b": {
          "model_module": "@jupyter-widgets/base",
          "model_name": "LayoutModel",
          "model_module_version": "1.2.0",
          "state": {
            "_model_module": "@jupyter-widgets/base",
            "_model_module_version": "1.2.0",
            "_model_name": "LayoutModel",
            "_view_count": null,
            "_view_module": "@jupyter-widgets/base",
            "_view_module_version": "1.2.0",
            "_view_name": "LayoutView",
            "align_content": null,
            "align_items": null,
            "align_self": null,
            "border": null,
            "bottom": null,
            "display": null,
            "flex": null,
            "flex_flow": null,
            "grid_area": null,
            "grid_auto_columns": null,
            "grid_auto_flow": null,
            "grid_auto_rows": null,
            "grid_column": null,
            "grid_gap": null,
            "grid_row": null,
            "grid_template_areas": null,
            "grid_template_columns": null,
            "grid_template_rows": null,
            "height": null,
            "justify_content": null,
            "justify_items": null,
            "left": null,
            "margin": null,
            "max_height": null,
            "max_width": null,
            "min_height": null,
            "min_width": null,
            "object_fit": null,
            "object_position": null,
            "order": null,
            "overflow": null,
            "overflow_x": null,
            "overflow_y": null,
            "padding": null,
            "right": null,
            "top": null,
            "visibility": null,
            "width": null
          }
        },
        "f29372ced3e74c22bb732354587059da": {
          "model_module": "@jupyter-widgets/base",
          "model_name": "LayoutModel",
          "model_module_version": "1.2.0",
          "state": {
            "_model_module": "@jupyter-widgets/base",
            "_model_module_version": "1.2.0",
            "_model_name": "LayoutModel",
            "_view_count": null,
            "_view_module": "@jupyter-widgets/base",
            "_view_module_version": "1.2.0",
            "_view_name": "LayoutView",
            "align_content": null,
            "align_items": null,
            "align_self": null,
            "border": null,
            "bottom": null,
            "display": null,
            "flex": null,
            "flex_flow": null,
            "grid_area": null,
            "grid_auto_columns": null,
            "grid_auto_flow": null,
            "grid_auto_rows": null,
            "grid_column": null,
            "grid_gap": null,
            "grid_row": null,
            "grid_template_areas": null,
            "grid_template_columns": null,
            "grid_template_rows": null,
            "height": null,
            "justify_content": null,
            "justify_items": null,
            "left": null,
            "margin": null,
            "max_height": null,
            "max_width": null,
            "min_height": null,
            "min_width": null,
            "object_fit": null,
            "object_position": null,
            "order": null,
            "overflow": null,
            "overflow_x": null,
            "overflow_y": null,
            "padding": null,
            "right": null,
            "top": null,
            "visibility": null,
            "width": null
          }
        },
        "17010d16caf94d2fac5851df55379fe5": {
          "model_module": "@jupyter-widgets/controls",
          "model_name": "DescriptionStyleModel",
          "model_module_version": "1.5.0",
          "state": {
            "_model_module": "@jupyter-widgets/controls",
            "_model_module_version": "1.5.0",
            "_model_name": "DescriptionStyleModel",
            "_view_count": null,
            "_view_module": "@jupyter-widgets/base",
            "_view_module_version": "1.2.0",
            "_view_name": "StyleView",
            "description_width": ""
          }
        },
        "1cd12e58060c41549f4b067d0012af7b": {
          "model_module": "@jupyter-widgets/base",
          "model_name": "LayoutModel",
          "model_module_version": "1.2.0",
          "state": {
            "_model_module": "@jupyter-widgets/base",
            "_model_module_version": "1.2.0",
            "_model_name": "LayoutModel",
            "_view_count": null,
            "_view_module": "@jupyter-widgets/base",
            "_view_module_version": "1.2.0",
            "_view_name": "LayoutView",
            "align_content": null,
            "align_items": null,
            "align_self": null,
            "border": null,
            "bottom": null,
            "display": null,
            "flex": null,
            "flex_flow": null,
            "grid_area": null,
            "grid_auto_columns": null,
            "grid_auto_flow": null,
            "grid_auto_rows": null,
            "grid_column": null,
            "grid_gap": null,
            "grid_row": null,
            "grid_template_areas": null,
            "grid_template_columns": null,
            "grid_template_rows": null,
            "height": null,
            "justify_content": null,
            "justify_items": null,
            "left": null,
            "margin": null,
            "max_height": null,
            "max_width": null,
            "min_height": null,
            "min_width": null,
            "object_fit": null,
            "object_position": null,
            "order": null,
            "overflow": null,
            "overflow_x": null,
            "overflow_y": null,
            "padding": null,
            "right": null,
            "top": null,
            "visibility": null,
            "width": null
          }
        },
        "8df9d175f2294ba5bae0940fba29ae3f": {
          "model_module": "@jupyter-widgets/controls",
          "model_name": "ProgressStyleModel",
          "model_module_version": "1.5.0",
          "state": {
            "_model_module": "@jupyter-widgets/controls",
            "_model_module_version": "1.5.0",
            "_model_name": "ProgressStyleModel",
            "_view_count": null,
            "_view_module": "@jupyter-widgets/base",
            "_view_module_version": "1.2.0",
            "_view_name": "StyleView",
            "bar_color": null,
            "description_width": ""
          }
        },
        "a3709ecfa19348bda9c2f4f044e70521": {
          "model_module": "@jupyter-widgets/base",
          "model_name": "LayoutModel",
          "model_module_version": "1.2.0",
          "state": {
            "_model_module": "@jupyter-widgets/base",
            "_model_module_version": "1.2.0",
            "_model_name": "LayoutModel",
            "_view_count": null,
            "_view_module": "@jupyter-widgets/base",
            "_view_module_version": "1.2.0",
            "_view_name": "LayoutView",
            "align_content": null,
            "align_items": null,
            "align_self": null,
            "border": null,
            "bottom": null,
            "display": null,
            "flex": null,
            "flex_flow": null,
            "grid_area": null,
            "grid_auto_columns": null,
            "grid_auto_flow": null,
            "grid_auto_rows": null,
            "grid_column": null,
            "grid_gap": null,
            "grid_row": null,
            "grid_template_areas": null,
            "grid_template_columns": null,
            "grid_template_rows": null,
            "height": null,
            "justify_content": null,
            "justify_items": null,
            "left": null,
            "margin": null,
            "max_height": null,
            "max_width": null,
            "min_height": null,
            "min_width": null,
            "object_fit": null,
            "object_position": null,
            "order": null,
            "overflow": null,
            "overflow_x": null,
            "overflow_y": null,
            "padding": null,
            "right": null,
            "top": null,
            "visibility": null,
            "width": null
          }
        },
        "999d4ffe8883445aba255f3e8af99de4": {
          "model_module": "@jupyter-widgets/controls",
          "model_name": "DescriptionStyleModel",
          "model_module_version": "1.5.0",
          "state": {
            "_model_module": "@jupyter-widgets/controls",
            "_model_module_version": "1.5.0",
            "_model_name": "DescriptionStyleModel",
            "_view_count": null,
            "_view_module": "@jupyter-widgets/base",
            "_view_module_version": "1.2.0",
            "_view_name": "StyleView",
            "description_width": ""
          }
        },
        "85c976fd1c2847a6bab15b41acfaf595": {
          "model_module": "@jupyter-widgets/controls",
          "model_name": "HBoxModel",
          "model_module_version": "1.5.0",
          "state": {
            "_dom_classes": [],
            "_model_module": "@jupyter-widgets/controls",
            "_model_module_version": "1.5.0",
            "_model_name": "HBoxModel",
            "_view_count": null,
            "_view_module": "@jupyter-widgets/controls",
            "_view_module_version": "1.5.0",
            "_view_name": "HBoxView",
            "box_style": "",
            "children": [
              "IPY_MODEL_0d14e2b82d484a5090bcb1459929209e",
              "IPY_MODEL_9a9c2967b6324355b1aa704c812c5817",
              "IPY_MODEL_ccc5145ab0f5411b81825896a7ff789e"
            ],
            "layout": "IPY_MODEL_5c3b054c897e4694bf60039cc427c180"
          }
        },
        "0d14e2b82d484a5090bcb1459929209e": {
          "model_module": "@jupyter-widgets/controls",
          "model_name": "HTMLModel",
          "model_module_version": "1.5.0",
          "state": {
            "_dom_classes": [],
            "_model_module": "@jupyter-widgets/controls",
            "_model_module_version": "1.5.0",
            "_model_name": "HTMLModel",
            "_view_count": null,
            "_view_module": "@jupyter-widgets/controls",
            "_view_module_version": "1.5.0",
            "_view_name": "HTMLView",
            "description": "",
            "description_tooltip": null,
            "layout": "IPY_MODEL_18f9b8a458b94e4a8a88e4e204d10453",
            "placeholder": "​",
            "style": "IPY_MODEL_35c4b3e0bc7549e0ae754cdc9e4cce54",
            "value": "100%"
          }
        },
        "9a9c2967b6324355b1aa704c812c5817": {
          "model_module": "@jupyter-widgets/controls",
          "model_name": "FloatProgressModel",
          "model_module_version": "1.5.0",
          "state": {
            "_dom_classes": [],
            "_model_module": "@jupyter-widgets/controls",
            "_model_module_version": "1.5.0",
            "_model_name": "FloatProgressModel",
            "_view_count": null,
            "_view_module": "@jupyter-widgets/controls",
            "_view_module_version": "1.5.0",
            "_view_name": "ProgressView",
            "bar_style": "success",
            "description": "",
            "description_tooltip": null,
            "layout": "IPY_MODEL_c280e7c2333d4ce091fa63c9e5a04acb",
            "max": 100,
            "min": 0,
            "orientation": "horizontal",
            "style": "IPY_MODEL_158bb175da2a41b188328ea35baa3407",
            "value": 100
          }
        },
        "ccc5145ab0f5411b81825896a7ff789e": {
          "model_module": "@jupyter-widgets/controls",
          "model_name": "HTMLModel",
          "model_module_version": "1.5.0",
          "state": {
            "_dom_classes": [],
            "_model_module": "@jupyter-widgets/controls",
            "_model_module_version": "1.5.0",
            "_model_name": "HTMLModel",
            "_view_count": null,
            "_view_module": "@jupyter-widgets/controls",
            "_view_module_version": "1.5.0",
            "_view_name": "HTMLView",
            "description": "",
            "description_tooltip": null,
            "layout": "IPY_MODEL_3894fc78ac944472987295801b77a326",
            "placeholder": "​",
            "style": "IPY_MODEL_0874130cba214cbaab3bf876ffcb924e",
            "value": " 100/100 [00:24&lt;00:00,  4.26epoch/s]"
          }
        },
        "5c3b054c897e4694bf60039cc427c180": {
          "model_module": "@jupyter-widgets/base",
          "model_name": "LayoutModel",
          "model_module_version": "1.2.0",
          "state": {
            "_model_module": "@jupyter-widgets/base",
            "_model_module_version": "1.2.0",
            "_model_name": "LayoutModel",
            "_view_count": null,
            "_view_module": "@jupyter-widgets/base",
            "_view_module_version": "1.2.0",
            "_view_name": "LayoutView",
            "align_content": null,
            "align_items": null,
            "align_self": null,
            "border": null,
            "bottom": null,
            "display": null,
            "flex": null,
            "flex_flow": null,
            "grid_area": null,
            "grid_auto_columns": null,
            "grid_auto_flow": null,
            "grid_auto_rows": null,
            "grid_column": null,
            "grid_gap": null,
            "grid_row": null,
            "grid_template_areas": null,
            "grid_template_columns": null,
            "grid_template_rows": null,
            "height": null,
            "justify_content": null,
            "justify_items": null,
            "left": null,
            "margin": null,
            "max_height": null,
            "max_width": null,
            "min_height": null,
            "min_width": null,
            "object_fit": null,
            "object_position": null,
            "order": null,
            "overflow": null,
            "overflow_x": null,
            "overflow_y": null,
            "padding": null,
            "right": null,
            "top": null,
            "visibility": null,
            "width": null
          }
        },
        "18f9b8a458b94e4a8a88e4e204d10453": {
          "model_module": "@jupyter-widgets/base",
          "model_name": "LayoutModel",
          "model_module_version": "1.2.0",
          "state": {
            "_model_module": "@jupyter-widgets/base",
            "_model_module_version": "1.2.0",
            "_model_name": "LayoutModel",
            "_view_count": null,
            "_view_module": "@jupyter-widgets/base",
            "_view_module_version": "1.2.0",
            "_view_name": "LayoutView",
            "align_content": null,
            "align_items": null,
            "align_self": null,
            "border": null,
            "bottom": null,
            "display": null,
            "flex": null,
            "flex_flow": null,
            "grid_area": null,
            "grid_auto_columns": null,
            "grid_auto_flow": null,
            "grid_auto_rows": null,
            "grid_column": null,
            "grid_gap": null,
            "grid_row": null,
            "grid_template_areas": null,
            "grid_template_columns": null,
            "grid_template_rows": null,
            "height": null,
            "justify_content": null,
            "justify_items": null,
            "left": null,
            "margin": null,
            "max_height": null,
            "max_width": null,
            "min_height": null,
            "min_width": null,
            "object_fit": null,
            "object_position": null,
            "order": null,
            "overflow": null,
            "overflow_x": null,
            "overflow_y": null,
            "padding": null,
            "right": null,
            "top": null,
            "visibility": null,
            "width": null
          }
        },
        "35c4b3e0bc7549e0ae754cdc9e4cce54": {
          "model_module": "@jupyter-widgets/controls",
          "model_name": "DescriptionStyleModel",
          "model_module_version": "1.5.0",
          "state": {
            "_model_module": "@jupyter-widgets/controls",
            "_model_module_version": "1.5.0",
            "_model_name": "DescriptionStyleModel",
            "_view_count": null,
            "_view_module": "@jupyter-widgets/base",
            "_view_module_version": "1.2.0",
            "_view_name": "StyleView",
            "description_width": ""
          }
        },
        "c280e7c2333d4ce091fa63c9e5a04acb": {
          "model_module": "@jupyter-widgets/base",
          "model_name": "LayoutModel",
          "model_module_version": "1.2.0",
          "state": {
            "_model_module": "@jupyter-widgets/base",
            "_model_module_version": "1.2.0",
            "_model_name": "LayoutModel",
            "_view_count": null,
            "_view_module": "@jupyter-widgets/base",
            "_view_module_version": "1.2.0",
            "_view_name": "LayoutView",
            "align_content": null,
            "align_items": null,
            "align_self": null,
            "border": null,
            "bottom": null,
            "display": null,
            "flex": null,
            "flex_flow": null,
            "grid_area": null,
            "grid_auto_columns": null,
            "grid_auto_flow": null,
            "grid_auto_rows": null,
            "grid_column": null,
            "grid_gap": null,
            "grid_row": null,
            "grid_template_areas": null,
            "grid_template_columns": null,
            "grid_template_rows": null,
            "height": null,
            "justify_content": null,
            "justify_items": null,
            "left": null,
            "margin": null,
            "max_height": null,
            "max_width": null,
            "min_height": null,
            "min_width": null,
            "object_fit": null,
            "object_position": null,
            "order": null,
            "overflow": null,
            "overflow_x": null,
            "overflow_y": null,
            "padding": null,
            "right": null,
            "top": null,
            "visibility": null,
            "width": null
          }
        },
        "158bb175da2a41b188328ea35baa3407": {
          "model_module": "@jupyter-widgets/controls",
          "model_name": "ProgressStyleModel",
          "model_module_version": "1.5.0",
          "state": {
            "_model_module": "@jupyter-widgets/controls",
            "_model_module_version": "1.5.0",
            "_model_name": "ProgressStyleModel",
            "_view_count": null,
            "_view_module": "@jupyter-widgets/base",
            "_view_module_version": "1.2.0",
            "_view_name": "StyleView",
            "bar_color": null,
            "description_width": ""
          }
        },
        "3894fc78ac944472987295801b77a326": {
          "model_module": "@jupyter-widgets/base",
          "model_name": "LayoutModel",
          "model_module_version": "1.2.0",
          "state": {
            "_model_module": "@jupyter-widgets/base",
            "_model_module_version": "1.2.0",
            "_model_name": "LayoutModel",
            "_view_count": null,
            "_view_module": "@jupyter-widgets/base",
            "_view_module_version": "1.2.0",
            "_view_name": "LayoutView",
            "align_content": null,
            "align_items": null,
            "align_self": null,
            "border": null,
            "bottom": null,
            "display": null,
            "flex": null,
            "flex_flow": null,
            "grid_area": null,
            "grid_auto_columns": null,
            "grid_auto_flow": null,
            "grid_auto_rows": null,
            "grid_column": null,
            "grid_gap": null,
            "grid_row": null,
            "grid_template_areas": null,
            "grid_template_columns": null,
            "grid_template_rows": null,
            "height": null,
            "justify_content": null,
            "justify_items": null,
            "left": null,
            "margin": null,
            "max_height": null,
            "max_width": null,
            "min_height": null,
            "min_width": null,
            "object_fit": null,
            "object_position": null,
            "order": null,
            "overflow": null,
            "overflow_x": null,
            "overflow_y": null,
            "padding": null,
            "right": null,
            "top": null,
            "visibility": null,
            "width": null
          }
        },
        "0874130cba214cbaab3bf876ffcb924e": {
          "model_module": "@jupyter-widgets/controls",
          "model_name": "DescriptionStyleModel",
          "model_module_version": "1.5.0",
          "state": {
            "_model_module": "@jupyter-widgets/controls",
            "_model_module_version": "1.5.0",
            "_model_name": "DescriptionStyleModel",
            "_view_count": null,
            "_view_module": "@jupyter-widgets/base",
            "_view_module_version": "1.2.0",
            "_view_name": "StyleView",
            "description_width": ""
          }
        },
        "1c979f1bdc7c494f94f5e16211dd715d": {
          "model_module": "@jupyter-widgets/controls",
          "model_name": "HBoxModel",
          "model_module_version": "1.5.0",
          "state": {
            "_dom_classes": [],
            "_model_module": "@jupyter-widgets/controls",
            "_model_module_version": "1.5.0",
            "_model_name": "HBoxModel",
            "_view_count": null,
            "_view_module": "@jupyter-widgets/controls",
            "_view_module_version": "1.5.0",
            "_view_name": "HBoxView",
            "box_style": "",
            "children": [
              "IPY_MODEL_7d44f99f1faf4efb881c6f2ef207f673",
              "IPY_MODEL_e95ff53515f14444bf3b503d68c34352",
              "IPY_MODEL_b76e64c36c2d4af7a6e4e19cedd7f272"
            ],
            "layout": "IPY_MODEL_eef14dc98026485a9db648f481cf379c"
          }
        },
        "7d44f99f1faf4efb881c6f2ef207f673": {
          "model_module": "@jupyter-widgets/controls",
          "model_name": "HTMLModel",
          "model_module_version": "1.5.0",
          "state": {
            "_dom_classes": [],
            "_model_module": "@jupyter-widgets/controls",
            "_model_module_version": "1.5.0",
            "_model_name": "HTMLModel",
            "_view_count": null,
            "_view_module": "@jupyter-widgets/controls",
            "_view_module_version": "1.5.0",
            "_view_name": "HTMLView",
            "description": "",
            "description_tooltip": null,
            "layout": "IPY_MODEL_d545c5f8b6a54b8abaf52760e76e4f80",
            "placeholder": "​",
            "style": "IPY_MODEL_fd31915b57c74c09aa1b5f0de1de22f0",
            "value": "100%"
          }
        },
        "e95ff53515f14444bf3b503d68c34352": {
          "model_module": "@jupyter-widgets/controls",
          "model_name": "FloatProgressModel",
          "model_module_version": "1.5.0",
          "state": {
            "_dom_classes": [],
            "_model_module": "@jupyter-widgets/controls",
            "_model_module_version": "1.5.0",
            "_model_name": "FloatProgressModel",
            "_view_count": null,
            "_view_module": "@jupyter-widgets/controls",
            "_view_module_version": "1.5.0",
            "_view_name": "ProgressView",
            "bar_style": "success",
            "description": "",
            "description_tooltip": null,
            "layout": "IPY_MODEL_9e7627e7650a4858a4f7903d30b06e2f",
            "max": 100,
            "min": 0,
            "orientation": "horizontal",
            "style": "IPY_MODEL_ffa5f60055e54d3d8d6dcd318946c2fe",
            "value": 100
          }
        },
        "b76e64c36c2d4af7a6e4e19cedd7f272": {
          "model_module": "@jupyter-widgets/controls",
          "model_name": "HTMLModel",
          "model_module_version": "1.5.0",
          "state": {
            "_dom_classes": [],
            "_model_module": "@jupyter-widgets/controls",
            "_model_module_version": "1.5.0",
            "_model_name": "HTMLModel",
            "_view_count": null,
            "_view_module": "@jupyter-widgets/controls",
            "_view_module_version": "1.5.0",
            "_view_name": "HTMLView",
            "description": "",
            "description_tooltip": null,
            "layout": "IPY_MODEL_39dc419b0c484411a369932405265939",
            "placeholder": "​",
            "style": "IPY_MODEL_be6f02e698c348d9beafc7c9aad15159",
            "value": " 100/100 [00:28&lt;00:00,  3.89epoch/s]"
          }
        },
        "eef14dc98026485a9db648f481cf379c": {
          "model_module": "@jupyter-widgets/base",
          "model_name": "LayoutModel",
          "model_module_version": "1.2.0",
          "state": {
            "_model_module": "@jupyter-widgets/base",
            "_model_module_version": "1.2.0",
            "_model_name": "LayoutModel",
            "_view_count": null,
            "_view_module": "@jupyter-widgets/base",
            "_view_module_version": "1.2.0",
            "_view_name": "LayoutView",
            "align_content": null,
            "align_items": null,
            "align_self": null,
            "border": null,
            "bottom": null,
            "display": null,
            "flex": null,
            "flex_flow": null,
            "grid_area": null,
            "grid_auto_columns": null,
            "grid_auto_flow": null,
            "grid_auto_rows": null,
            "grid_column": null,
            "grid_gap": null,
            "grid_row": null,
            "grid_template_areas": null,
            "grid_template_columns": null,
            "grid_template_rows": null,
            "height": null,
            "justify_content": null,
            "justify_items": null,
            "left": null,
            "margin": null,
            "max_height": null,
            "max_width": null,
            "min_height": null,
            "min_width": null,
            "object_fit": null,
            "object_position": null,
            "order": null,
            "overflow": null,
            "overflow_x": null,
            "overflow_y": null,
            "padding": null,
            "right": null,
            "top": null,
            "visibility": null,
            "width": null
          }
        },
        "d545c5f8b6a54b8abaf52760e76e4f80": {
          "model_module": "@jupyter-widgets/base",
          "model_name": "LayoutModel",
          "model_module_version": "1.2.0",
          "state": {
            "_model_module": "@jupyter-widgets/base",
            "_model_module_version": "1.2.0",
            "_model_name": "LayoutModel",
            "_view_count": null,
            "_view_module": "@jupyter-widgets/base",
            "_view_module_version": "1.2.0",
            "_view_name": "LayoutView",
            "align_content": null,
            "align_items": null,
            "align_self": null,
            "border": null,
            "bottom": null,
            "display": null,
            "flex": null,
            "flex_flow": null,
            "grid_area": null,
            "grid_auto_columns": null,
            "grid_auto_flow": null,
            "grid_auto_rows": null,
            "grid_column": null,
            "grid_gap": null,
            "grid_row": null,
            "grid_template_areas": null,
            "grid_template_columns": null,
            "grid_template_rows": null,
            "height": null,
            "justify_content": null,
            "justify_items": null,
            "left": null,
            "margin": null,
            "max_height": null,
            "max_width": null,
            "min_height": null,
            "min_width": null,
            "object_fit": null,
            "object_position": null,
            "order": null,
            "overflow": null,
            "overflow_x": null,
            "overflow_y": null,
            "padding": null,
            "right": null,
            "top": null,
            "visibility": null,
            "width": null
          }
        },
        "fd31915b57c74c09aa1b5f0de1de22f0": {
          "model_module": "@jupyter-widgets/controls",
          "model_name": "DescriptionStyleModel",
          "model_module_version": "1.5.0",
          "state": {
            "_model_module": "@jupyter-widgets/controls",
            "_model_module_version": "1.5.0",
            "_model_name": "DescriptionStyleModel",
            "_view_count": null,
            "_view_module": "@jupyter-widgets/base",
            "_view_module_version": "1.2.0",
            "_view_name": "StyleView",
            "description_width": ""
          }
        },
        "9e7627e7650a4858a4f7903d30b06e2f": {
          "model_module": "@jupyter-widgets/base",
          "model_name": "LayoutModel",
          "model_module_version": "1.2.0",
          "state": {
            "_model_module": "@jupyter-widgets/base",
            "_model_module_version": "1.2.0",
            "_model_name": "LayoutModel",
            "_view_count": null,
            "_view_module": "@jupyter-widgets/base",
            "_view_module_version": "1.2.0",
            "_view_name": "LayoutView",
            "align_content": null,
            "align_items": null,
            "align_self": null,
            "border": null,
            "bottom": null,
            "display": null,
            "flex": null,
            "flex_flow": null,
            "grid_area": null,
            "grid_auto_columns": null,
            "grid_auto_flow": null,
            "grid_auto_rows": null,
            "grid_column": null,
            "grid_gap": null,
            "grid_row": null,
            "grid_template_areas": null,
            "grid_template_columns": null,
            "grid_template_rows": null,
            "height": null,
            "justify_content": null,
            "justify_items": null,
            "left": null,
            "margin": null,
            "max_height": null,
            "max_width": null,
            "min_height": null,
            "min_width": null,
            "object_fit": null,
            "object_position": null,
            "order": null,
            "overflow": null,
            "overflow_x": null,
            "overflow_y": null,
            "padding": null,
            "right": null,
            "top": null,
            "visibility": null,
            "width": null
          }
        },
        "ffa5f60055e54d3d8d6dcd318946c2fe": {
          "model_module": "@jupyter-widgets/controls",
          "model_name": "ProgressStyleModel",
          "model_module_version": "1.5.0",
          "state": {
            "_model_module": "@jupyter-widgets/controls",
            "_model_module_version": "1.5.0",
            "_model_name": "ProgressStyleModel",
            "_view_count": null,
            "_view_module": "@jupyter-widgets/base",
            "_view_module_version": "1.2.0",
            "_view_name": "StyleView",
            "bar_color": null,
            "description_width": ""
          }
        },
        "39dc419b0c484411a369932405265939": {
          "model_module": "@jupyter-widgets/base",
          "model_name": "LayoutModel",
          "model_module_version": "1.2.0",
          "state": {
            "_model_module": "@jupyter-widgets/base",
            "_model_module_version": "1.2.0",
            "_model_name": "LayoutModel",
            "_view_count": null,
            "_view_module": "@jupyter-widgets/base",
            "_view_module_version": "1.2.0",
            "_view_name": "LayoutView",
            "align_content": null,
            "align_items": null,
            "align_self": null,
            "border": null,
            "bottom": null,
            "display": null,
            "flex": null,
            "flex_flow": null,
            "grid_area": null,
            "grid_auto_columns": null,
            "grid_auto_flow": null,
            "grid_auto_rows": null,
            "grid_column": null,
            "grid_gap": null,
            "grid_row": null,
            "grid_template_areas": null,
            "grid_template_columns": null,
            "grid_template_rows": null,
            "height": null,
            "justify_content": null,
            "justify_items": null,
            "left": null,
            "margin": null,
            "max_height": null,
            "max_width": null,
            "min_height": null,
            "min_width": null,
            "object_fit": null,
            "object_position": null,
            "order": null,
            "overflow": null,
            "overflow_x": null,
            "overflow_y": null,
            "padding": null,
            "right": null,
            "top": null,
            "visibility": null,
            "width": null
          }
        },
        "be6f02e698c348d9beafc7c9aad15159": {
          "model_module": "@jupyter-widgets/controls",
          "model_name": "DescriptionStyleModel",
          "model_module_version": "1.5.0",
          "state": {
            "_model_module": "@jupyter-widgets/controls",
            "_model_module_version": "1.5.0",
            "_model_name": "DescriptionStyleModel",
            "_view_count": null,
            "_view_module": "@jupyter-widgets/base",
            "_view_module_version": "1.2.0",
            "_view_name": "StyleView",
            "description_width": ""
          }
        },
        "18362be79d8e4586bc6c37288973f5a7": {
          "model_module": "@jupyter-widgets/controls",
          "model_name": "HBoxModel",
          "model_module_version": "1.5.0",
          "state": {
            "_dom_classes": [],
            "_model_module": "@jupyter-widgets/controls",
            "_model_module_version": "1.5.0",
            "_model_name": "HBoxModel",
            "_view_count": null,
            "_view_module": "@jupyter-widgets/controls",
            "_view_module_version": "1.5.0",
            "_view_name": "HBoxView",
            "box_style": "",
            "children": [
              "IPY_MODEL_d5cab9e21f5844f28c3e774893cf03d2",
              "IPY_MODEL_638c475ce8134875a091e504cfb06a98",
              "IPY_MODEL_8a6f4b8ed4ca48958f1efb09fd5f6482"
            ],
            "layout": "IPY_MODEL_5878231e9e814d1395c35bc4f9318edf"
          }
        },
        "d5cab9e21f5844f28c3e774893cf03d2": {
          "model_module": "@jupyter-widgets/controls",
          "model_name": "HTMLModel",
          "model_module_version": "1.5.0",
          "state": {
            "_dom_classes": [],
            "_model_module": "@jupyter-widgets/controls",
            "_model_module_version": "1.5.0",
            "_model_name": "HTMLModel",
            "_view_count": null,
            "_view_module": "@jupyter-widgets/controls",
            "_view_module_version": "1.5.0",
            "_view_name": "HTMLView",
            "description": "",
            "description_tooltip": null,
            "layout": "IPY_MODEL_c9fcf06f2982493b962eddfb0ba30291",
            "placeholder": "​",
            "style": "IPY_MODEL_92926d99913e4f9faf165e029eda1c25",
            "value": "100%"
          }
        },
        "638c475ce8134875a091e504cfb06a98": {
          "model_module": "@jupyter-widgets/controls",
          "model_name": "FloatProgressModel",
          "model_module_version": "1.5.0",
          "state": {
            "_dom_classes": [],
            "_model_module": "@jupyter-widgets/controls",
            "_model_module_version": "1.5.0",
            "_model_name": "FloatProgressModel",
            "_view_count": null,
            "_view_module": "@jupyter-widgets/controls",
            "_view_module_version": "1.5.0",
            "_view_name": "ProgressView",
            "bar_style": "success",
            "description": "",
            "description_tooltip": null,
            "layout": "IPY_MODEL_2cac5d9b83cd486d8fb35c4a54570e73",
            "max": 100,
            "min": 0,
            "orientation": "horizontal",
            "style": "IPY_MODEL_0c42cafff8e74890921c4a57acffe50f",
            "value": 100
          }
        },
        "8a6f4b8ed4ca48958f1efb09fd5f6482": {
          "model_module": "@jupyter-widgets/controls",
          "model_name": "HTMLModel",
          "model_module_version": "1.5.0",
          "state": {
            "_dom_classes": [],
            "_model_module": "@jupyter-widgets/controls",
            "_model_module_version": "1.5.0",
            "_model_name": "HTMLModel",
            "_view_count": null,
            "_view_module": "@jupyter-widgets/controls",
            "_view_module_version": "1.5.0",
            "_view_name": "HTMLView",
            "description": "",
            "description_tooltip": null,
            "layout": "IPY_MODEL_9c684a9ff35648cf90b7415e09757f7b",
            "placeholder": "​",
            "style": "IPY_MODEL_52c200523803422b805d7aa1858bc7b1",
            "value": " 100/100 [00:31&lt;00:00,  3.31epoch/s]"
          }
        },
        "5878231e9e814d1395c35bc4f9318edf": {
          "model_module": "@jupyter-widgets/base",
          "model_name": "LayoutModel",
          "model_module_version": "1.2.0",
          "state": {
            "_model_module": "@jupyter-widgets/base",
            "_model_module_version": "1.2.0",
            "_model_name": "LayoutModel",
            "_view_count": null,
            "_view_module": "@jupyter-widgets/base",
            "_view_module_version": "1.2.0",
            "_view_name": "LayoutView",
            "align_content": null,
            "align_items": null,
            "align_self": null,
            "border": null,
            "bottom": null,
            "display": null,
            "flex": null,
            "flex_flow": null,
            "grid_area": null,
            "grid_auto_columns": null,
            "grid_auto_flow": null,
            "grid_auto_rows": null,
            "grid_column": null,
            "grid_gap": null,
            "grid_row": null,
            "grid_template_areas": null,
            "grid_template_columns": null,
            "grid_template_rows": null,
            "height": null,
            "justify_content": null,
            "justify_items": null,
            "left": null,
            "margin": null,
            "max_height": null,
            "max_width": null,
            "min_height": null,
            "min_width": null,
            "object_fit": null,
            "object_position": null,
            "order": null,
            "overflow": null,
            "overflow_x": null,
            "overflow_y": null,
            "padding": null,
            "right": null,
            "top": null,
            "visibility": null,
            "width": null
          }
        },
        "c9fcf06f2982493b962eddfb0ba30291": {
          "model_module": "@jupyter-widgets/base",
          "model_name": "LayoutModel",
          "model_module_version": "1.2.0",
          "state": {
            "_model_module": "@jupyter-widgets/base",
            "_model_module_version": "1.2.0",
            "_model_name": "LayoutModel",
            "_view_count": null,
            "_view_module": "@jupyter-widgets/base",
            "_view_module_version": "1.2.0",
            "_view_name": "LayoutView",
            "align_content": null,
            "align_items": null,
            "align_self": null,
            "border": null,
            "bottom": null,
            "display": null,
            "flex": null,
            "flex_flow": null,
            "grid_area": null,
            "grid_auto_columns": null,
            "grid_auto_flow": null,
            "grid_auto_rows": null,
            "grid_column": null,
            "grid_gap": null,
            "grid_row": null,
            "grid_template_areas": null,
            "grid_template_columns": null,
            "grid_template_rows": null,
            "height": null,
            "justify_content": null,
            "justify_items": null,
            "left": null,
            "margin": null,
            "max_height": null,
            "max_width": null,
            "min_height": null,
            "min_width": null,
            "object_fit": null,
            "object_position": null,
            "order": null,
            "overflow": null,
            "overflow_x": null,
            "overflow_y": null,
            "padding": null,
            "right": null,
            "top": null,
            "visibility": null,
            "width": null
          }
        },
        "92926d99913e4f9faf165e029eda1c25": {
          "model_module": "@jupyter-widgets/controls",
          "model_name": "DescriptionStyleModel",
          "model_module_version": "1.5.0",
          "state": {
            "_model_module": "@jupyter-widgets/controls",
            "_model_module_version": "1.5.0",
            "_model_name": "DescriptionStyleModel",
            "_view_count": null,
            "_view_module": "@jupyter-widgets/base",
            "_view_module_version": "1.2.0",
            "_view_name": "StyleView",
            "description_width": ""
          }
        },
        "2cac5d9b83cd486d8fb35c4a54570e73": {
          "model_module": "@jupyter-widgets/base",
          "model_name": "LayoutModel",
          "model_module_version": "1.2.0",
          "state": {
            "_model_module": "@jupyter-widgets/base",
            "_model_module_version": "1.2.0",
            "_model_name": "LayoutModel",
            "_view_count": null,
            "_view_module": "@jupyter-widgets/base",
            "_view_module_version": "1.2.0",
            "_view_name": "LayoutView",
            "align_content": null,
            "align_items": null,
            "align_self": null,
            "border": null,
            "bottom": null,
            "display": null,
            "flex": null,
            "flex_flow": null,
            "grid_area": null,
            "grid_auto_columns": null,
            "grid_auto_flow": null,
            "grid_auto_rows": null,
            "grid_column": null,
            "grid_gap": null,
            "grid_row": null,
            "grid_template_areas": null,
            "grid_template_columns": null,
            "grid_template_rows": null,
            "height": null,
            "justify_content": null,
            "justify_items": null,
            "left": null,
            "margin": null,
            "max_height": null,
            "max_width": null,
            "min_height": null,
            "min_width": null,
            "object_fit": null,
            "object_position": null,
            "order": null,
            "overflow": null,
            "overflow_x": null,
            "overflow_y": null,
            "padding": null,
            "right": null,
            "top": null,
            "visibility": null,
            "width": null
          }
        },
        "0c42cafff8e74890921c4a57acffe50f": {
          "model_module": "@jupyter-widgets/controls",
          "model_name": "ProgressStyleModel",
          "model_module_version": "1.5.0",
          "state": {
            "_model_module": "@jupyter-widgets/controls",
            "_model_module_version": "1.5.0",
            "_model_name": "ProgressStyleModel",
            "_view_count": null,
            "_view_module": "@jupyter-widgets/base",
            "_view_module_version": "1.2.0",
            "_view_name": "StyleView",
            "bar_color": null,
            "description_width": ""
          }
        },
        "9c684a9ff35648cf90b7415e09757f7b": {
          "model_module": "@jupyter-widgets/base",
          "model_name": "LayoutModel",
          "model_module_version": "1.2.0",
          "state": {
            "_model_module": "@jupyter-widgets/base",
            "_model_module_version": "1.2.0",
            "_model_name": "LayoutModel",
            "_view_count": null,
            "_view_module": "@jupyter-widgets/base",
            "_view_module_version": "1.2.0",
            "_view_name": "LayoutView",
            "align_content": null,
            "align_items": null,
            "align_self": null,
            "border": null,
            "bottom": null,
            "display": null,
            "flex": null,
            "flex_flow": null,
            "grid_area": null,
            "grid_auto_columns": null,
            "grid_auto_flow": null,
            "grid_auto_rows": null,
            "grid_column": null,
            "grid_gap": null,
            "grid_row": null,
            "grid_template_areas": null,
            "grid_template_columns": null,
            "grid_template_rows": null,
            "height": null,
            "justify_content": null,
            "justify_items": null,
            "left": null,
            "margin": null,
            "max_height": null,
            "max_width": null,
            "min_height": null,
            "min_width": null,
            "object_fit": null,
            "object_position": null,
            "order": null,
            "overflow": null,
            "overflow_x": null,
            "overflow_y": null,
            "padding": null,
            "right": null,
            "top": null,
            "visibility": null,
            "width": null
          }
        },
        "52c200523803422b805d7aa1858bc7b1": {
          "model_module": "@jupyter-widgets/controls",
          "model_name": "DescriptionStyleModel",
          "model_module_version": "1.5.0",
          "state": {
            "_model_module": "@jupyter-widgets/controls",
            "_model_module_version": "1.5.0",
            "_model_name": "DescriptionStyleModel",
            "_view_count": null,
            "_view_module": "@jupyter-widgets/base",
            "_view_module_version": "1.2.0",
            "_view_name": "StyleView",
            "description_width": ""
          }
        }
      }
    }
  },
  "cells": [
    {
      "cell_type": "markdown",
      "source": [
        "# Deep Learning mini-assignment 1\n",
        "\n",
        "\n",
        "Github repository: https://github.com/PatrickPrintz/Deep-Learning-assignment-1/tree/main"
      ],
      "metadata": {
        "id": "1d_a7tWObloc"
      }
    },
    {
      "cell_type": "markdown",
      "source": [
        "In this assignment, you are required to delve into the practical aspects of Deep Learning by constructing and evaluating a neural network using PyTorch\n",
        "\n",
        "This exercise is designed to deepen your understanding of neural network architectures, hyperparameter tuning, and the preprocessing steps necessary for effective model training and evaluation.\n",
        "\n",
        "You will have the freedom to choose a dataset from either the M1 or M2 module or select an external dataset that intrigues you.\n",
        "\n",
        "By experimenting with different neural network configurations and hyperparameters, you will gain hands-on experience in optimizing ML models to achieve desired performance metrics."
      ],
      "metadata": {
        "id": "xLj2-4C-bty7"
      }
    },
    {
      "cell_type": "markdown",
      "source": [
        "## Tasks and requirements\n",
        "\n",
        "* Build, train, and evaluate a neural network using Pytorch.\n",
        "\n",
        "* The neural network should have a minimum of 2 hidden layers.\n",
        "\n",
        "* Experiment with at least 5 different variations of hyperparameters (e.g., number of layers/neurons, activation functions, epochs, optimizers, learning rates, etc.).\n",
        "\n",
        "## Step-by-step:\n",
        "1. Feature Selection\n",
        "\n",
        "2. Feature Engineering (if necessary)\n",
        "\n",
        "3. Standard ML Preprocessing (if necessary)\n",
        "\n",
        "4. Train-Test Split\n",
        "\n",
        "5. Defining a Neural Network Architecture in Pytorch\n",
        "\n",
        "6. Defining a Training Loop\n",
        "\n",
        "7. Training the Model\n",
        "\n",
        "8. Experimenting with Different Hyperparameters\n",
        "\n",
        "9. Evaluating the Final Model on the Test Data"
      ],
      "metadata": {
        "id": "RsgnTbITb9ro"
      }
    },
    {
      "cell_type": "markdown",
      "source": [
        "--- ---"
      ],
      "metadata": {
        "id": "5jPMj4ohcoLw"
      }
    },
    {
      "cell_type": "markdown",
      "source": [
        "# Solution"
      ],
      "metadata": {
        "id": "lpzQmQuDcjQt"
      }
    },
    {
      "cell_type": "markdown",
      "source": [
        "## Importing relevant liberies"
      ],
      "metadata": {
        "id": "T4b0NtdTc_vC"
      }
    },
    {
      "cell_type": "code",
      "execution_count": null,
      "metadata": {
        "id": "gJgqv_cm26XN"
      },
      "outputs": [],
      "source": [
        "# Standard practice\n",
        "import pandas as pd\n",
        "import numpy as np\n",
        "\n",
        "# Standard plotting\n",
        "import matplotlib.pyplot as plt\n",
        "import seaborn as sns\n",
        "\n",
        "# Machine Learning preprocessing\n",
        "from sklearn.preprocessing import MinMaxScaler\n",
        "\n",
        "from tqdm import tqdm_notebook # For progress line during loops and heavy computational tasks\n",
        "\n",
        "from imblearn.over_sampling import SMOTE # SMOTE is used to remove imbalances within or data\n",
        "\n",
        "from sklearn.metrics import confusion_matrix, ConfusionMatrixDisplay, accuracy_score, classification_report # All used to evaluate model on testing data\n",
        "\n",
        "from sklearn.model_selection import train_test_split # is used to split dataset into training and test samples.\n",
        "\n",
        "import torch # The main libery for Neural networks\n",
        "import torch.nn as nn # The sub-libery for the above package and the one we'll be using the most.\n",
        "import torch.optim as optim # Is a package implementing various optimization algorithms.\n",
        "from torch.utils.data import DataLoader, TensorDataset # For handling batch sizes using Batch Gradient decent (See appendix)\n"
      ]
    },
    {
      "cell_type": "markdown",
      "source": [
        "## Loading dataset\n",
        "The *Penguin* dataset is a standard and well-known dataset used in many different applications for applying newly learnt methods. The dataset contains:\n",
        "\n",
        "* **Species:** The species of the penguin (e.g., Adelie, Chinstrap, Gentoo).\n",
        "* **Island:** The island where the penguin was found (e.g., Biscoe, Dream, Torgersen).\n",
        "* **Bill Length (mm):** The length of the penguin's bill.\n",
        "* **Bill Depth (mm):** The depth of the penguin's bill.\n",
        "* **Flipper Length (mm):** The length of the penguin's flipper.\n",
        "* **Body Mass (g):** The body mass of the penguin.\n",
        "* **Sex:** The gender of the penguin (e.g., Male, Female).\n",
        "\n",
        "**The reason for chosing the *Penguins* dataset:**\n",
        "> The dataset contains both categorical and numerical features, which enable us to make either a classification or regression (or both) type neural network analysis, making the dataset extreamly versitile.\n",
        "\n",
        "> Other than that the dataset's moderate size provides a balance between complexity and simplicity givin it's size of 344 observations."
      ],
      "metadata": {
        "id": "z-d224dMdtET"
      }
    },
    {
      "cell_type": "code",
      "source": [
        "# load a dataset\n",
        "penguins_raw = sns.load_dataset(\"penguins\")"
      ],
      "metadata": {
        "id": "Lih12ov03C7T"
      },
      "execution_count": null,
      "outputs": []
    },
    {
      "cell_type": "code",
      "source": [
        "penguins_raw.head()"
      ],
      "metadata": {
        "colab": {
          "base_uri": "https://localhost:8080/",
          "height": 201
        },
        "id": "cOzZJcxa3Gi7",
        "outputId": "fbc26475-a211-45b2-c5dd-97d3d13530ad"
      },
      "execution_count": null,
      "outputs": [
        {
          "output_type": "execute_result",
          "data": {
            "text/plain": [
              "  species     island  bill_length_mm  bill_depth_mm  flipper_length_mm  \\\n",
              "0  Adelie  Torgersen            39.1           18.7              181.0   \n",
              "1  Adelie  Torgersen            39.5           17.4              186.0   \n",
              "2  Adelie  Torgersen            40.3           18.0              195.0   \n",
              "3  Adelie  Torgersen             NaN            NaN                NaN   \n",
              "4  Adelie  Torgersen            36.7           19.3              193.0   \n",
              "\n",
              "   body_mass_g     sex  \n",
              "0       3750.0    Male  \n",
              "1       3800.0  Female  \n",
              "2       3250.0  Female  \n",
              "3          NaN     NaN  \n",
              "4       3450.0  Female  "
            ],
            "text/html": [
              "\n",
              "  <div id=\"df-2f05ea78-8e10-4eda-82c3-016358cab6ef\" class=\"colab-df-container\">\n",
              "    <div>\n",
              "<style scoped>\n",
              "    .dataframe tbody tr th:only-of-type {\n",
              "        vertical-align: middle;\n",
              "    }\n",
              "\n",
              "    .dataframe tbody tr th {\n",
              "        vertical-align: top;\n",
              "    }\n",
              "\n",
              "    .dataframe thead th {\n",
              "        text-align: right;\n",
              "    }\n",
              "</style>\n",
              "<table border=\"1\" class=\"dataframe\">\n",
              "  <thead>\n",
              "    <tr style=\"text-align: right;\">\n",
              "      <th></th>\n",
              "      <th>species</th>\n",
              "      <th>island</th>\n",
              "      <th>bill_length_mm</th>\n",
              "      <th>bill_depth_mm</th>\n",
              "      <th>flipper_length_mm</th>\n",
              "      <th>body_mass_g</th>\n",
              "      <th>sex</th>\n",
              "    </tr>\n",
              "  </thead>\n",
              "  <tbody>\n",
              "    <tr>\n",
              "      <th>0</th>\n",
              "      <td>Adelie</td>\n",
              "      <td>Torgersen</td>\n",
              "      <td>39.1</td>\n",
              "      <td>18.7</td>\n",
              "      <td>181.0</td>\n",
              "      <td>3750.0</td>\n",
              "      <td>Male</td>\n",
              "    </tr>\n",
              "    <tr>\n",
              "      <th>1</th>\n",
              "      <td>Adelie</td>\n",
              "      <td>Torgersen</td>\n",
              "      <td>39.5</td>\n",
              "      <td>17.4</td>\n",
              "      <td>186.0</td>\n",
              "      <td>3800.0</td>\n",
              "      <td>Female</td>\n",
              "    </tr>\n",
              "    <tr>\n",
              "      <th>2</th>\n",
              "      <td>Adelie</td>\n",
              "      <td>Torgersen</td>\n",
              "      <td>40.3</td>\n",
              "      <td>18.0</td>\n",
              "      <td>195.0</td>\n",
              "      <td>3250.0</td>\n",
              "      <td>Female</td>\n",
              "    </tr>\n",
              "    <tr>\n",
              "      <th>3</th>\n",
              "      <td>Adelie</td>\n",
              "      <td>Torgersen</td>\n",
              "      <td>NaN</td>\n",
              "      <td>NaN</td>\n",
              "      <td>NaN</td>\n",
              "      <td>NaN</td>\n",
              "      <td>NaN</td>\n",
              "    </tr>\n",
              "    <tr>\n",
              "      <th>4</th>\n",
              "      <td>Adelie</td>\n",
              "      <td>Torgersen</td>\n",
              "      <td>36.7</td>\n",
              "      <td>19.3</td>\n",
              "      <td>193.0</td>\n",
              "      <td>3450.0</td>\n",
              "      <td>Female</td>\n",
              "    </tr>\n",
              "  </tbody>\n",
              "</table>\n",
              "</div>\n",
              "    <div class=\"colab-df-buttons\">\n",
              "\n",
              "  <div class=\"colab-df-container\">\n",
              "    <button class=\"colab-df-convert\" onclick=\"convertToInteractive('df-2f05ea78-8e10-4eda-82c3-016358cab6ef')\"\n",
              "            title=\"Convert this dataframe to an interactive table.\"\n",
              "            style=\"display:none;\">\n",
              "\n",
              "  <svg xmlns=\"http://www.w3.org/2000/svg\" height=\"24px\" viewBox=\"0 -960 960 960\">\n",
              "    <path d=\"M120-120v-720h720v720H120Zm60-500h600v-160H180v160Zm220 220h160v-160H400v160Zm0 220h160v-160H400v160ZM180-400h160v-160H180v160Zm440 0h160v-160H620v160ZM180-180h160v-160H180v160Zm440 0h160v-160H620v160Z\"/>\n",
              "  </svg>\n",
              "    </button>\n",
              "\n",
              "  <style>\n",
              "    .colab-df-container {\n",
              "      display:flex;\n",
              "      gap: 12px;\n",
              "    }\n",
              "\n",
              "    .colab-df-convert {\n",
              "      background-color: #E8F0FE;\n",
              "      border: none;\n",
              "      border-radius: 50%;\n",
              "      cursor: pointer;\n",
              "      display: none;\n",
              "      fill: #1967D2;\n",
              "      height: 32px;\n",
              "      padding: 0 0 0 0;\n",
              "      width: 32px;\n",
              "    }\n",
              "\n",
              "    .colab-df-convert:hover {\n",
              "      background-color: #E2EBFA;\n",
              "      box-shadow: 0px 1px 2px rgba(60, 64, 67, 0.3), 0px 1px 3px 1px rgba(60, 64, 67, 0.15);\n",
              "      fill: #174EA6;\n",
              "    }\n",
              "\n",
              "    .colab-df-buttons div {\n",
              "      margin-bottom: 4px;\n",
              "    }\n",
              "\n",
              "    [theme=dark] .colab-df-convert {\n",
              "      background-color: #3B4455;\n",
              "      fill: #D2E3FC;\n",
              "    }\n",
              "\n",
              "    [theme=dark] .colab-df-convert:hover {\n",
              "      background-color: #434B5C;\n",
              "      box-shadow: 0px 1px 3px 1px rgba(0, 0, 0, 0.15);\n",
              "      filter: drop-shadow(0px 1px 2px rgba(0, 0, 0, 0.3));\n",
              "      fill: #FFFFFF;\n",
              "    }\n",
              "  </style>\n",
              "\n",
              "    <script>\n",
              "      const buttonEl =\n",
              "        document.querySelector('#df-2f05ea78-8e10-4eda-82c3-016358cab6ef button.colab-df-convert');\n",
              "      buttonEl.style.display =\n",
              "        google.colab.kernel.accessAllowed ? 'block' : 'none';\n",
              "\n",
              "      async function convertToInteractive(key) {\n",
              "        const element = document.querySelector('#df-2f05ea78-8e10-4eda-82c3-016358cab6ef');\n",
              "        const dataTable =\n",
              "          await google.colab.kernel.invokeFunction('convertToInteractive',\n",
              "                                                    [key], {});\n",
              "        if (!dataTable) return;\n",
              "\n",
              "        const docLinkHtml = 'Like what you see? Visit the ' +\n",
              "          '<a target=\"_blank\" href=https://colab.research.google.com/notebooks/data_table.ipynb>data table notebook</a>'\n",
              "          + ' to learn more about interactive tables.';\n",
              "        element.innerHTML = '';\n",
              "        dataTable['output_type'] = 'display_data';\n",
              "        await google.colab.output.renderOutput(dataTable, element);\n",
              "        const docLink = document.createElement('div');\n",
              "        docLink.innerHTML = docLinkHtml;\n",
              "        element.appendChild(docLink);\n",
              "      }\n",
              "    </script>\n",
              "  </div>\n",
              "\n",
              "\n",
              "<div id=\"df-1ca255e6-8b24-466c-bc22-a7a483a12e00\">\n",
              "  <button class=\"colab-df-quickchart\" onclick=\"quickchart('df-1ca255e6-8b24-466c-bc22-a7a483a12e00')\"\n",
              "            title=\"Suggest charts\"\n",
              "            style=\"display:none;\">\n",
              "\n",
              "<svg xmlns=\"http://www.w3.org/2000/svg\" height=\"24px\"viewBox=\"0 0 24 24\"\n",
              "     width=\"24px\">\n",
              "    <g>\n",
              "        <path d=\"M19 3H5c-1.1 0-2 .9-2 2v14c0 1.1.9 2 2 2h14c1.1 0 2-.9 2-2V5c0-1.1-.9-2-2-2zM9 17H7v-7h2v7zm4 0h-2V7h2v10zm4 0h-2v-4h2v4z\"/>\n",
              "    </g>\n",
              "</svg>\n",
              "  </button>\n",
              "\n",
              "<style>\n",
              "  .colab-df-quickchart {\n",
              "      --bg-color: #E8F0FE;\n",
              "      --fill-color: #1967D2;\n",
              "      --hover-bg-color: #E2EBFA;\n",
              "      --hover-fill-color: #174EA6;\n",
              "      --disabled-fill-color: #AAA;\n",
              "      --disabled-bg-color: #DDD;\n",
              "  }\n",
              "\n",
              "  [theme=dark] .colab-df-quickchart {\n",
              "      --bg-color: #3B4455;\n",
              "      --fill-color: #D2E3FC;\n",
              "      --hover-bg-color: #434B5C;\n",
              "      --hover-fill-color: #FFFFFF;\n",
              "      --disabled-bg-color: #3B4455;\n",
              "      --disabled-fill-color: #666;\n",
              "  }\n",
              "\n",
              "  .colab-df-quickchart {\n",
              "    background-color: var(--bg-color);\n",
              "    border: none;\n",
              "    border-radius: 50%;\n",
              "    cursor: pointer;\n",
              "    display: none;\n",
              "    fill: var(--fill-color);\n",
              "    height: 32px;\n",
              "    padding: 0;\n",
              "    width: 32px;\n",
              "  }\n",
              "\n",
              "  .colab-df-quickchart:hover {\n",
              "    background-color: var(--hover-bg-color);\n",
              "    box-shadow: 0 1px 2px rgba(60, 64, 67, 0.3), 0 1px 3px 1px rgba(60, 64, 67, 0.15);\n",
              "    fill: var(--button-hover-fill-color);\n",
              "  }\n",
              "\n",
              "  .colab-df-quickchart-complete:disabled,\n",
              "  .colab-df-quickchart-complete:disabled:hover {\n",
              "    background-color: var(--disabled-bg-color);\n",
              "    fill: var(--disabled-fill-color);\n",
              "    box-shadow: none;\n",
              "  }\n",
              "\n",
              "  .colab-df-spinner {\n",
              "    border: 2px solid var(--fill-color);\n",
              "    border-color: transparent;\n",
              "    border-bottom-color: var(--fill-color);\n",
              "    animation:\n",
              "      spin 1s steps(1) infinite;\n",
              "  }\n",
              "\n",
              "  @keyframes spin {\n",
              "    0% {\n",
              "      border-color: transparent;\n",
              "      border-bottom-color: var(--fill-color);\n",
              "      border-left-color: var(--fill-color);\n",
              "    }\n",
              "    20% {\n",
              "      border-color: transparent;\n",
              "      border-left-color: var(--fill-color);\n",
              "      border-top-color: var(--fill-color);\n",
              "    }\n",
              "    30% {\n",
              "      border-color: transparent;\n",
              "      border-left-color: var(--fill-color);\n",
              "      border-top-color: var(--fill-color);\n",
              "      border-right-color: var(--fill-color);\n",
              "    }\n",
              "    40% {\n",
              "      border-color: transparent;\n",
              "      border-right-color: var(--fill-color);\n",
              "      border-top-color: var(--fill-color);\n",
              "    }\n",
              "    60% {\n",
              "      border-color: transparent;\n",
              "      border-right-color: var(--fill-color);\n",
              "    }\n",
              "    80% {\n",
              "      border-color: transparent;\n",
              "      border-right-color: var(--fill-color);\n",
              "      border-bottom-color: var(--fill-color);\n",
              "    }\n",
              "    90% {\n",
              "      border-color: transparent;\n",
              "      border-bottom-color: var(--fill-color);\n",
              "    }\n",
              "  }\n",
              "</style>\n",
              "\n",
              "  <script>\n",
              "    async function quickchart(key) {\n",
              "      const quickchartButtonEl =\n",
              "        document.querySelector('#' + key + ' button');\n",
              "      quickchartButtonEl.disabled = true;  // To prevent multiple clicks.\n",
              "      quickchartButtonEl.classList.add('colab-df-spinner');\n",
              "      try {\n",
              "        const charts = await google.colab.kernel.invokeFunction(\n",
              "            'suggestCharts', [key], {});\n",
              "      } catch (error) {\n",
              "        console.error('Error during call to suggestCharts:', error);\n",
              "      }\n",
              "      quickchartButtonEl.classList.remove('colab-df-spinner');\n",
              "      quickchartButtonEl.classList.add('colab-df-quickchart-complete');\n",
              "    }\n",
              "    (() => {\n",
              "      let quickchartButtonEl =\n",
              "        document.querySelector('#df-1ca255e6-8b24-466c-bc22-a7a483a12e00 button');\n",
              "      quickchartButtonEl.style.display =\n",
              "        google.colab.kernel.accessAllowed ? 'block' : 'none';\n",
              "    })();\n",
              "  </script>\n",
              "</div>\n",
              "    </div>\n",
              "  </div>\n"
            ]
          },
          "metadata": {},
          "execution_count": 3
        }
      ]
    },
    {
      "cell_type": "markdown",
      "source": [
        "From the initial inspection of the first 5 observations it's clear that we'll have to consider the handling of missing values and make some choices regarding the objective of the neural network (Classification and/or regression).\n",
        "\n",
        "Firstly we've decided to aim for a clssification type neural network which givin the lenght and depth of the Bill, the lenght of the Flipper and the body mass should aim at clssifying the species of the penguin. For this we therefore modify our Species column to be a numerical categorical target variable. This is done in the following code:"
      ],
      "metadata": {
        "id": "lh8XY9NuhNXk"
      }
    },
    {
      "cell_type": "code",
      "source": [
        "map_species = {'Adelie':0, 'Gentoo':1, 'Chinstrap':2}\n",
        "penguins_raw.replace({'species':map_species}, inplace = True)"
      ],
      "metadata": {
        "id": "Zv2etKK_B9V9"
      },
      "execution_count": null,
      "outputs": []
    },
    {
      "cell_type": "markdown",
      "source": [
        "Next as a part of the feature handling/engineering we use the MinMax-Scaler on the numerical features we've selected.\n",
        "\n",
        "**The MinMacScaler()** transforms the numerical values to be between 0 and 1, in which 0 is givin to the lowest values and 1 is the highest values within our data. This is performed in the following 2 blocks of code:"
      ],
      "metadata": {
        "id": "5cSu_wUaibS-"
      }
    },
    {
      "cell_type": "code",
      "source": [
        "# Selecting the relevant features\n",
        "numerical_col = penguins_raw[['bill_length_mm', 'bill_depth_mm', 'flipper_length_mm', 'body_mass_g']]\n",
        "\n",
        "#Scaling\n",
        "scaler = MinMaxScaler() # Initialising the MinMaxScaler\n",
        "\n",
        "penguins_scaled = scaler.fit_transform(numerical_col) # Fit the scaler to our numerical features.\n",
        "\n",
        "penguins = pd.DataFrame(penguins_scaled, columns=['bill_length_mm', 'bill_depth_mm', 'flipper_length_mm', 'body_mass_g'] ) # Creating a dataframe of the newly-scaled values.\n",
        "\n",
        "penguins['species'] = penguins_raw['species'] # Add our target variable to the dataframe."
      ],
      "metadata": {
        "id": "ISsC5MWXEt-t"
      },
      "execution_count": null,
      "outputs": []
    },
    {
      "cell_type": "markdown",
      "source": [
        "To see that the scaler performed as suspected we again look at the first 5 observations and the shape of our data:"
      ],
      "metadata": {
        "id": "PuFgJX3HjXmN"
      }
    },
    {
      "cell_type": "code",
      "source": [
        "penguins.head()"
      ],
      "metadata": {
        "colab": {
          "base_uri": "https://localhost:8080/",
          "height": 201
        },
        "id": "SzJqetrhFqC3",
        "outputId": "5103cfd9-0416-4e91-ae90-a2ef215effe1"
      },
      "execution_count": null,
      "outputs": [
        {
          "output_type": "execute_result",
          "data": {
            "text/plain": [
              "   bill_length_mm  bill_depth_mm  flipper_length_mm  body_mass_g  species\n",
              "0        0.254545       0.666667           0.152542     0.291667        0\n",
              "1        0.269091       0.511905           0.237288     0.305556        0\n",
              "2        0.298182       0.583333           0.389831     0.152778        0\n",
              "3             NaN            NaN                NaN          NaN        0\n",
              "4        0.167273       0.738095           0.355932     0.208333        0"
            ],
            "text/html": [
              "\n",
              "  <div id=\"df-1bc2dbf6-9a5a-4fd0-839c-f6a8a919128e\" class=\"colab-df-container\">\n",
              "    <div>\n",
              "<style scoped>\n",
              "    .dataframe tbody tr th:only-of-type {\n",
              "        vertical-align: middle;\n",
              "    }\n",
              "\n",
              "    .dataframe tbody tr th {\n",
              "        vertical-align: top;\n",
              "    }\n",
              "\n",
              "    .dataframe thead th {\n",
              "        text-align: right;\n",
              "    }\n",
              "</style>\n",
              "<table border=\"1\" class=\"dataframe\">\n",
              "  <thead>\n",
              "    <tr style=\"text-align: right;\">\n",
              "      <th></th>\n",
              "      <th>bill_length_mm</th>\n",
              "      <th>bill_depth_mm</th>\n",
              "      <th>flipper_length_mm</th>\n",
              "      <th>body_mass_g</th>\n",
              "      <th>species</th>\n",
              "    </tr>\n",
              "  </thead>\n",
              "  <tbody>\n",
              "    <tr>\n",
              "      <th>0</th>\n",
              "      <td>0.254545</td>\n",
              "      <td>0.666667</td>\n",
              "      <td>0.152542</td>\n",
              "      <td>0.291667</td>\n",
              "      <td>0</td>\n",
              "    </tr>\n",
              "    <tr>\n",
              "      <th>1</th>\n",
              "      <td>0.269091</td>\n",
              "      <td>0.511905</td>\n",
              "      <td>0.237288</td>\n",
              "      <td>0.305556</td>\n",
              "      <td>0</td>\n",
              "    </tr>\n",
              "    <tr>\n",
              "      <th>2</th>\n",
              "      <td>0.298182</td>\n",
              "      <td>0.583333</td>\n",
              "      <td>0.389831</td>\n",
              "      <td>0.152778</td>\n",
              "      <td>0</td>\n",
              "    </tr>\n",
              "    <tr>\n",
              "      <th>3</th>\n",
              "      <td>NaN</td>\n",
              "      <td>NaN</td>\n",
              "      <td>NaN</td>\n",
              "      <td>NaN</td>\n",
              "      <td>0</td>\n",
              "    </tr>\n",
              "    <tr>\n",
              "      <th>4</th>\n",
              "      <td>0.167273</td>\n",
              "      <td>0.738095</td>\n",
              "      <td>0.355932</td>\n",
              "      <td>0.208333</td>\n",
              "      <td>0</td>\n",
              "    </tr>\n",
              "  </tbody>\n",
              "</table>\n",
              "</div>\n",
              "    <div class=\"colab-df-buttons\">\n",
              "\n",
              "  <div class=\"colab-df-container\">\n",
              "    <button class=\"colab-df-convert\" onclick=\"convertToInteractive('df-1bc2dbf6-9a5a-4fd0-839c-f6a8a919128e')\"\n",
              "            title=\"Convert this dataframe to an interactive table.\"\n",
              "            style=\"display:none;\">\n",
              "\n",
              "  <svg xmlns=\"http://www.w3.org/2000/svg\" height=\"24px\" viewBox=\"0 -960 960 960\">\n",
              "    <path d=\"M120-120v-720h720v720H120Zm60-500h600v-160H180v160Zm220 220h160v-160H400v160Zm0 220h160v-160H400v160ZM180-400h160v-160H180v160Zm440 0h160v-160H620v160ZM180-180h160v-160H180v160Zm440 0h160v-160H620v160Z\"/>\n",
              "  </svg>\n",
              "    </button>\n",
              "\n",
              "  <style>\n",
              "    .colab-df-container {\n",
              "      display:flex;\n",
              "      gap: 12px;\n",
              "    }\n",
              "\n",
              "    .colab-df-convert {\n",
              "      background-color: #E8F0FE;\n",
              "      border: none;\n",
              "      border-radius: 50%;\n",
              "      cursor: pointer;\n",
              "      display: none;\n",
              "      fill: #1967D2;\n",
              "      height: 32px;\n",
              "      padding: 0 0 0 0;\n",
              "      width: 32px;\n",
              "    }\n",
              "\n",
              "    .colab-df-convert:hover {\n",
              "      background-color: #E2EBFA;\n",
              "      box-shadow: 0px 1px 2px rgba(60, 64, 67, 0.3), 0px 1px 3px 1px rgba(60, 64, 67, 0.15);\n",
              "      fill: #174EA6;\n",
              "    }\n",
              "\n",
              "    .colab-df-buttons div {\n",
              "      margin-bottom: 4px;\n",
              "    }\n",
              "\n",
              "    [theme=dark] .colab-df-convert {\n",
              "      background-color: #3B4455;\n",
              "      fill: #D2E3FC;\n",
              "    }\n",
              "\n",
              "    [theme=dark] .colab-df-convert:hover {\n",
              "      background-color: #434B5C;\n",
              "      box-shadow: 0px 1px 3px 1px rgba(0, 0, 0, 0.15);\n",
              "      filter: drop-shadow(0px 1px 2px rgba(0, 0, 0, 0.3));\n",
              "      fill: #FFFFFF;\n",
              "    }\n",
              "  </style>\n",
              "\n",
              "    <script>\n",
              "      const buttonEl =\n",
              "        document.querySelector('#df-1bc2dbf6-9a5a-4fd0-839c-f6a8a919128e button.colab-df-convert');\n",
              "      buttonEl.style.display =\n",
              "        google.colab.kernel.accessAllowed ? 'block' : 'none';\n",
              "\n",
              "      async function convertToInteractive(key) {\n",
              "        const element = document.querySelector('#df-1bc2dbf6-9a5a-4fd0-839c-f6a8a919128e');\n",
              "        const dataTable =\n",
              "          await google.colab.kernel.invokeFunction('convertToInteractive',\n",
              "                                                    [key], {});\n",
              "        if (!dataTable) return;\n",
              "\n",
              "        const docLinkHtml = 'Like what you see? Visit the ' +\n",
              "          '<a target=\"_blank\" href=https://colab.research.google.com/notebooks/data_table.ipynb>data table notebook</a>'\n",
              "          + ' to learn more about interactive tables.';\n",
              "        element.innerHTML = '';\n",
              "        dataTable['output_type'] = 'display_data';\n",
              "        await google.colab.output.renderOutput(dataTable, element);\n",
              "        const docLink = document.createElement('div');\n",
              "        docLink.innerHTML = docLinkHtml;\n",
              "        element.appendChild(docLink);\n",
              "      }\n",
              "    </script>\n",
              "  </div>\n",
              "\n",
              "\n",
              "<div id=\"df-1a48a8c9-51c3-4435-81a6-51691b55a9f0\">\n",
              "  <button class=\"colab-df-quickchart\" onclick=\"quickchart('df-1a48a8c9-51c3-4435-81a6-51691b55a9f0')\"\n",
              "            title=\"Suggest charts\"\n",
              "            style=\"display:none;\">\n",
              "\n",
              "<svg xmlns=\"http://www.w3.org/2000/svg\" height=\"24px\"viewBox=\"0 0 24 24\"\n",
              "     width=\"24px\">\n",
              "    <g>\n",
              "        <path d=\"M19 3H5c-1.1 0-2 .9-2 2v14c0 1.1.9 2 2 2h14c1.1 0 2-.9 2-2V5c0-1.1-.9-2-2-2zM9 17H7v-7h2v7zm4 0h-2V7h2v10zm4 0h-2v-4h2v4z\"/>\n",
              "    </g>\n",
              "</svg>\n",
              "  </button>\n",
              "\n",
              "<style>\n",
              "  .colab-df-quickchart {\n",
              "      --bg-color: #E8F0FE;\n",
              "      --fill-color: #1967D2;\n",
              "      --hover-bg-color: #E2EBFA;\n",
              "      --hover-fill-color: #174EA6;\n",
              "      --disabled-fill-color: #AAA;\n",
              "      --disabled-bg-color: #DDD;\n",
              "  }\n",
              "\n",
              "  [theme=dark] .colab-df-quickchart {\n",
              "      --bg-color: #3B4455;\n",
              "      --fill-color: #D2E3FC;\n",
              "      --hover-bg-color: #434B5C;\n",
              "      --hover-fill-color: #FFFFFF;\n",
              "      --disabled-bg-color: #3B4455;\n",
              "      --disabled-fill-color: #666;\n",
              "  }\n",
              "\n",
              "  .colab-df-quickchart {\n",
              "    background-color: var(--bg-color);\n",
              "    border: none;\n",
              "    border-radius: 50%;\n",
              "    cursor: pointer;\n",
              "    display: none;\n",
              "    fill: var(--fill-color);\n",
              "    height: 32px;\n",
              "    padding: 0;\n",
              "    width: 32px;\n",
              "  }\n",
              "\n",
              "  .colab-df-quickchart:hover {\n",
              "    background-color: var(--hover-bg-color);\n",
              "    box-shadow: 0 1px 2px rgba(60, 64, 67, 0.3), 0 1px 3px 1px rgba(60, 64, 67, 0.15);\n",
              "    fill: var(--button-hover-fill-color);\n",
              "  }\n",
              "\n",
              "  .colab-df-quickchart-complete:disabled,\n",
              "  .colab-df-quickchart-complete:disabled:hover {\n",
              "    background-color: var(--disabled-bg-color);\n",
              "    fill: var(--disabled-fill-color);\n",
              "    box-shadow: none;\n",
              "  }\n",
              "\n",
              "  .colab-df-spinner {\n",
              "    border: 2px solid var(--fill-color);\n",
              "    border-color: transparent;\n",
              "    border-bottom-color: var(--fill-color);\n",
              "    animation:\n",
              "      spin 1s steps(1) infinite;\n",
              "  }\n",
              "\n",
              "  @keyframes spin {\n",
              "    0% {\n",
              "      border-color: transparent;\n",
              "      border-bottom-color: var(--fill-color);\n",
              "      border-left-color: var(--fill-color);\n",
              "    }\n",
              "    20% {\n",
              "      border-color: transparent;\n",
              "      border-left-color: var(--fill-color);\n",
              "      border-top-color: var(--fill-color);\n",
              "    }\n",
              "    30% {\n",
              "      border-color: transparent;\n",
              "      border-left-color: var(--fill-color);\n",
              "      border-top-color: var(--fill-color);\n",
              "      border-right-color: var(--fill-color);\n",
              "    }\n",
              "    40% {\n",
              "      border-color: transparent;\n",
              "      border-right-color: var(--fill-color);\n",
              "      border-top-color: var(--fill-color);\n",
              "    }\n",
              "    60% {\n",
              "      border-color: transparent;\n",
              "      border-right-color: var(--fill-color);\n",
              "    }\n",
              "    80% {\n",
              "      border-color: transparent;\n",
              "      border-right-color: var(--fill-color);\n",
              "      border-bottom-color: var(--fill-color);\n",
              "    }\n",
              "    90% {\n",
              "      border-color: transparent;\n",
              "      border-bottom-color: var(--fill-color);\n",
              "    }\n",
              "  }\n",
              "</style>\n",
              "\n",
              "  <script>\n",
              "    async function quickchart(key) {\n",
              "      const quickchartButtonEl =\n",
              "        document.querySelector('#' + key + ' button');\n",
              "      quickchartButtonEl.disabled = true;  // To prevent multiple clicks.\n",
              "      quickchartButtonEl.classList.add('colab-df-spinner');\n",
              "      try {\n",
              "        const charts = await google.colab.kernel.invokeFunction(\n",
              "            'suggestCharts', [key], {});\n",
              "      } catch (error) {\n",
              "        console.error('Error during call to suggestCharts:', error);\n",
              "      }\n",
              "      quickchartButtonEl.classList.remove('colab-df-spinner');\n",
              "      quickchartButtonEl.classList.add('colab-df-quickchart-complete');\n",
              "    }\n",
              "    (() => {\n",
              "      let quickchartButtonEl =\n",
              "        document.querySelector('#df-1a48a8c9-51c3-4435-81a6-51691b55a9f0 button');\n",
              "      quickchartButtonEl.style.display =\n",
              "        google.colab.kernel.accessAllowed ? 'block' : 'none';\n",
              "    })();\n",
              "  </script>\n",
              "</div>\n",
              "    </div>\n",
              "  </div>\n"
            ]
          },
          "metadata": {},
          "execution_count": 6
        }
      ]
    },
    {
      "cell_type": "code",
      "source": [
        "penguins.shape"
      ],
      "metadata": {
        "colab": {
          "base_uri": "https://localhost:8080/"
        },
        "id": "BYG73jOd3Z61",
        "outputId": "c620804b-bf1d-4134-ce31-333b8f8ae544"
      },
      "execution_count": null,
      "outputs": [
        {
          "output_type": "execute_result",
          "data": {
            "text/plain": [
              "(344, 5)"
            ]
          },
          "metadata": {},
          "execution_count": 7
        }
      ]
    },
    {
      "cell_type": "markdown",
      "source": [
        "### Handling missing values\n",
        "\n",
        "As we saw initially, the data contains some missing values."
      ],
      "metadata": {
        "id": "vkp39HJ-jpap"
      }
    },
    {
      "cell_type": "code",
      "source": [
        "penguins.isnull().sum()"
      ],
      "metadata": {
        "colab": {
          "base_uri": "https://localhost:8080/"
        },
        "id": "4OeaUirC3gy4",
        "outputId": "0296ebe7-f2db-4d0e-8af8-3d525b27e6a8"
      },
      "execution_count": null,
      "outputs": [
        {
          "output_type": "execute_result",
          "data": {
            "text/plain": [
              "bill_length_mm       2\n",
              "bill_depth_mm        2\n",
              "flipper_length_mm    2\n",
              "body_mass_g          2\n",
              "species              0\n",
              "dtype: int64"
            ]
          },
          "metadata": {},
          "execution_count": 8
        }
      ]
    },
    {
      "cell_type": "markdown",
      "source": [
        "There seems to be 2 missing values in all of the features except in the target variable (**Species**).\n",
        "\n",
        "Givin the small amount of missing observaions we decide to remove the observations containing the missing values."
      ],
      "metadata": {
        "id": "RkMuAJUxj8Gz"
      }
    },
    {
      "cell_type": "code",
      "source": [
        "penguins.dropna(inplace = True)"
      ],
      "metadata": {
        "id": "B9s0uwJz9DyA"
      },
      "execution_count": null,
      "outputs": []
    },
    {
      "cell_type": "code",
      "source": [
        "penguins.shape"
      ],
      "metadata": {
        "colab": {
          "base_uri": "https://localhost:8080/"
        },
        "id": "-4ZAvI-u9Spy",
        "outputId": "e76ff664-fb17-44c9-bcee-e99cf3b550f3"
      },
      "execution_count": null,
      "outputs": [
        {
          "output_type": "execute_result",
          "data": {
            "text/plain": [
              "(342, 5)"
            ]
          },
          "metadata": {},
          "execution_count": 10
        }
      ]
    },
    {
      "cell_type": "markdown",
      "source": [
        "As can be seen from the new shape of our data, the missing values were all contained in the same 2 observations, meaning that we only reduce our dataset by 2 observations.\n",
        "\n",
        "Next we check for duplicated rows as a precautionary step to make sure we're not creating a neaural network of identical observations."
      ],
      "metadata": {
        "id": "zjFdnafIkIP4"
      }
    },
    {
      "cell_type": "code",
      "source": [
        "penguins.duplicated().value_counts()"
      ],
      "metadata": {
        "colab": {
          "base_uri": "https://localhost:8080/"
        },
        "id": "tdJVTlLa7U8A",
        "outputId": "8a9eb486-0407-4d2a-f357-d506519c539a"
      },
      "execution_count": null,
      "outputs": [
        {
          "output_type": "execute_result",
          "data": {
            "text/plain": [
              "False    342\n",
              "dtype: int64"
            ]
          },
          "metadata": {},
          "execution_count": 11
        }
      ]
    },
    {
      "cell_type": "markdown",
      "source": [
        "This however is not a problem within our data."
      ],
      "metadata": {
        "id": "xTrOjSdzlDaE"
      }
    },
    {
      "cell_type": "markdown",
      "source": [
        "Lastly as part of the data-handling we look for imbalances within our selected target variable (**Species**)."
      ],
      "metadata": {
        "id": "SOhDRdmlnAG3"
      }
    },
    {
      "cell_type": "code",
      "source": [
        "penguins.species.value_counts()"
      ],
      "metadata": {
        "colab": {
          "base_uri": "https://localhost:8080/"
        },
        "id": "GAfFx_ACoDOo",
        "outputId": "34d7a244-8965-47e6-b5ff-6ff62f74b312"
      },
      "execution_count": null,
      "outputs": [
        {
          "output_type": "execute_result",
          "data": {
            "text/plain": [
              "0    151\n",
              "1    123\n",
              "2     68\n",
              "Name: species, dtype: int64"
            ]
          },
          "metadata": {},
          "execution_count": 12
        }
      ]
    },
    {
      "cell_type": "code",
      "source": [
        "plt.figure(figsize=(4, 4))  # Set the figure size\n",
        "\n",
        "plt.pie(penguins['species'].value_counts(),\n",
        "        labels = ['Adelie','Gentoo','Chinstrap'],\n",
        "        autopct='%1.1f%%',\n",
        "        colors=sns.color_palette('Set2')\n",
        "        )\n",
        "\n",
        "plt.title(\"Imbalances within species\")\n",
        "plt.show()"
      ],
      "metadata": {
        "colab": {
          "base_uri": "https://localhost:8080/",
          "height": 367
        },
        "id": "zJ2RdaBU7e3f",
        "outputId": "d20fa040-a9c4-4b8f-cb98-9512f6de6209"
      },
      "execution_count": null,
      "outputs": [
        {
          "output_type": "display_data",
          "data": {
            "text/plain": [
              "<Figure size 400x400 with 1 Axes>"
            ],
            "image/png": "[encoded data removed]"
          },
          "metadata": {}
        }
      ]
    },
    {
      "cell_type": "markdown",
      "source": [
        "As can be seen from the Pie-chart, the Chinstrap species is a little bit underrepresented, which could lead to the neural network not predicting the species correctly. Therefore we'll use SMOTE to create sythetic data as to balance out our target variable."
      ],
      "metadata": {
        "id": "ZS8CUOO-nI9I"
      }
    },
    {
      "cell_type": "markdown",
      "source": [
        "## Train-test split and imbalance handeling\n",
        "\n"
      ],
      "metadata": {
        "id": "Muqao7hEmtb8"
      }
    },
    {
      "cell_type": "markdown",
      "source": [
        "We would like the model to be trained on some balanced data, but the testing data should be similar to the original data because it mimics a real-life scenario. Therefore we'll split the data into training and test data using the train_test_split() function with 20% of the dataset being used for testing purposes."
      ],
      "metadata": {
        "id": "kLoT5mr2q_kj"
      }
    },
    {
      "cell_type": "code",
      "source": [
        "X = penguins[['bill_length_mm', 'bill_depth_mm', 'flipper_length_mm', 'body_mass_g']].values # Creating the features\n",
        "y = penguins['species'].values # Target variable\n",
        "\n",
        "# Splitting the data using 20% for testing with a random seed of 1234\n",
        "X_train, X_test, y_train, y_test = train_test_split(X, y, test_size=0.25, random_state=123)"
      ],
      "metadata": {
        "id": "YVWXdkeH75sv"
      },
      "execution_count": null,
      "outputs": []
    },
    {
      "cell_type": "markdown",
      "source": [
        "As mentioned above, we'll like the training data to be balanced in the target variable. Therefore we'll use SMOTE to create sythetic data for the minority classes of the species variable.\n",
        "\n",
        "> \"*SMOTE first selects a minority class instance a at random and finds its k nearest minority class neighbors. The synthetic instance is then created by choosing one of the k nearest neighbors b at random and connecting a and b to form a line segment in the feature space. The synthetic instances are generated as a convex combination of the two chosen instances a and b.*\"\n",
        ">> **References:** *Imbalanced Learning: Foundations, Algorithms, and Applications*, 1st Ed., Yunqian Ma & Haibo He"
      ],
      "metadata": {
        "id": "dYSueLRPr8Sl"
      }
    },
    {
      "cell_type": "code",
      "source": [
        "X_train, y_train = SMOTE().fit_resample(X_train, y_train)"
      ],
      "metadata": {
        "id": "v5YoXDCH8i_R"
      },
      "execution_count": null,
      "outputs": []
    },
    {
      "cell_type": "markdown",
      "source": [
        "Taking a look at the shape and value counts of the target variable (y = Species), we'll see that the variable has now been balanced out perfectly."
      ],
      "metadata": {
        "id": "MlXSRpcVt2i9"
      }
    },
    {
      "cell_type": "code",
      "source": [
        "display(\n",
        "    print(f\"The lenght of the new data is {y_train.shape} and the value count is identical:\"),\n",
        "\n",
        "    pd.DataFrame(y_train).value_counts()\n",
        "    )"
      ],
      "metadata": {
        "colab": {
          "base_uri": "https://localhost:8080/",
          "height": 115
        },
        "id": "FG8w13HllOP0",
        "outputId": "16a9e6c9-603f-4c70-dfed-59ef6a34d7c9"
      },
      "execution_count": null,
      "outputs": [
        {
          "output_type": "stream",
          "name": "stdout",
          "text": [
            "The lenght of the new data is (348,) and the value count is identical:\n"
          ]
        },
        {
          "output_type": "display_data",
          "data": {
            "text/plain": [
              "None"
            ]
          },
          "metadata": {}
        },
        {
          "output_type": "display_data",
          "data": {
            "text/plain": [
              "0    116\n",
              "1    116\n",
              "2    116\n",
              "dtype: int64"
            ]
          },
          "metadata": {}
        }
      ]
    },
    {
      "cell_type": "code",
      "source": [
        "plt.figure(figsize=(4, 4))  # Set the figure size\n",
        "\n",
        "plt.pie(pd.DataFrame(y_train).value_counts(),\n",
        "        labels = ['Adelie','Gentoo','Chinstrap'],\n",
        "        autopct='%1.1f%%',\n",
        "        colors=sns.color_palette('Set2')\n",
        "        )\n",
        "\n",
        "plt.title(\"Imbalances after using SMOTE()\")\n",
        "plt.suptitle('Species')\n",
        "plt.show()"
      ],
      "metadata": {
        "colab": {
          "base_uri": "https://localhost:8080/",
          "height": 384
        },
        "id": "BCuRBJmStKVo",
        "outputId": "f4f7f07d-6dcd-491e-c547-51da1f066076"
      },
      "execution_count": null,
      "outputs": [
        {
          "output_type": "display_data",
          "data": {
            "text/plain": [
              "<Figure size 400x400 with 1 Axes>"
            ],
            "image/png": "[encoded data removed]"
          },
          "metadata": {}
        }
      ]
    },
    {
      "cell_type": "markdown",
      "source": [
        "Following the SMOTE of the target variable we now have a balanced training dataset and some '*real-life*' data for testing later on. This means that we can now move on to initialising the neural network."
      ],
      "metadata": {
        "id": "CN833qppurQ5"
      }
    },
    {
      "cell_type": "markdown",
      "source": [
        "## Initialising Neaural Network\n",
        "\n",
        "Following the data-handling part we're left with balanced training data (X_train, y_train) and testing data (X_test, y_test).\n",
        "\n",
        "Due to the fact that we'll be working with PyTorch for the neural network analysis, we have to create Tesnors, which is essentially the same thing as numpy arrays. Also we have to configurate the data-type (dtype) of the tensors to be able to use them together."
      ],
      "metadata": {
        "id": "Ui_q0vuavAPW"
      }
    },
    {
      "cell_type": "code",
      "source": [
        "# Convert to PyTorch Tensors\n",
        "# torch.float32 = at float object with a max of 32 digits.\n",
        "# torch.int32 a intiger object with a max of 64 digits.\n",
        "# Apparently the y needs to be 64 while the X can remain 32.\n",
        "\n",
        "# Training\n",
        "X_train_tensor = torch.tensor(X_train, dtype=torch.float32)\n",
        "y_train_tensor = torch.tensor(y_train, dtype=torch.int64)\n",
        "\n",
        "# Testing\n",
        "X_test_tensor = torch.tensor(X_test, dtype=torch.float32)\n",
        "y_test_tensor = torch.tensor(y_test, dtype=torch.int64)"
      ],
      "metadata": {
        "id": "BO1vxfcW_Bbp"
      },
      "execution_count": null,
      "outputs": []
    },
    {
      "cell_type": "markdown",
      "source": [
        "To see that a Tensor and a numpy array is the same, look at the following 1 list:"
      ],
      "metadata": {
        "id": "RS91vAn3K2Dj"
      }
    },
    {
      "cell_type": "code",
      "source": [
        "display(X_train_tensor[1],\n",
        "        X_train_tensor.shape )"
      ],
      "metadata": {
        "colab": {
          "base_uri": "https://localhost:8080/",
          "height": 49
        },
        "id": "H8p2x0owLw_s",
        "outputId": "fbea44e2-aa9c-4ea7-c0c0-84ca8d138161"
      },
      "execution_count": null,
      "outputs": [
        {
          "output_type": "display_data",
          "data": {
            "text/plain": [
              "tensor([0.3891, 0.6429, 0.3898, 0.4306])"
            ]
          },
          "metadata": {}
        },
        {
          "output_type": "display_data",
          "data": {
            "text/plain": [
              "torch.Size([348, 4])"
            ]
          },
          "metadata": {}
        }
      ]
    },
    {
      "cell_type": "code",
      "source": [
        "display(X_train[1],\n",
        "        f\"The shape is {X_train.shape}\" )"
      ],
      "metadata": {
        "colab": {
          "base_uri": "https://localhost:8080/",
          "height": 50
        },
        "id": "ZkutcxqpK46d",
        "outputId": "f19075b4-f36d-4fa5-cfa5-4ef90e3deba8"
      },
      "execution_count": null,
      "outputs": [
        {
          "output_type": "display_data",
          "data": {
            "text/plain": [
              "array([0.38909091, 0.64285714, 0.38983051, 0.43055556])"
            ]
          },
          "metadata": {}
        },
        {
          "output_type": "display_data",
          "data": {
            "text/plain": [
              "'The shape is (348, 4)'"
            ],
            "application/vnd.google.colaboratory.intrinsic+json": {
              "type": "string"
            }
          },
          "metadata": {}
        }
      ]
    },
    {
      "cell_type": "markdown",
      "source": [
        "In other words, they're exactly identical."
      ],
      "metadata": {
        "id": "SwHw48X3K81-"
      }
    },
    {
      "cell_type": "markdown",
      "source": [
        "### Neural Network initilization\n",
        "\n",
        "Before coding the neural network it's relevant to go through the required steps in order to create a network.\n",
        "\n",
        "In order to build a neural network, the following steps must be followed:\n",
        "\n",
        "1. **Creating a FeedForwardNetwork**\n",
        "  - **1.1. Structure (Architecture) of NN:** Define the network's architecture, specifying the number of layers, neurons, and activation functions for each layer.\n",
        "\n",
        "  - **1.2. Loss Function:** Choose a loss-function that gives a numerical error between predicted and actual values. Here there's different relevant functions to be used depending on the type of NN created (Classifying or regression).\n",
        "  \n",
        "  - **1.3. Optmization Approch:** Selecting an optimization algorithm (e.g., SGD, Adam) to minimize the loss function and update the model's parameters.\n",
        "\n",
        "2. **Forward Pass:** Pass the input data through the network in the forward direction to make predictions.\n",
        "\n",
        "3. **FeedForward Evaluation:** Evaluate the network's predictions and calculate the loss, which gives a numerical error in the predictions.\n",
        "\n",
        "4. **Backward Pass / Gradient Calculation:** Compute the gradient of the loss with respect to the model's parameters using backpropagation.\n",
        "\n",
        "\n",
        "5. **Back Propagation / Update Weights:** Update the model's parameters (weights and biases) using the computed gradients and the chosen optimization algorithm.\n",
        "\n",
        "6. **Training Loop:** Iterate through the training dataset for a specified number of epochs, repeating steps 2 to 5 to improve the model's performance."
      ],
      "metadata": {
        "id": "xS6CsZGkLwJj"
      }
    },
    {
      "cell_type": "markdown",
      "source": [
        "![](https://miro.medium.com/v2/resize:fit:1400/1*YHM9vCaEf8pmdBycuW4wrg.gif)"
      ],
      "metadata": {
        "id": "1Ce-IBMjOZht"
      }
    },
    {
      "cell_type": "markdown",
      "source": [
        "Though before going into the steps, we'll have to make some decisions as to which loss-function to use, the amount of hidden layers and output, the amount of iterations (Epochs) and learning-rate and what type of gradient decent (Batch or stochastic).\n",
        "\n",
        "As so, the following section is devoted to an explanation for each of our chosen variation:\n",
        "\n",
        "* **Loss-function:** We'll be using CrossEntropyLoss function as we're trying to create a Classifying NN model. If we created a regression type NN, we would most likely have chosen the MSE approach, but this is not appropirate since we have a categorical target variable.\n",
        "\n",
        "* **Hidden Layers, input and output:** As pre-specified in the assignment description, we'll be using a minimum of 2 hidden layers. And since we have 4 input features (Bill lenght and depth, flipper lenght and body mass) we'll have 4 inputs. Lastly we'll have 3 outputs because we have 3 categories in our target variable. The output would therefore be the properbility for the input to charachterize each category and so the most likely of these would be our result.\n",
        "\n",
        "* **Learning-rate and iterations:** We'll compare different specifications of the models learning rate and iterations, but for simplicity we start of using 50 iterations and a learning rate of 0,1.\n",
        "\n",
        "* **Type of gradient decent:** There's mainly 2 types of relevant gradient decents:\n",
        "  * **Batch Gradient Descent (BGD):** BGD takes a handfull (batch) of data from your dataset and try to make predictions using a initially random set of parameters. Then you calculate how 'off'/wrong the predictions where (loss-functions in play), update parameters to make your prediction better and then you start over using a new batch of your data. Each iteration or use of a new batch is called a Epoch.\n",
        "\n",
        "  * **Stochastic Gradient Decent (SDG):** Randomly selects ONLY 1 observations from your data and predict it using a initially random set of parameters. The again calculating how 'off'/wrong it was (loss-function) and adjust the parameters to reduce the loss-function to make the predictions better based on the feedback for this one example. This is done a X amount of times (Usually X is set to the lenght of the tensors) to select X-random observations. Againg the iteration is performed Y amount of times, meaning that SDG would require 2 loops; First select X amount of random observations and learn from it, and do this exercise Y amount of times.\n",
        "\n",
        "\n",
        "\n",
        "\n"
      ],
      "metadata": {
        "id": "8SSP9k-7O3zf"
      }
    },
    {
      "cell_type": "markdown",
      "source": [
        "#### Building of the layers:\n",
        "\n",
        "* **The first 3 models:** Will be build using the layers:\n",
        "  \n",
        "      torch.nn.Linear(input_size,hidden_size), # 1\n",
        "                          torch.nn.ReLU(), # 2\n",
        "                          torch.nn.Dropout(0.33), # 3\n",
        "                          torch.nn.Linear(hidden_size,output_size), # 4\n",
        "                          torch.nn.Softmax() # 5\n",
        "\n",
        "\n",
        "\n",
        "  * Here the # 1 layer creates a linear layer which transforms the input data, meaning that it takes the 4 features as input and 'hidden_size' as the number of neurons (or outputs).\n",
        "\n",
        "\n",
        "  * The # 2 layer is a Rectified Linear Unit (ReLU) which is an activation function. This function represents a non-linear element to the model by replacing negative values with 0 and positive with the actual values.\n",
        "\n",
        "\n",
        "  * The # 3 layer is a layer used to reducing the number of parameters in the model and it's purpose is to reduce overfitting. Using nn.Dropout in PyTorch randomly sets a fraction of input units to 0 at each update during training, which can be thought of as a form of dynamic pruning, encouraging the network to develop redundant representations and potentially leading to a more robust and simpler model. The dropout rate in a neural network specifies the probability that each neuron (or node) in the layer to which dropout is applied will be set to zero (i.e., “dropped out”) during a forward pass in training. This means that the neuron’s output will be temporarily ignored for that forward pass and the subsequent backward pass. We've set the dropout rate to 33% meaning that on average 33% of the neurons in that layer will be set to zero during each training iteration.\n",
        "\n",
        "\n",
        "  * The # 4 layer is again a linear transformation that takes the input of the above layers and outputs a sze of 3 (as specified by output_size).\n",
        "\n",
        "\n",
        "  * The # 5 layer is the output layer, which given our multi-classification task is set to softmax. Softmax is another activation function that calculates the multi-class probabilities for each class and makes sure that the output sums to 1. That means that the tensor we're calculating in the end would have 3 values representing the properbility of the penguin being species 0, 1 or 2.\n",
        "\n",
        "\n",
        ">> * **The 4 and 5 model:** We try experimenting with different layer-setups where the most noteable differents to the first 3 models is that the 4 and 5 model increase the number of linear transformations, increases the number of neurons and disables the dropout layer to see if overfitting occurs (it does not 🤷‍♂️). Also we introduce another activation function in the SoftMax. Softmax is commonly used for multi-class classification tasks and converts the network's output into class probabilities.\n"
      ],
      "metadata": {
        "id": "QjcdXdcGW0kR"
      }
    },
    {
      "cell_type": "markdown",
      "source": [
        "## MODEL 1:\n",
        "\n",
        "* Epochs: 10\n",
        "* Learning rate: 1\n",
        "* Loss-function: CrossEntropy\n",
        "* Optimizer: SDG"
      ],
      "metadata": {
        "id": "4n7OvnfbVTXo"
      }
    },
    {
      "cell_type": "markdown",
      "source": [
        "### Training - model 1"
      ],
      "metadata": {
        "id": "FpBdE5_2PBRR"
      }
    },
    {
      "cell_type": "code",
      "source": [
        "####################################################################\n",
        "############################ MODEL 1 ###############################\n",
        "####################################################################\n",
        "\n",
        "# Initializing Hyperparameters\n",
        "epochs = 10\n",
        "learning_rate = 1\n",
        "\n",
        "# 1. Creating a FeedForwardNetwork\n",
        "# 1.1 Structure (Architecture) of NN\n",
        "input_size = 4\n",
        "hidden_size = 10\n",
        "output_size = 3  # 3 classes for 0, 1, and 2\n",
        "\n",
        "model_net = nn.Sequential(torch.nn.Linear(input_size,hidden_size),\n",
        "                          torch.nn.ReLU(),\n",
        "                          torch.nn.Dropout(0.33),\n",
        "                          torch.nn.Linear(hidden_size,output_size),\n",
        "                          torch.nn.Softmax()\n",
        "                          )\n",
        "\n",
        "# 1.2 Loss Function\n",
        "loss_CEL = nn.CrossEntropyLoss()\n",
        "\n",
        "# 1.3 Optimization Approach\n",
        "optimizer = optim.SGD(model_net.parameters(), lr=learning_rate)\n",
        "\n",
        "# Loop over the number of epochs\n",
        "for epoch in tqdm_notebook(range(epochs), total=epochs, unit=\"epoch\"):\n",
        "    epoch_loss = 0.0\n",
        "\n",
        "    # Loop over each sample in the dataset\n",
        "    for i in range(X_train_tensor.size(0)):\n",
        "        # 2. Forward Pass\n",
        "        output = model_net(X_train_tensor[i])\n",
        "\n",
        "        # 3. FeedForward Evaluation\n",
        "        loss = loss_CEL(output.unsqueeze(0), y_train_tensor[i].unsqueeze(0)) # .unsqueeze(0) in this code is to ensure that the input to the CrossEntropyLoss function has the correct shape\n",
        "        optimizer.zero_grad() # Resets the gradients of all optimized torch.Tensor\n",
        "\n",
        "        # 4. Backward Pass / Gradient Calculation\n",
        "        loss.backward()\n",
        "\n",
        "        # Store the loss for each epoch\n",
        "        epoch_loss += loss.item()\n",
        "\n",
        "        # 5. Back Propagation / Update Weights\n",
        "        optimizer.step()\n",
        "\n",
        "    # Calculate and display average loss for the epoch\n",
        "    epoch_loss /= X_train_tensor.size(0)\n",
        "    if epoch + 1 == epochs:\n",
        "      print(f\"Epoch {epoch + 1} Average Loss: {epoch_loss:.10f}\")"
      ],
      "metadata": {
        "colab": {
          "base_uri": "https://localhost:8080/",
          "height": 168,
          "referenced_widgets": [
            "8860ac763e2e4ddfaefc4d222f33c9a6",
            "9a8bcdb4554844c2ade8246b921baee6",
            "c2b87cc41f3c410690858c820493e675",
            "24f71ce8361949b193e037de50e876b6",
            "7aab95c358f340a3bf043121da0a83ae",
            "57b19efb4e614952853ea1a11f66f122",
            "d3f36f3e55c74a7bb4c90d33eddabce0",
            "74e2669ba0844f2dba2f065cce1b8620",
            "ac23b41d3f7c43899dceb4851ae9065d",
            "1b8788e0bb8e4747a938dee7916e99ae",
            "7992be96c5b44a0a94bf516ecd8b5290"
          ]
        },
        "id": "jwm5oBfWApV8",
        "outputId": "bea0cfd7-e992-44af-8a19-c014ff774f05"
      },
      "execution_count": null,
      "outputs": [
        {
          "output_type": "stream",
          "name": "stderr",
          "text": [
            "<ipython-input-33-22eeacf09ab4>:29: TqdmDeprecationWarning: This function will be removed in tqdm==5.0.0\n",
            "Please use `tqdm.notebook.tqdm` instead of `tqdm.tqdm_notebook`\n",
            "  for epoch in tqdm_notebook(range(epochs), total=epochs, unit=\"epoch\"):\n"
          ]
        },
        {
          "output_type": "display_data",
          "data": {
            "text/plain": [
              "  0%|          | 0/10 [00:00<?, ?epoch/s]"
            ],
            "application/vnd.jupyter.widget-view+json": {
              "version_major": 2,
              "version_minor": 0,
              "model_id": "8860ac763e2e4ddfaefc4d222f33c9a6"
            }
          },
          "metadata": {}
        },
        {
          "output_type": "stream",
          "name": "stderr",
          "text": [
            "/usr/local/lib/python3.10/dist-packages/torch/nn/modules/module.py:1518: UserWarning: Implicit dimension choice for softmax has been deprecated. Change the call to include dim=X as an argument.\n",
            "  return self._call_impl(*args, **kwargs)\n"
          ]
        },
        {
          "output_type": "stream",
          "name": "stdout",
          "text": [
            "Epoch 10 Average Loss: 0.6477273144\n"
          ]
        }
      ]
    },
    {
      "cell_type": "markdown",
      "source": [
        "### Testing - model 1"
      ],
      "metadata": {
        "id": "T15E4MbFPFBR"
      }
    },
    {
      "cell_type": "code",
      "source": [
        "# Initialize an empty list to store the predictions\n",
        "predictions = []\n",
        "\n",
        "# Set your model to evaluation mode\n",
        "model_net.eval()\n",
        "\n",
        "# Loop through each sample in the test data\n",
        "for i in range(X_test_tensor.size(0)):\n",
        "    # Pass the test sample through the model\n",
        "    output = model_net(X_test_tensor[i])\n",
        "\n",
        "    # Get the predicted class by selecting the class with the highest probability (argmax)\n",
        "    predicted_class = output.argmax().item()\n",
        "\n",
        "    # Append the predicted class to the list of predictions\n",
        "    predictions.append(predicted_class)\n",
        "\n",
        "# Convert the list of predictions to a tensor\n",
        "predicted_tensor = torch.tensor(predictions)\n",
        "\n",
        "# Using the predictions tensor to calculate accuracy and confusion matrix\n",
        "print(f\"\"\" The accuracy of Model 1 is {accuracy_score(y_test, predicted_tensor).round(4)*100}%\"\"\")\n",
        "\n",
        "\n",
        "print(f\"\"\" The classification report is as following:\n",
        "{classification_report(y_test, predicted_tensor)}\n",
        "        \"\"\")\n",
        "\n",
        "ConfusionMatrixDisplay(confusion_matrix(y_test,predicted_tensor)).plot()"
      ],
      "metadata": {
        "colab": {
          "base_uri": "https://localhost:8080/",
          "height": 678
        },
        "id": "HghGnK_1eG2y",
        "outputId": "1fa0de8e-ea3d-4899-8279-341c8dbf9f26"
      },
      "execution_count": null,
      "outputs": [
        {
          "output_type": "stream",
          "name": "stdout",
          "text": [
            " The accuracy of Model 1 is 95.35%\n",
            " The classification report is as following:\n",
            "              precision    recall  f1-score   support\n",
            "\n",
            "           0       1.00      0.89      0.94        35\n",
            "           1       1.00      1.00      1.00        31\n",
            "           2       0.83      1.00      0.91        20\n",
            "\n",
            "    accuracy                           0.95        86\n",
            "   macro avg       0.94      0.96      0.95        86\n",
            "weighted avg       0.96      0.95      0.95        86\n",
            "\n",
            "        \n"
          ]
        },
        {
          "output_type": "execute_result",
          "data": {
            "text/plain": [
              "<sklearn.metrics._plot.confusion_matrix.ConfusionMatrixDisplay at 0x7ad52429af80>"
            ]
          },
          "metadata": {},
          "execution_count": 34
        },
        {
          "output_type": "display_data",
          "data": {
            "text/plain": [
              "<Figure size 640x480 with 2 Axes>"
            ],
            "image/png": "[encoded data removed]"
          },
          "metadata": {}
        }
      ]
    },
    {
      "cell_type": "markdown",
      "source": [
        "In model 1, we see that the overall accuracy is 95%, with only 4 wrongfully predicted observations out off 86 observations. All of the 4 wrongfully predicted observations is predicted to be class 2 but are truly class 0. Based on this, in therefore seems like the initial model has trouble predicting the class 0 correctly, as the only one."
      ],
      "metadata": {
        "id": "zLGZ1I6fPfja"
      }
    },
    {
      "cell_type": "markdown",
      "source": [
        "## MODEL 2:\n",
        "\n",
        "Based on the above summary, we try to increase the number of rounds of training the model, in a attempt to see if we can correct the mistakes of model 1. Therefore the number of epochs are increased from 10 $\\rightarrow$ 100. The remaining setup is left unchanged.\n",
        "\n",
        "* Epochs: <u> **100** </u> <-- **Changed**\n",
        "* Learning rate: 0.1\n",
        "* Loss-function: CrossEntropy\n",
        "* Optimizer: SDG"
      ],
      "metadata": {
        "id": "ZXFBwlfLW9pP"
      }
    },
    {
      "cell_type": "markdown",
      "source": [
        "### Training - model 2"
      ],
      "metadata": {
        "id": "-lfYElmtQIL5"
      }
    },
    {
      "cell_type": "code",
      "source": [
        "####################################################################\n",
        "############################ MODEL 2 ###############################\n",
        "####################################################################\n",
        "\n",
        "# Initializing Hyperparameters\n",
        "epochs = 100 # CHANGED!!\n",
        "learning_rate = 0.1\n",
        "\n",
        "# 1. Creating a FeedForwardNetwork\n",
        "# 1.1 Structure (Architecture) of NN\n",
        "input_size = 4\n",
        "hidden_size = 10\n",
        "output_size = 3  # 3 classes for 0, 1, and 2\n",
        "\n",
        "model_net = nn.Sequential(torch.nn.Linear(input_size,hidden_size),\n",
        "                          torch.nn.ReLU(),\n",
        "                          torch.nn.Dropout(0.33),\n",
        "                          torch.nn.Linear(hidden_size,output_size),\n",
        "                          torch.nn.Softmax()\n",
        "                          )\n",
        "\n",
        "# 1.2 Loss Function\n",
        "loss_CEL = nn.CrossEntropyLoss()\n",
        "\n",
        "# 1.3 Optimization Approach\n",
        "optimizer = optim.SGD(model_net.parameters(), lr=learning_rate)\n",
        "\n",
        "# Loop over the number of epochs\n",
        "for epoch in tqdm_notebook(range(epochs), total=epochs, unit=\"epoch\"):\n",
        "    epoch_loss = 0.0\n",
        "\n",
        "    # Loop over each sample in the dataset\n",
        "    for i in range(X_train_tensor.size(0)):\n",
        "        # 2. Forward Pass\n",
        "        output = model_net(X_train_tensor[i])\n",
        "\n",
        "        # 3. FeedForward Evaluation\n",
        "        loss = loss_CEL(output.unsqueeze(0), y_train_tensor[i].unsqueeze(0)) # .unsqueeze(0) in this code is to ensure that the input to the CrossEntropyLoss function has the correct shape\n",
        "        optimizer.zero_grad() # Resets the gradients of all optimized torch.Tensor\n",
        "\n",
        "        # 4. Backward Pass / Gradient Calculation\n",
        "        loss.backward()\n",
        "\n",
        "        # Store the loss for each epoch\n",
        "        epoch_loss += loss.item()\n",
        "\n",
        "        # 5. Back Propagation / Update Weights\n",
        "        optimizer.step()\n",
        "\n",
        "    # Calculate and display average loss for the epoch\n",
        "    epoch_loss /= X_train_tensor.size(0)\n",
        "    if epoch + 1 == epochs:\n",
        "      print(f\"Epoch {epoch + 1} Average Loss: {epoch_loss:.10f}\")"
      ],
      "metadata": {
        "colab": {
          "base_uri": "https://localhost:8080/",
          "height": 168,
          "referenced_widgets": [
            "c4c24d68038a44649e2af58ea26e0d3e",
            "8e8bb1ef46f043e8b0a89d231dee671b",
            "fbed8217af6d4a4e9e87d7fbd5337f95",
            "48484026dde2486293dff51e49136601",
            "e87f5049b7904ebf866c8f01afbb7e2b",
            "f29372ced3e74c22bb732354587059da",
            "17010d16caf94d2fac5851df55379fe5",
            "1cd12e58060c41549f4b067d0012af7b",
            "8df9d175f2294ba5bae0940fba29ae3f",
            "a3709ecfa19348bda9c2f4f044e70521",
            "999d4ffe8883445aba255f3e8af99de4"
          ]
        },
        "id": "3cgrIQLEW76t",
        "outputId": "409338a7-ddf2-427a-d730-8c424c103553"
      },
      "execution_count": null,
      "outputs": [
        {
          "output_type": "stream",
          "name": "stderr",
          "text": [
            "<ipython-input-39-1215139225cb>:29: TqdmDeprecationWarning: This function will be removed in tqdm==5.0.0\n",
            "Please use `tqdm.notebook.tqdm` instead of `tqdm.tqdm_notebook`\n",
            "  for epoch in tqdm_notebook(range(epochs), total=epochs, unit=\"epoch\"):\n"
          ]
        },
        {
          "output_type": "display_data",
          "data": {
            "text/plain": [
              "  0%|          | 0/100 [00:00<?, ?epoch/s]"
            ],
            "application/vnd.jupyter.widget-view+json": {
              "version_major": 2,
              "version_minor": 0,
              "model_id": "c4c24d68038a44649e2af58ea26e0d3e"
            }
          },
          "metadata": {}
        },
        {
          "output_type": "stream",
          "name": "stderr",
          "text": [
            "/usr/local/lib/python3.10/dist-packages/torch/nn/modules/module.py:1518: UserWarning: Implicit dimension choice for softmax has been deprecated. Change the call to include dim=X as an argument.\n",
            "  return self._call_impl(*args, **kwargs)\n"
          ]
        },
        {
          "output_type": "stream",
          "name": "stdout",
          "text": [
            "Epoch 100 Average Loss: 0.5886686789\n"
          ]
        }
      ]
    },
    {
      "cell_type": "markdown",
      "source": [
        "### Testing - model 2"
      ],
      "metadata": {
        "id": "R2xyPe3-RWDE"
      }
    },
    {
      "cell_type": "code",
      "source": [
        "# Assuming you have loaded your test data into a tensor X_test_tensor with shape (num_samples, num_features)\n",
        "\n",
        "# Initialize an empty list to store the predictions\n",
        "predictions = []\n",
        "\n",
        "# Set your model to evaluation mode\n",
        "model_net.eval()\n",
        "\n",
        "# Loop through each sample in the test data\n",
        "for i in range(X_test_tensor.size(0)):\n",
        "    # Pass the test sample through the model\n",
        "    output = model_net(X_test_tensor[i])\n",
        "\n",
        "    # Get the predicted class by selecting the class with the highest probability\n",
        "    predicted_class = output.argmax().item()\n",
        "\n",
        "    # Append the predicted class to the list of predictions\n",
        "    predictions.append(predicted_class)\n",
        "\n",
        "# Convert the list of predictions to a tensor\n",
        "predicted_tensor = torch.tensor(predictions)\n",
        "\n",
        "# Using the predictions tensor to calculate accuracy and confusion matrix\n",
        "print(f\"\"\" The accuracy of Model 1 is {accuracy_score(y_test, predicted_tensor).round(4)*100}%\"\"\")\n",
        "\n",
        "\n",
        "print(f\"\"\" The classification report is as following:\n",
        "{classification_report(y_test, predicted_tensor)}\n",
        "        \"\"\")\n",
        "\n",
        "ConfusionMatrixDisplay(confusion_matrix(y_test,predicted_tensor)).plot()"
      ],
      "metadata": {
        "colab": {
          "base_uri": "https://localhost:8080/",
          "height": 678
        },
        "id": "9YQ7wFSReFIH",
        "outputId": "a28e09ad-d6be-4bb6-eb8d-1794b8ee8714"
      },
      "execution_count": null,
      "outputs": [
        {
          "output_type": "stream",
          "name": "stdout",
          "text": [
            " The accuracy of Model 1 is 98.83999999999999%\n",
            " The classification report is as following:\n",
            "              precision    recall  f1-score   support\n",
            "\n",
            "           0       1.00      0.97      0.99        35\n",
            "           1       1.00      1.00      1.00        31\n",
            "           2       0.95      1.00      0.98        20\n",
            "\n",
            "    accuracy                           0.99        86\n",
            "   macro avg       0.98      0.99      0.99        86\n",
            "weighted avg       0.99      0.99      0.99        86\n",
            "\n",
            "        \n"
          ]
        },
        {
          "output_type": "execute_result",
          "data": {
            "text/plain": [
              "<sklearn.metrics._plot.confusion_matrix.ConfusionMatrixDisplay at 0x7ad523d83910>"
            ]
          },
          "metadata": {},
          "execution_count": 40
        },
        {
          "output_type": "display_data",
          "data": {
            "text/plain": [
              "<Figure size 640x480 with 2 Axes>"
            ],
            "image/png": "[encoded data removed]"
          },
          "metadata": {}
        }
      ]
    },
    {
      "cell_type": "markdown",
      "source": [
        "As can be seen from the evaluation metrics, the overall accuracy is 99%, which is considered to be extreamly good. Only 1 observation are wrongfully predicted, and again this is predicted class 2, but are truly class 0.\n",
        "\n",
        "1. The model accuracy increased significantly to 99% by increasing number of epochs by a factor of 10.\n",
        "2. The model does still have trouble predicting class 0 labels correctly, although the overall accuracy is still extreamly high.\n",
        "\n"
      ],
      "metadata": {
        "id": "Q_wNVPxXRYrv"
      }
    },
    {
      "cell_type": "markdown",
      "source": [
        "## MODEL 3:\n",
        "\n",
        "In an attempt to further increase the accuracy and class 0 label accuracy, we try to decrease the leraning rate, in an attempt to see if smaller steps of learning can increase the accuracy. Therefore we decrease the learning rate from 0.1 $\\rightarrow$ 0.01\n",
        "\n",
        "* Epochs: 100\n",
        "* Learning rate: <u> **0.01** </u> <-- **Changed**\n",
        "* Loss-function: CrossEntropy\n",
        "* Optimizer: SDG"
      ],
      "metadata": {
        "id": "M-vOGcEEXRlZ"
      }
    },
    {
      "cell_type": "markdown",
      "source": [
        "### Training - model 3"
      ],
      "metadata": {
        "id": "j1Dphc0kS5xe"
      }
    },
    {
      "cell_type": "code",
      "source": [
        "####################################################################\n",
        "############################ MODEL 3 ###############################\n",
        "####################################################################\n",
        "\n",
        "# Initializing Hyperparameters\n",
        "epochs = 100\n",
        "learning_rate = 0.01 #CHANGED!!\n",
        "\n",
        "# 1. Creating a FeedForwardNetwork\n",
        "# 1.1 Structure (Architecture) of NN\n",
        "input_size = 4\n",
        "hidden_size = 10\n",
        "output_size = 3  # 3 classes for 0, 1, and 2\n",
        "\n",
        "model_net = nn.Sequential(torch.nn.Linear(input_size,hidden_size),\n",
        "                          torch.nn.ReLU(),\n",
        "                          torch.nn.Dropout(0.33),\n",
        "                          torch.nn.Linear(hidden_size,output_size),\n",
        "                          torch.nn.Softmax()\n",
        "                          )\n",
        "\n",
        "# 1.2 Loss Function\n",
        "loss_CEL = nn.CrossEntropyLoss()\n",
        "\n",
        "# 1.3 Optimization Approach\n",
        "optimizer = optim.SGD(model_net.parameters(), lr=learning_rate)\n",
        "\n",
        "# Loop over the number of epochs\n",
        "for epoch in tqdm_notebook(range(epochs), total=epochs, unit=\"epoch\"):\n",
        "    epoch_loss = 0.0\n",
        "\n",
        "    # Loop over each sample in the dataset\n",
        "    for i in range(X_train_tensor.size(0)):\n",
        "        # 2. Forward Pass\n",
        "        output = model_net(X_train_tensor[i])\n",
        "\n",
        "        # 3. FeedForward Evaluation\n",
        "        loss = loss_CEL(output.unsqueeze(0), y_train_tensor[i].unsqueeze(0)) # .unsqueeze(0) in this code is to ensure that the input to the CrossEntropyLoss function has the correct shape\n",
        "        optimizer.zero_grad() # Resets the gradients of all optimized torch.Tensor\n",
        "\n",
        "        # 4. Backward Pass / Gradient Calculation\n",
        "        loss.backward()\n",
        "\n",
        "        # Store the loss for each epoch\n",
        "        epoch_loss += loss.item()\n",
        "\n",
        "        # 5. Back Propagation / Update Weights\n",
        "        optimizer.step()\n",
        "\n",
        "    # Calculate and display average loss for the epoch\n",
        "    epoch_loss /= X_train_tensor.size(0)\n",
        "    if epoch + 1 == epochs:\n",
        "      print(f\"Epoch {epoch + 1} Average Loss: {epoch_loss:.10f}\")"
      ],
      "metadata": {
        "colab": {
          "base_uri": "https://localhost:8080/",
          "height": 168,
          "referenced_widgets": [
            "85c976fd1c2847a6bab15b41acfaf595",
            "0d14e2b82d484a5090bcb1459929209e",
            "9a9c2967b6324355b1aa704c812c5817",
            "ccc5145ab0f5411b81825896a7ff789e",
            "5c3b054c897e4694bf60039cc427c180",
            "18f9b8a458b94e4a8a88e4e204d10453",
            "35c4b3e0bc7549e0ae754cdc9e4cce54",
            "c280e7c2333d4ce091fa63c9e5a04acb",
            "158bb175da2a41b188328ea35baa3407",
            "3894fc78ac944472987295801b77a326",
            "0874130cba214cbaab3bf876ffcb924e"
          ]
        },
        "id": "ZH3of12IXR46",
        "outputId": "6ef3a0cf-3a29-415d-b56d-1222a6239b51"
      },
      "execution_count": null,
      "outputs": [
        {
          "output_type": "stream",
          "name": "stderr",
          "text": [
            "<ipython-input-44-ebb03bfe1f44>:29: TqdmDeprecationWarning: This function will be removed in tqdm==5.0.0\n",
            "Please use `tqdm.notebook.tqdm` instead of `tqdm.tqdm_notebook`\n",
            "  for epoch in tqdm_notebook(range(epochs), total=epochs, unit=\"epoch\"):\n"
          ]
        },
        {
          "output_type": "display_data",
          "data": {
            "text/plain": [
              "  0%|          | 0/100 [00:00<?, ?epoch/s]"
            ],
            "application/vnd.jupyter.widget-view+json": {
              "version_major": 2,
              "version_minor": 0,
              "model_id": "85c976fd1c2847a6bab15b41acfaf595"
            }
          },
          "metadata": {}
        },
        {
          "output_type": "stream",
          "name": "stderr",
          "text": [
            "/usr/local/lib/python3.10/dist-packages/torch/nn/modules/module.py:1518: UserWarning: Implicit dimension choice for softmax has been deprecated. Change the call to include dim=X as an argument.\n",
            "  return self._call_impl(*args, **kwargs)\n"
          ]
        },
        {
          "output_type": "stream",
          "name": "stdout",
          "text": [
            "Epoch 100 Average Loss: 0.6587857445\n"
          ]
        }
      ]
    },
    {
      "cell_type": "markdown",
      "source": [
        "### Testing - model 3"
      ],
      "metadata": {
        "id": "JsIVJLipTF0a"
      }
    },
    {
      "cell_type": "code",
      "source": [
        "# Assuming you have loaded your test data into a tensor X_test_tensor with shape (num_samples, num_features)\n",
        "\n",
        "# Initialize an empty list to store the predictions\n",
        "predictions = []\n",
        "\n",
        "# Set your model to evaluation mode\n",
        "model_net.eval()\n",
        "\n",
        "# Loop through each sample in the test data\n",
        "for i in range(X_test_tensor.size(0)):\n",
        "    # Pass the test sample through the model\n",
        "    output = model_net(X_test_tensor[i])\n",
        "\n",
        "    # Get the predicted class by selecting the class with the highest probability\n",
        "    predicted_class = output.argmax().item()\n",
        "\n",
        "    # Append the predicted class to the list of predictions\n",
        "    predictions.append(predicted_class)\n",
        "\n",
        "# Convert the list of predictions to a tensor\n",
        "predicted_tensor = torch.tensor(predictions)\n",
        "\n",
        "# Using the predictions tensor to calculate accuracy and confusion matrix\n",
        "print(f\"\"\" The accuracy of Model 1 is {accuracy_score(y_test, predicted_tensor).round(4)*100}%\"\"\")\n",
        "\n",
        "\n",
        "print(f\"\"\" The classification report is as following:\n",
        "{classification_report(y_test, predicted_tensor)}\n",
        "        \"\"\")\n",
        "\n",
        "ConfusionMatrixDisplay(confusion_matrix(y_test,predicted_tensor)).plot()"
      ],
      "metadata": {
        "colab": {
          "base_uri": "https://localhost:8080/",
          "height": 678
        },
        "id": "DMHzpqHKeD24",
        "outputId": "e020fff8-8fed-41cf-ee72-9ecf529db5ff"
      },
      "execution_count": null,
      "outputs": [
        {
          "output_type": "stream",
          "name": "stdout",
          "text": [
            " The accuracy of Model 1 is 97.67%\n",
            " The classification report is as following:\n",
            "              precision    recall  f1-score   support\n",
            "\n",
            "           0       1.00      0.94      0.97        35\n",
            "           1       1.00      1.00      1.00        31\n",
            "           2       0.91      1.00      0.95        20\n",
            "\n",
            "    accuracy                           0.98        86\n",
            "   macro avg       0.97      0.98      0.97        86\n",
            "weighted avg       0.98      0.98      0.98        86\n",
            "\n",
            "        \n"
          ]
        },
        {
          "output_type": "execute_result",
          "data": {
            "text/plain": [
              "<sklearn.metrics._plot.confusion_matrix.ConfusionMatrixDisplay at 0x7ad523dcfa30>"
            ]
          },
          "metadata": {},
          "execution_count": 45
        },
        {
          "output_type": "display_data",
          "data": {
            "text/plain": [
              "<Figure size 640x480 with 2 Axes>"
            ],
            "image/png": "[encoded data removed]"
          },
          "metadata": {}
        }
      ]
    },
    {
      "cell_type": "markdown",
      "source": [
        "The increase of the learning rate actually decresed the accuracy to 98%, where 2 observations are wrongfully classified. The two wrongfully classified cases are again predicted class 2, but are truly class 0.\n",
        "\n",
        "**The conclusion therefore is, that the model has trouble predicting correcty between class 0 and 2.** Although the overall accuracy is very high at 98%."
      ],
      "metadata": {
        "id": "lhtantxmTezQ"
      }
    },
    {
      "cell_type": "markdown",
      "source": [
        "## MODEL 4:\n",
        "\n",
        "In an attempt to further increase the accuracy, we try different layer modification.\n",
        "\n",
        "1. The first setup incorporates a dropout layer, the second setup does not.\n",
        "\n",
        "2. The second setup has two hidden layers with different node sizes (64 and 32) compared to the first setup's single hidden layer with 10 nodes.\n",
        "\n",
        "The setup is therefore the following:\n",
        "\n",
        "* Epochs: 100\n",
        "* Learning rate: 0.01\n",
        "* Loss-function: CrossEntropy\n",
        "* Optimizer: SDG\n",
        "\n",
        "* Layer modification:  **CHANGED!!**\n",
        "\n",
        "      model_net = nn.Sequential(\n",
        "        torch.nn.Linear(input_size, 64),\n",
        "        torch.nn.ReLU(),\n",
        "        torch.nn.Linear(64, 32),\n",
        "        torch.nn.ReLU(),\n",
        "        torch.nn.Linear(32, output_size),\n",
        "        torch.nn.Softmax())\n"
      ],
      "metadata": {
        "id": "8nUpyroLYCSA"
      }
    },
    {
      "cell_type": "markdown",
      "source": [
        "### Training - model 4"
      ],
      "metadata": {
        "id": "muAV8mOJXYxj"
      }
    },
    {
      "cell_type": "code",
      "source": [
        "####################################################################\n",
        "############################ MODEL 4 ###############################\n",
        "####################################################################\n",
        "\n",
        "# Initializing Hyperparameters\n",
        "epochs = 100\n",
        "learning_rate = 0.01\n",
        "\n",
        "# 1. Creating a FeedForwardNetwork\n",
        "# 1.1 Structure (Architecture) of NN\n",
        "input_size = 4\n",
        "output_size = 3  # 3 classes for 0, 1, and 2\n",
        "\n",
        "############################ CHANGED #################################\n",
        "model_net = nn.Sequential(\n",
        "    torch.nn.Linear(input_size, 64),\n",
        "    torch.nn.ReLU(),\n",
        "    torch.nn.Linear(64, 32),\n",
        "    torch.nn.ReLU(),\n",
        "    torch.nn.Linear(32, output_size),\n",
        "    torch.nn.Softmax()\n",
        ")\n",
        "####################################################################\n",
        "\n",
        "# 1.2 Loss Function\n",
        "loss_CEL = nn.CrossEntropyLoss()\n",
        "\n",
        "# 1.3 Optimization Approach\n",
        "optimizer = optim.SGD(model_net.parameters(), lr=learning_rate)\n",
        "\n",
        "# Loop over the number of epochs\n",
        "for epoch in tqdm_notebook(range(epochs), total=epochs, unit=\"epoch\"):\n",
        "    epoch_loss = 0.0\n",
        "\n",
        "    # Loop over each sample in the dataset\n",
        "    for i in range(X_train_tensor.size(0)):\n",
        "        # 2. Forward Pass\n",
        "        output = model_net(X_train_tensor[i])\n",
        "\n",
        "        # 3. FeedForward Evaluation\n",
        "        loss = loss_CEL(output.unsqueeze(0), y_train_tensor[i].unsqueeze(0)) # .unsqueeze(0) in this code is to ensure that the input to the CrossEntropyLoss function has the correct shape\n",
        "        optimizer.zero_grad() # Resets the gradients of all optimized torch.Tensor\n",
        "\n",
        "        # 4. Backward Pass / Gradient Calculation\n",
        "        loss.backward()\n",
        "\n",
        "        # Store the loss for each epoch\n",
        "        epoch_loss += loss.item()\n",
        "\n",
        "        # 5. Back Propagation / Update Weights\n",
        "        optimizer.step()\n",
        "\n",
        "    # Calculate and display average loss for the epoch\n",
        "    epoch_loss /= X_train_tensor.size(0)\n",
        "    if epoch + 1 == epochs:\n",
        "      print(f\"Epoch {epoch + 1} Average Loss: {epoch_loss:.10f}\")"
      ],
      "metadata": {
        "colab": {
          "base_uri": "https://localhost:8080/",
          "height": 168,
          "referenced_widgets": [
            "1c979f1bdc7c494f94f5e16211dd715d",
            "7d44f99f1faf4efb881c6f2ef207f673",
            "e95ff53515f14444bf3b503d68c34352",
            "b76e64c36c2d4af7a6e4e19cedd7f272",
            "eef14dc98026485a9db648f481cf379c",
            "d545c5f8b6a54b8abaf52760e76e4f80",
            "fd31915b57c74c09aa1b5f0de1de22f0",
            "9e7627e7650a4858a4f7903d30b06e2f",
            "ffa5f60055e54d3d8d6dcd318946c2fe",
            "39dc419b0c484411a369932405265939",
            "be6f02e698c348d9beafc7c9aad15159"
          ]
        },
        "id": "Ft8i46tuYA6G",
        "outputId": "2de98cb1-a8e4-49e2-b44d-2e2c4bee7b40"
      },
      "execution_count": null,
      "outputs": [
        {
          "output_type": "stream",
          "name": "stderr",
          "text": [
            "<ipython-input-46-10f777d382a5>:32: TqdmDeprecationWarning: This function will be removed in tqdm==5.0.0\n",
            "Please use `tqdm.notebook.tqdm` instead of `tqdm.tqdm_notebook`\n",
            "  for epoch in tqdm_notebook(range(epochs), total=epochs, unit=\"epoch\"):\n"
          ]
        },
        {
          "output_type": "display_data",
          "data": {
            "text/plain": [
              "  0%|          | 0/100 [00:00<?, ?epoch/s]"
            ],
            "application/vnd.jupyter.widget-view+json": {
              "version_major": 2,
              "version_minor": 0,
              "model_id": "1c979f1bdc7c494f94f5e16211dd715d"
            }
          },
          "metadata": {}
        },
        {
          "output_type": "stream",
          "name": "stderr",
          "text": [
            "/usr/local/lib/python3.10/dist-packages/torch/nn/modules/module.py:1518: UserWarning: Implicit dimension choice for softmax has been deprecated. Change the call to include dim=X as an argument.\n",
            "  return self._call_impl(*args, **kwargs)\n"
          ]
        },
        {
          "output_type": "stream",
          "name": "stdout",
          "text": [
            "Epoch 100 Average Loss: 0.5542210690\n"
          ]
        }
      ]
    },
    {
      "cell_type": "markdown",
      "source": [
        "### Testing - model 4"
      ],
      "metadata": {
        "id": "hk5Jkc5ZXWUb"
      }
    },
    {
      "cell_type": "code",
      "source": [
        "# Assuming you have loaded your test data into a tensor X_test_tensor with shape (num_samples, num_features)\n",
        "\n",
        "# Initialize an empty list to store the predictions\n",
        "predictions = []\n",
        "\n",
        "# Set your model to evaluation mode\n",
        "model_net.eval()\n",
        "\n",
        "# Loop through each sample in the test data\n",
        "for i in range(X_test_tensor.size(0)):\n",
        "    # Pass the test sample through the model\n",
        "    output = model_net(X_test_tensor[i])\n",
        "\n",
        "    # Get the predicted class by selecting the class with the highest probability\n",
        "    predicted_class = output.argmax().item()\n",
        "\n",
        "    # Append the predicted class to the list of predictions\n",
        "    predictions.append(predicted_class)\n",
        "\n",
        "# Convert the list of predictions to a tensor\n",
        "predicted_tensor = torch.tensor(predictions)\n",
        "\n",
        "# Using the predictions tensor to calculate accuracy and confusion matrix\n",
        "print(f\"\"\" The accuracy of Model 1 is {accuracy_score(y_test, predicted_tensor).round(4)*100}%\"\"\")\n",
        "\n",
        "\n",
        "print(f\"\"\" The classification report is as following:\n",
        "{classification_report(y_test, predicted_tensor)}\n",
        "        \"\"\")\n",
        "\n",
        "ConfusionMatrixDisplay(confusion_matrix(y_test,predicted_tensor)).plot()"
      ],
      "metadata": {
        "colab": {
          "base_uri": "https://localhost:8080/",
          "height": 678
        },
        "id": "znNHlsFceCIz",
        "outputId": "ac838027-0761-427a-cc88-a0b098880618"
      },
      "execution_count": null,
      "outputs": [
        {
          "output_type": "stream",
          "name": "stdout",
          "text": [
            " The accuracy of Model 1 is 98.83999999999999%\n",
            " The classification report is as following:\n",
            "              precision    recall  f1-score   support\n",
            "\n",
            "           0       1.00      0.97      0.99        35\n",
            "           1       1.00      1.00      1.00        31\n",
            "           2       0.95      1.00      0.98        20\n",
            "\n",
            "    accuracy                           0.99        86\n",
            "   macro avg       0.98      0.99      0.99        86\n",
            "weighted avg       0.99      0.99      0.99        86\n",
            "\n",
            "        \n"
          ]
        },
        {
          "output_type": "execute_result",
          "data": {
            "text/plain": [
              "<sklearn.metrics._plot.confusion_matrix.ConfusionMatrixDisplay at 0x7ad523a04ca0>"
            ]
          },
          "metadata": {},
          "execution_count": 47
        },
        {
          "output_type": "display_data",
          "data": {
            "text/plain": [
              "<Figure size 640x480 with 2 Axes>"
            ],
            "image/png": "[encoded data removed]"
          },
          "metadata": {}
        }
      ]
    },
    {
      "cell_type": "markdown",
      "source": [
        "In conclusion, the different setup did not increase the overall accuracy compared to model 2. The model 4 still maintains the accuracy of 99% with 1 wrongfully classified observation. The 1  wrongfully predicted are again predicted class 2 while truly being class 0."
      ],
      "metadata": {
        "id": "sYU1xopGXeZE"
      }
    },
    {
      "cell_type": "markdown",
      "source": [
        "## MODEL 5:\n",
        "\n",
        "In an attempt to further increase the accuracy, we try to increase the number of depth and complexity of the model. The setup other than the layer-sructure is left unchanged.\n",
        "\n",
        "The layer is different with respect to:\n",
        "1. The second setup (model 5) has an additional hidden layer compared to the first setup (model 4), resulting in a deeper network.\n",
        "\n",
        "2. The node sizes in the second setup (model 5) are larger than those in the first setup (model 4), which can potentially capture more complex patterns but may also increase the risk of overfitting, especially with more parameters to train.\n",
        "\n",
        "3. The second setup (model 5) introduces more non-linearity with additional ReLU activation functions.\n",
        "\n",
        "\n",
        "\n",
        "**The setup of model 5 is:**\n",
        "* Epochs: 100\n",
        "* Learning rate: 0.01\n",
        "* Loss-function: CrossEntropy\n",
        "* Optimizer: SDG\n",
        "\n",
        "* Layer modification:\n",
        "\n",
        "      model_net = nn.Sequential(\n",
        "        torch.nn.Linear(input_size, 128),\n",
        "        torch.nn.ReLU(),\n",
        "        torch.nn.Linear(128, 64),\n",
        "        torch.nn.ReLU(),\n",
        "        torch.nn.Linear(64, 32),\n",
        "        torch.nn.ReLU(),\n",
        "        torch.nn.Linear(32, output_size),\n",
        "        torch.nn.Softmax()\n",
        "                            )"
      ],
      "metadata": {
        "id": "-qXZ7cCZa57k"
      }
    },
    {
      "cell_type": "markdown",
      "source": [
        "### Training - model 5"
      ],
      "metadata": {
        "id": "v2bPdDsaYsbG"
      }
    },
    {
      "cell_type": "code",
      "source": [
        "####################################################################\n",
        "############################ MODEL 5 ###############################\n",
        "####################################################################\n",
        "\n",
        "# Initializing Hyperparameters\n",
        "epochs = 100\n",
        "learning_rate = 0.01\n",
        "\n",
        "# 1. Creating a FeedForwardNetwork\n",
        "# 1.1 Structure (Architecture) of NN\n",
        "input_size = 4\n",
        "output_size = 3  # 3 classes for 0, 1, and 2\n",
        "\n",
        "############################ CHANGED #################################\n",
        "model_net = nn.Sequential(\n",
        "    torch.nn.Linear(input_size, 128),\n",
        "    torch.nn.ReLU(),\n",
        "    torch.nn.Linear(128, 64),\n",
        "    torch.nn.ReLU(),\n",
        "    torch.nn.Linear(64, 32),\n",
        "    torch.nn.ReLU(),\n",
        "    torch.nn.Linear(32, output_size),\n",
        "    torch.nn.Softmax()\n",
        "    )\n",
        "####################################################################\n",
        "\n",
        "# 1.2 Loss Function\n",
        "loss_CEL = nn.CrossEntropyLoss()\n",
        "\n",
        "# 1.3 Optimization Approach\n",
        "optimizer = optim.SGD(model_net.parameters(), lr=learning_rate)\n",
        "\n",
        "# Loop over the number of epochs\n",
        "for epoch in tqdm_notebook(range(epochs), total=epochs, unit=\"epoch\"):\n",
        "    epoch_loss = 0.0\n",
        "\n",
        "    # Loop over each sample in the dataset\n",
        "    for i in range(X_train_tensor.size(0)):\n",
        "        # 2. Forward Pass\n",
        "        output = model_net(X_train_tensor[i])\n",
        "\n",
        "        # 3. FeedForward Evaluation\n",
        "        loss = loss_CEL(output.unsqueeze(0), y_train_tensor[i].unsqueeze(0)) # .unsqueeze(0) in this code is to ensure that the input to the CrossEntropyLoss function has the correct shape\n",
        "        optimizer.zero_grad() # Resets the gradients of all optimized torch.Tensor\n",
        "\n",
        "        # 4. Backward Pass / Gradient Calculation\n",
        "        loss.backward()\n",
        "\n",
        "        # Store the loss for each epoch\n",
        "        epoch_loss += loss.item()\n",
        "\n",
        "        # 5. Back Propagation / Update Weights\n",
        "        optimizer.step()\n",
        "\n",
        "    # Calculate and display average loss for the epoch\n",
        "    epoch_loss /= X_train_tensor.size(0)\n",
        "    if epoch + 1 == epochs:\n",
        "      print(f\"Epoch {epoch + 1} Average Loss: {epoch_loss:.10f}\")"
      ],
      "metadata": {
        "colab": {
          "base_uri": "https://localhost:8080/",
          "height": 168,
          "referenced_widgets": [
            "18362be79d8e4586bc6c37288973f5a7",
            "d5cab9e21f5844f28c3e774893cf03d2",
            "638c475ce8134875a091e504cfb06a98",
            "8a6f4b8ed4ca48958f1efb09fd5f6482",
            "5878231e9e814d1395c35bc4f9318edf",
            "c9fcf06f2982493b962eddfb0ba30291",
            "92926d99913e4f9faf165e029eda1c25",
            "2cac5d9b83cd486d8fb35c4a54570e73",
            "0c42cafff8e74890921c4a57acffe50f",
            "9c684a9ff35648cf90b7415e09757f7b",
            "52c200523803422b805d7aa1858bc7b1"
          ]
        },
        "id": "LOwkAiHHa5XP",
        "outputId": "eb742999-ab45-4e89-a876-a3c088408f6b"
      },
      "execution_count": null,
      "outputs": [
        {
          "output_type": "stream",
          "name": "stderr",
          "text": [
            "<ipython-input-48-4cba9e7881e0>:34: TqdmDeprecationWarning: This function will be removed in tqdm==5.0.0\n",
            "Please use `tqdm.notebook.tqdm` instead of `tqdm.tqdm_notebook`\n",
            "  for epoch in tqdm_notebook(range(epochs), total=epochs, unit=\"epoch\"):\n"
          ]
        },
        {
          "output_type": "display_data",
          "data": {
            "text/plain": [
              "  0%|          | 0/100 [00:00<?, ?epoch/s]"
            ],
            "application/vnd.jupyter.widget-view+json": {
              "version_major": 2,
              "version_minor": 0,
              "model_id": "18362be79d8e4586bc6c37288973f5a7"
            }
          },
          "metadata": {}
        },
        {
          "output_type": "stream",
          "name": "stderr",
          "text": [
            "/usr/local/lib/python3.10/dist-packages/torch/nn/modules/module.py:1518: UserWarning: Implicit dimension choice for softmax has been deprecated. Change the call to include dim=X as an argument.\n",
            "  return self._call_impl(*args, **kwargs)\n"
          ]
        },
        {
          "output_type": "stream",
          "name": "stdout",
          "text": [
            "Epoch 100 Average Loss: 0.5523410681\n"
          ]
        }
      ]
    },
    {
      "cell_type": "markdown",
      "source": [
        "### Testing - model 5"
      ],
      "metadata": {
        "id": "ru_vCdUPYu5O"
      }
    },
    {
      "cell_type": "code",
      "source": [
        "# Assuming you have loaded your test data into a tensor X_test_tensor with shape (num_samples, num_features)\n",
        "\n",
        "# Initialize an empty list to store the predictions\n",
        "predictions = []\n",
        "\n",
        "# Set your model to evaluation mode\n",
        "model_net.eval()\n",
        "\n",
        "# Loop through each sample in the test data\n",
        "for i in range(X_test_tensor.size(0)):\n",
        "    # Pass the test sample through the model\n",
        "    output = model_net(X_test_tensor[i])\n",
        "\n",
        "    # Get the predicted class by selecting the class with the highest probability\n",
        "    predicted_class = output.argmax().item()\n",
        "\n",
        "    # Append the predicted class to the list of predictions\n",
        "    predictions.append(predicted_class)\n",
        "\n",
        "# Convert the list of predictions to a tensor\n",
        "predicted_tensor = torch.tensor(predictions)\n",
        "\n",
        "# Using the predictions tensor to calculate accuracy and confusion matrix\n",
        "print(f\"\"\" The accuracy of Model 1 is {accuracy_score(y_test, predicted_tensor).round(4)*100}%\"\"\")\n",
        "\n",
        "\n",
        "print(f\"\"\" The classification report is as following:\n",
        "{classification_report(y_test, predicted_tensor)}\n",
        "        \"\"\")\n",
        "\n",
        "ConfusionMatrixDisplay(confusion_matrix(y_test,predicted_tensor)).plot()"
      ],
      "metadata": {
        "id": "2LpIY7hrGHKa",
        "colab": {
          "base_uri": "https://localhost:8080/",
          "height": 678
        },
        "outputId": "7362e1e2-a3af-44b7-af45-0e5375b2bb9a"
      },
      "execution_count": null,
      "outputs": [
        {
          "output_type": "stream",
          "name": "stdout",
          "text": [
            " The accuracy of Model 1 is 97.67%\n",
            " The classification report is as following:\n",
            "              precision    recall  f1-score   support\n",
            "\n",
            "           0       1.00      0.94      0.97        35\n",
            "           1       1.00      1.00      1.00        31\n",
            "           2       0.91      1.00      0.95        20\n",
            "\n",
            "    accuracy                           0.98        86\n",
            "   macro avg       0.97      0.98      0.97        86\n",
            "weighted avg       0.98      0.98      0.98        86\n",
            "\n",
            "        \n"
          ]
        },
        {
          "output_type": "execute_result",
          "data": {
            "text/plain": [
              "<sklearn.metrics._plot.confusion_matrix.ConfusionMatrixDisplay at 0x7ad523983df0>"
            ]
          },
          "metadata": {},
          "execution_count": 49
        },
        {
          "output_type": "display_data",
          "data": {
            "text/plain": [
              "<Figure size 640x480 with 2 Axes>"
            ],
            "image/png": "[encoded data removed]"
          },
          "metadata": {}
        }
      ]
    },
    {
      "cell_type": "markdown",
      "source": [
        "The overall accuracy decreased to 98% compared to model 4. The increased complexity did not increase the accuracy. The 2 wrongfully predicted observations are similar to the other models, in which the model wrongfully predicted 2 case of class 0 observations as class 2."
      ],
      "metadata": {
        "id": "S5qortHsY3n8"
      }
    },
    {
      "cell_type": "markdown",
      "source": [
        "---\n",
        "# Conclusions:\n",
        "\n",
        "The overall accuracy of the five models are in genereal good.\n",
        "\n",
        "Model 1 seems to have a problem regarding predicting class 0 (Adelie) in which it falsely predicted class 2 (Chinstrap) in 4 cases.\n",
        "\n",
        "Model 2, which increased the epohs to 100, also seemes to do this, but minimize the cases to only 1 instances of wrongfully predicting 2 instead of 0. Overall the F1-score for model 2 is high alongside a very high accuracy.\n",
        "\n",
        "Model 3, which lowered the lerning rate, decresed the accuracy. In 2  cases, it aswell predict class 2 in class 0 instances, similar to model 1 and 2.\n",
        "\n",
        "Model 4 which experiments with a different layer-setup is very good at predicting the testing data. It's the overall best fitted model, alongside model 2, based on F1-score, accuracy and with only 1 wrong predictions. It again predicts 1 case of class 2 which where in fact class 0 (same case as model 1 and 2 and 3). The overall accuracy is the higest at 99%.\n",
        "\n",
        "Model 5 also experiments with a different layer setup and again the model performs pretty well. Compared to model 4, model 5 increase the complexity and depth of the model. This however, does not seem to benifit the accuracy, as the accuracy decreses to 98%, with 2 cases of wrongfully predicting class 2 for class 0 penguins.\n",
        "\n",
        "\n",
        "> **Overall**  the best model seems to be model 4 and 2. Model 2 which use a simple model with a hidden size of 10, epochs of 100 and lerning rate of 0.1 is as good as model 4, which uses 100 epochs, 0.01 learning rate and a layer-setup with linear, ReLU, linear, ReLU, linear and SoftMax with a maximum of 64 neurons along the way for model 4. The increased complexity of model 5 and increased risk of overfitting for, compared to model 4, does not seem to increase the accuracy."
      ],
      "metadata": {
        "id": "fz2Fu4_Yby8b"
      }
    }
  ]
}